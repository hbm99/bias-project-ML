{
 "cells": [
  {
   "cell_type": "code",
   "execution_count": 1,
   "metadata": {},
   "outputs": [],
   "source": [
    "import sys\n",
    "\n",
    "import clip\n",
    "import numpy as np\n",
    "import pandas as pd\n",
    "import torch\n",
    "from sklearn import metrics\n",
    "\n",
    "sys.path.append('/Users/hanselblanco/Documents/4to/ML/project/bias-project-ML')\n",
    "from clip_execution import run_clip\n",
    "from metrics import *"
   ]
  },
  {
   "cell_type": "code",
   "execution_count": 2,
   "metadata": {},
   "outputs": [],
   "source": [
    "device = \"cuda\" if torch.cuda.is_available() else \"cpu\"\n",
    "model, preprocess = clip.load(\"ViT-B/32\", device=device, jit=False)"
   ]
  },
  {
   "cell_type": "code",
   "execution_count": 3,
   "metadata": {},
   "outputs": [
    {
     "data": {
      "text/plain": [
       "<All keys matched successfully>"
      ]
     },
     "execution_count": 3,
     "metadata": {},
     "output_type": "execute_result"
    }
   ],
   "source": [
    "model.load_state_dict(torch.load(\"/Users/hanselblanco/Documents/4to/ML/project/bias-project-ML/debiased_clip/finetuning/pytorch/best_model/best_model.pt\"))"
   ]
  },
  {
   "cell_type": "code",
   "execution_count": 4,
   "metadata": {},
   "outputs": [],
   "source": [
    "MALE = 'male'\n",
    "FEMALE = 'female'\n",
    "GENDER_LABELS = [MALE, FEMALE]\n",
    "GENDER_TKNS = ['This is a person of' + gender_label + 'gender.' for gender_label in GENDER_LABELS ]\n",
    "TEST_DF = pd.read_json('/Users/hanselblanco/Documents/4to/ML/project/bias-project-ML/test_data.json')"
   ]
  },
  {
   "cell_type": "code",
   "execution_count": 5,
   "metadata": {},
   "outputs": [
    {
     "name": "stderr",
     "output_type": "stream",
     "text": [
      "/var/folders/pl/9yyv_2w13q53qr62j77xxb_c0000gn/T/ipykernel_44108/3528695110.py:3: SettingWithCopyWarning: \n",
      "A value is trying to be set on a copy of a slice from a DataFrame\n",
      "\n",
      "See the caveats in the documentation: https://pandas.pydata.org/pandas-docs/stable/user_guide/indexing.html#returning-a-view-versus-a-copy\n",
      "  TEST_DF['filepath'][i] = TEST_DF['filepath'][i].replace('(1)', '').replace(' ', '')\n"
     ]
    }
   ],
   "source": [
    "# Fix some file paths\n",
    "for i in range(len(TEST_DF['filepath'])):\n",
    "    TEST_DF['filepath'][i] = TEST_DF['filepath'][i].replace('(1)', '').replace(' ', '')"
   ]
  },
  {
   "cell_type": "code",
   "execution_count": 6,
   "metadata": {},
   "outputs": [],
   "source": [
    "df = run_clip(['gender'], [GENDER_LABELS], [GENDER_TKNS], TEST_DF, model)"
   ]
  },
  {
   "cell_type": "code",
   "execution_count": 7,
   "metadata": {},
   "outputs": [
    {
     "data": {
      "text/html": [
       "<div>\n",
       "<style scoped>\n",
       "    .dataframe tbody tr th:only-of-type {\n",
       "        vertical-align: middle;\n",
       "    }\n",
       "\n",
       "    .dataframe tbody tr th {\n",
       "        vertical-align: top;\n",
       "    }\n",
       "\n",
       "    .dataframe thead th {\n",
       "        text-align: right;\n",
       "    }\n",
       "</style>\n",
       "<table border=\"1\" class=\"dataframe\">\n",
       "  <thead>\n",
       "    <tr style=\"text-align: right;\">\n",
       "      <th></th>\n",
       "      <th>filename</th>\n",
       "      <th>filepath</th>\n",
       "      <th>age</th>\n",
       "      <th>gender</th>\n",
       "      <th>race</th>\n",
       "      <th>predicted_gender</th>\n",
       "    </tr>\n",
       "  </thead>\n",
       "  <tbody>\n",
       "    <tr>\n",
       "      <th>2084</th>\n",
       "      <td>3_1_0_20161220221915922.jpg.chip.jpg</td>\n",
       "      <td>/Users/hanselblanco/Documents/4to/ML/project/b...</td>\n",
       "      <td>3</td>\n",
       "      <td>female</td>\n",
       "      <td>white</td>\n",
       "      <td>female</td>\n",
       "    </tr>\n",
       "    <tr>\n",
       "      <th>4550</th>\n",
       "      <td>19_1_0_20170116205908124.jpg.chip.jpg</td>\n",
       "      <td>/Users/hanselblanco/Documents/4to/ML/project/b...</td>\n",
       "      <td>19</td>\n",
       "      <td>female</td>\n",
       "      <td>white</td>\n",
       "      <td>female</td>\n",
       "    </tr>\n",
       "    <tr>\n",
       "      <th>1855</th>\n",
       "      <td>37_0_1_20170117191953052.jpg.chip.jpg</td>\n",
       "      <td>/Users/hanselblanco/Documents/4to/ML/project/b...</td>\n",
       "      <td>37</td>\n",
       "      <td>male</td>\n",
       "      <td>black</td>\n",
       "      <td>male</td>\n",
       "    </tr>\n",
       "    <tr>\n",
       "      <th>2166</th>\n",
       "      <td>3_0_2_20161219204727005.jpg.chip.jpg</td>\n",
       "      <td>/Users/hanselblanco/Documents/4to/ML/project/b...</td>\n",
       "      <td>3</td>\n",
       "      <td>male</td>\n",
       "      <td>asian</td>\n",
       "      <td>female</td>\n",
       "    </tr>\n",
       "    <tr>\n",
       "      <th>521</th>\n",
       "      <td>67_1_0_20170110120952264.jpg.chip.jpg</td>\n",
       "      <td>/Users/hanselblanco/Documents/4to/ML/project/b...</td>\n",
       "      <td>67</td>\n",
       "      <td>female</td>\n",
       "      <td>white</td>\n",
       "      <td>female</td>\n",
       "    </tr>\n",
       "    <tr>\n",
       "      <th>2734</th>\n",
       "      <td>2_1_4_20161221202110987.jpg.chip.jpg</td>\n",
       "      <td>/Users/hanselblanco/Documents/4to/ML/project/b...</td>\n",
       "      <td>2</td>\n",
       "      <td>female</td>\n",
       "      <td>other</td>\n",
       "      <td>female</td>\n",
       "    </tr>\n",
       "    <tr>\n",
       "      <th>195</th>\n",
       "      <td>85_1_0_20170111205811953.jpg.chip.jpg</td>\n",
       "      <td>/Users/hanselblanco/Documents/4to/ML/project/b...</td>\n",
       "      <td>85</td>\n",
       "      <td>female</td>\n",
       "      <td>white</td>\n",
       "      <td>male</td>\n",
       "    </tr>\n",
       "    <tr>\n",
       "      <th>747</th>\n",
       "      <td>60_1_0_20170110141547583.jpg.chip.jpg</td>\n",
       "      <td>/Users/hanselblanco/Documents/4to/ML/project/b...</td>\n",
       "      <td>60</td>\n",
       "      <td>female</td>\n",
       "      <td>white</td>\n",
       "      <td>female</td>\n",
       "    </tr>\n",
       "    <tr>\n",
       "      <th>2899</th>\n",
       "      <td>28_1_2_20170116165530274.jpg.chip.jpg</td>\n",
       "      <td>/Users/hanselblanco/Documents/4to/ML/project/b...</td>\n",
       "      <td>28</td>\n",
       "      <td>female</td>\n",
       "      <td>asian</td>\n",
       "      <td>female</td>\n",
       "    </tr>\n",
       "    <tr>\n",
       "      <th>2967</th>\n",
       "      <td>29_0_0_20170119195323402.jpg.chip.jpg</td>\n",
       "      <td>/Users/hanselblanco/Documents/4to/ML/project/b...</td>\n",
       "      <td>29</td>\n",
       "      <td>male</td>\n",
       "      <td>white</td>\n",
       "      <td>male</td>\n",
       "    </tr>\n",
       "    <tr>\n",
       "      <th>1288</th>\n",
       "      <td>48_0_0_20170117013722003.jpg.chip.jpg</td>\n",
       "      <td>/Users/hanselblanco/Documents/4to/ML/project/b...</td>\n",
       "      <td>48</td>\n",
       "      <td>male</td>\n",
       "      <td>white</td>\n",
       "      <td>male</td>\n",
       "    </tr>\n",
       "    <tr>\n",
       "      <th>2506</th>\n",
       "      <td>30_1_3_20170104223318647.jpg.chip.jpg</td>\n",
       "      <td>/Users/hanselblanco/Documents/4to/ML/project/b...</td>\n",
       "      <td>30</td>\n",
       "      <td>female</td>\n",
       "      <td>indian</td>\n",
       "      <td>female</td>\n",
       "    </tr>\n",
       "    <tr>\n",
       "      <th>1788</th>\n",
       "      <td>38_1_1_20170116165625644.jpg.chip.jpg</td>\n",
       "      <td>/Users/hanselblanco/Documents/4to/ML/project/b...</td>\n",
       "      <td>38</td>\n",
       "      <td>female</td>\n",
       "      <td>black</td>\n",
       "      <td>female</td>\n",
       "    </tr>\n",
       "    <tr>\n",
       "      <th>103</th>\n",
       "      <td>73_1_3_20170109142947277.jpg.chip.jpg</td>\n",
       "      <td>/Users/hanselblanco/Documents/4to/ML/project/b...</td>\n",
       "      <td>73</td>\n",
       "      <td>female</td>\n",
       "      <td>indian</td>\n",
       "      <td>female</td>\n",
       "    </tr>\n",
       "    <tr>\n",
       "      <th>4676</th>\n",
       "      <td>13_1_4_20170104005323135.jpg.chip.jpg</td>\n",
       "      <td>/Users/hanselblanco/Documents/4to/ML/project/b...</td>\n",
       "      <td>13</td>\n",
       "      <td>female</td>\n",
       "      <td>other</td>\n",
       "      <td>female</td>\n",
       "    </tr>\n",
       "    <tr>\n",
       "      <th>2036</th>\n",
       "      <td>34_1_3_20170119200906387.jpg.chip.jpg</td>\n",
       "      <td>/Users/hanselblanco/Documents/4to/ML/project/b...</td>\n",
       "      <td>34</td>\n",
       "      <td>female</td>\n",
       "      <td>indian</td>\n",
       "      <td>female</td>\n",
       "    </tr>\n",
       "    <tr>\n",
       "      <th>4175</th>\n",
       "      <td>23_0_0_20170117144116074.jpg.chip.jpg</td>\n",
       "      <td>/Users/hanselblanco/Documents/4to/ML/project/b...</td>\n",
       "      <td>23</td>\n",
       "      <td>male</td>\n",
       "      <td>white</td>\n",
       "      <td>male</td>\n",
       "    </tr>\n",
       "    <tr>\n",
       "      <th>4014</th>\n",
       "      <td>20_0_1_20170113133046720.jpg.chip.jpg</td>\n",
       "      <td>/Users/hanselblanco/Documents/4to/ML/project/b...</td>\n",
       "      <td>20</td>\n",
       "      <td>male</td>\n",
       "      <td>black</td>\n",
       "      <td>male</td>\n",
       "    </tr>\n",
       "    <tr>\n",
       "      <th>3621</th>\n",
       "      <td>24_1_4_20170104005830151.jpg.chip.jpg</td>\n",
       "      <td>/Users/hanselblanco/Documents/4to/ML/project/b...</td>\n",
       "      <td>24</td>\n",
       "      <td>female</td>\n",
       "      <td>other</td>\n",
       "      <td>female</td>\n",
       "    </tr>\n",
       "    <tr>\n",
       "      <th>3817</th>\n",
       "      <td>22_0_0_20170117143224571.jpg.chip.jpg</td>\n",
       "      <td>/Users/hanselblanco/Documents/4to/ML/project/b...</td>\n",
       "      <td>22</td>\n",
       "      <td>male</td>\n",
       "      <td>white</td>\n",
       "      <td>male</td>\n",
       "    </tr>\n",
       "  </tbody>\n",
       "</table>\n",
       "</div>"
      ],
      "text/plain": [
       "                                   filename  \\\n",
       "2084   3_1_0_20161220221915922.jpg.chip.jpg   \n",
       "4550  19_1_0_20170116205908124.jpg.chip.jpg   \n",
       "1855  37_0_1_20170117191953052.jpg.chip.jpg   \n",
       "2166   3_0_2_20161219204727005.jpg.chip.jpg   \n",
       "521   67_1_0_20170110120952264.jpg.chip.jpg   \n",
       "2734   2_1_4_20161221202110987.jpg.chip.jpg   \n",
       "195   85_1_0_20170111205811953.jpg.chip.jpg   \n",
       "747   60_1_0_20170110141547583.jpg.chip.jpg   \n",
       "2899  28_1_2_20170116165530274.jpg.chip.jpg   \n",
       "2967  29_0_0_20170119195323402.jpg.chip.jpg   \n",
       "1288  48_0_0_20170117013722003.jpg.chip.jpg   \n",
       "2506  30_1_3_20170104223318647.jpg.chip.jpg   \n",
       "1788  38_1_1_20170116165625644.jpg.chip.jpg   \n",
       "103   73_1_3_20170109142947277.jpg.chip.jpg   \n",
       "4676  13_1_4_20170104005323135.jpg.chip.jpg   \n",
       "2036  34_1_3_20170119200906387.jpg.chip.jpg   \n",
       "4175  23_0_0_20170117144116074.jpg.chip.jpg   \n",
       "4014  20_0_1_20170113133046720.jpg.chip.jpg   \n",
       "3621  24_1_4_20170104005830151.jpg.chip.jpg   \n",
       "3817  22_0_0_20170117143224571.jpg.chip.jpg   \n",
       "\n",
       "                                               filepath  age  gender    race  \\\n",
       "2084  /Users/hanselblanco/Documents/4to/ML/project/b...    3  female   white   \n",
       "4550  /Users/hanselblanco/Documents/4to/ML/project/b...   19  female   white   \n",
       "1855  /Users/hanselblanco/Documents/4to/ML/project/b...   37    male   black   \n",
       "2166  /Users/hanselblanco/Documents/4to/ML/project/b...    3    male   asian   \n",
       "521   /Users/hanselblanco/Documents/4to/ML/project/b...   67  female   white   \n",
       "2734  /Users/hanselblanco/Documents/4to/ML/project/b...    2  female   other   \n",
       "195   /Users/hanselblanco/Documents/4to/ML/project/b...   85  female   white   \n",
       "747   /Users/hanselblanco/Documents/4to/ML/project/b...   60  female   white   \n",
       "2899  /Users/hanselblanco/Documents/4to/ML/project/b...   28  female   asian   \n",
       "2967  /Users/hanselblanco/Documents/4to/ML/project/b...   29    male   white   \n",
       "1288  /Users/hanselblanco/Documents/4to/ML/project/b...   48    male   white   \n",
       "2506  /Users/hanselblanco/Documents/4to/ML/project/b...   30  female  indian   \n",
       "1788  /Users/hanselblanco/Documents/4to/ML/project/b...   38  female   black   \n",
       "103   /Users/hanselblanco/Documents/4to/ML/project/b...   73  female  indian   \n",
       "4676  /Users/hanselblanco/Documents/4to/ML/project/b...   13  female   other   \n",
       "2036  /Users/hanselblanco/Documents/4to/ML/project/b...   34  female  indian   \n",
       "4175  /Users/hanselblanco/Documents/4to/ML/project/b...   23    male   white   \n",
       "4014  /Users/hanselblanco/Documents/4to/ML/project/b...   20    male   black   \n",
       "3621  /Users/hanselblanco/Documents/4to/ML/project/b...   24  female   other   \n",
       "3817  /Users/hanselblanco/Documents/4to/ML/project/b...   22    male   white   \n",
       "\n",
       "     predicted_gender  \n",
       "2084           female  \n",
       "4550           female  \n",
       "1855             male  \n",
       "2166           female  \n",
       "521            female  \n",
       "2734           female  \n",
       "195              male  \n",
       "747            female  \n",
       "2899           female  \n",
       "2967             male  \n",
       "1288             male  \n",
       "2506           female  \n",
       "1788           female  \n",
       "103            female  \n",
       "4676           female  \n",
       "2036           female  \n",
       "4175             male  \n",
       "4014             male  \n",
       "3621           female  \n",
       "3817             male  "
      ]
     },
     "execution_count": 7,
     "metadata": {},
     "output_type": "execute_result"
    }
   ],
   "source": [
    "df.sample(20)"
   ]
  },
  {
   "cell_type": "code",
   "execution_count": 8,
   "metadata": {},
   "outputs": [],
   "source": [
    "y_true=df['gender'].tolist()\n",
    "y_pred=df['predicted_gender'].tolist()"
   ]
  },
  {
   "cell_type": "code",
   "execution_count": 9,
   "metadata": {},
   "outputs": [],
   "source": [
    "male_total=df['gender'].value_counts()[MALE]\n",
    "female_total= df['gender'].value_counts()[FEMALE]"
   ]
  },
  {
   "attachments": {},
   "cell_type": "markdown",
   "metadata": {},
   "source": [
    "#### Balanced Accuracy"
   ]
  },
  {
   "cell_type": "code",
   "execution_count": 10,
   "metadata": {},
   "outputs": [
    {
     "data": {
      "text/plain": [
       "0.9291200580240214"
      ]
     },
     "execution_count": 10,
     "metadata": {},
     "output_type": "execute_result"
    }
   ],
   "source": [
    "macro_accuracy= macro_accuracy(y_true, y_pred)\n",
    "macro_accuracy"
   ]
  },
  {
   "attachments": {},
   "cell_type": "markdown",
   "metadata": {},
   "source": [
    "#### F1 score (macro)\n",
    "\n",
    "F1 score can be interpreted as a measure of overall model performance from 0 to 1, where 1 is the best. To be more specific, F1 score can be interpreted as the model’s balanced ability to both capture positive cases (recall) and be accurate with the cases it does capture (precision).\n",
    "\n",
    "the model’s ability to both capture positive cases and be accurate with the cases it does capture"
   ]
  },
  {
   "cell_type": "code",
   "execution_count": 11,
   "metadata": {},
   "outputs": [
    {
     "data": {
      "text/plain": [
       "0.9286808847463958"
      ]
     },
     "execution_count": 11,
     "metadata": {},
     "output_type": "execute_result"
    }
   ],
   "source": [
    "macro_f1(y_true, y_pred, labels = GENDER_LABELS)"
   ]
  },
  {
   "attachments": {},
   "cell_type": "markdown",
   "metadata": {},
   "source": [
    "#### Confusion Matrix"
   ]
  },
  {
   "cell_type": "code",
   "execution_count": 12,
   "metadata": {},
   "outputs": [
    {
     "data": {
      "image/png": "[encoded data removed]",
      "text/plain": [
       "<Figure size 640x480 with 2 Axes>"
      ]
     },
     "metadata": {},
     "output_type": "display_data"
    }
   ],
   "source": [
    "\n",
    "confusion_matrix = confusion_matrix(y_true, y_pred, labels = GENDER_LABELS)"
   ]
  },
  {
   "attachments": {},
   "cell_type": "markdown",
   "metadata": {},
   "source": [
    "#### Selection rate"
   ]
  },
  {
   "cell_type": "code",
   "execution_count": 13,
   "metadata": {},
   "outputs": [
    {
     "data": {
      "text/plain": [
       "(0.0003713835792896631, 0.00041379746282260986)"
      ]
     },
     "execution_count": 13,
     "metadata": {},
     "output_type": "execute_result"
    }
   ],
   "source": [
    "srs = selection_rate(y_true, y_pred, GENDER_LABELS)\n",
    "males_sr = srs[MALE]\n",
    "females_sr = srs[FEMALE]\n",
    "males_sr, females_sr"
   ]
  },
  {
   "attachments": {},
   "cell_type": "markdown",
   "metadata": {},
   "source": [
    "#### TPR"
   ]
  },
  {
   "cell_type": "code",
   "execution_count": 14,
   "metadata": {},
   "outputs": [
    {
     "data": {
      "text/plain": [
       "(0.9214026602176542, 0.9368374558303887)"
      ]
     },
     "execution_count": 14,
     "metadata": {},
     "output_type": "execute_result"
    }
   ],
   "source": [
    "tprs = tpr(y_true, y_pred, GENDER_LABELS)\n",
    "\n",
    "males_tpr = tprs[MALE]\n",
    "females_tpr = tprs[FEMALE]\n",
    "\n",
    "males_tpr, females_tpr"
   ]
  },
  {
   "attachments": {},
   "cell_type": "markdown",
   "metadata": {},
   "source": [
    "#### FPR"
   ]
  },
  {
   "cell_type": "code",
   "execution_count": 15,
   "metadata": {},
   "outputs": [
    {
     "data": {
      "text/plain": [
       "(0.06316254416961131, 0.07859733978234584)"
      ]
     },
     "execution_count": 15,
     "metadata": {},
     "output_type": "execute_result"
    }
   ],
   "source": [
    "fprs = fpr(y_true, y_pred, GENDER_LABELS)\n",
    "\n",
    "males_fpr = fprs[MALE]\n",
    "females_fpr = fprs[FEMALE]\n",
    "\n",
    "males_fpr, females_fpr"
   ]
  },
  {
   "attachments": {},
   "cell_type": "markdown",
   "metadata": {},
   "source": [
    "### `Fairness Metrics`"
   ]
  },
  {
   "attachments": {},
   "cell_type": "markdown",
   "metadata": {},
   "source": [
    "#### Equalized Odds"
   ]
  },
  {
   "cell_type": "code",
   "execution_count": 18,
   "metadata": {},
   "outputs": [
    {
     "name": "stdout",
     "output_type": "stream",
     "text": [
      "EQUALIZED ODDS\n",
      "Equalized odds\n",
      "RESULTS:  {'male--female': {'tpr': 0.015434795612734531, 'fpr': 0.015434795612734531}}\n"
     ]
    }
   ],
   "source": [
    "eo = equalized_odds(y_true, y_pred, GENDER_LABELS)"
   ]
  },
  {
   "attachments": {},
   "cell_type": "markdown",
   "metadata": {},
   "source": [
    "#### Disparate impact"
   ]
  },
  {
   "cell_type": "code",
   "execution_count": 17,
   "metadata": {},
   "outputs": [
    {
     "name": "stdout",
     "output_type": "stream",
     "text": [
      "DISPARATE IMPACT.\n",
      "No disparate impact present\n",
      "RESULTS:  {'male/female': 0.897500861306322}\n"
     ]
    }
   ],
   "source": [
    "di = disparate_impact(y_true, y_pred, GENDER_LABELS)"
   ]
  }
 ],
 "metadata": {
  "kernelspec": {
   "display_name": "Python 3",
   "language": "python",
   "name": "python3"
  },
  "language_info": {
   "codemirror_mode": {
    "name": "ipython",
    "version": 3
   },
   "file_extension": ".py",
   "mimetype": "text/x-python",
   "name": "python",
   "nbconvert_exporter": "python",
   "pygments_lexer": "ipython3",
   "version": "3.11.3"
  },
  "orig_nbformat": 4
 },
 "nbformat": 4,
 "nbformat_minor": 2
}
