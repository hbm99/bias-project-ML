{
 "cells": [
  {
   "attachments": {},
   "cell_type": "markdown",
   "metadata": {},
   "source": [
    "`Dataframe` to `DocumentArray`..."
   ]
  },
  {
   "cell_type": "code",
   "execution_count": 38,
   "metadata": {},
   "outputs": [
    {
     "ename": "SyntaxError",
     "evalue": "(unicode error) 'unicodeescape' codec can't decode bytes in position 2-3: truncated \\UXXXXXXXX escape (559904971.py, line 8)",
     "output_type": "error",
     "traceback": [
      "\u001b[1;36m  Cell \u001b[1;32mIn[38], line 8\u001b[1;36m\u001b[0m\n\u001b[1;33m    train_df, test_df = data_selection('C:\\Users\\lachy\\Videos\\LACHY\\SRI Repo\\bias-project-ML\\data\\utkface_debiased/')\u001b[0m\n\u001b[1;37m                                                                                                                    ^\u001b[0m\n\u001b[1;31mSyntaxError\u001b[0m\u001b[1;31m:\u001b[0m (unicode error) 'unicodeescape' codec can't decode bytes in position 2-3: truncated \\UXXXXXXXX escape\n"
     ]
    }
   ],
   "source": [
    "from docarray import Document, DocumentArray\n",
    "import sys\n",
    "\n",
    "sys.path.append('C:/Users/lachy/Videos/LACHY/SRI Repo/bias-project-ML')\n",
    "from data_preprocess import data_selection\n",
    "import metrics\n",
    "\n",
    "train_df, test_df = data_selection('C:/Users/lachy/Videos/LACHY/SRI Repo/bias-project-ML/data/utkface_debiased/')\n",
    "\n",
    "train_da = DocumentArray.from_dataframe(train_df)\n",
    "test_da = DocumentArray.from_dataframe(test_df)\n",
    "\n",
    "# for item in train_da:\n",
    "#     item.summary()\n"
   ]
  },
  {
   "attachments": {},
   "cell_type": "markdown",
   "metadata": {},
   "source": [
    "Initializing `CLIP`..."
   ]
  },
  {
   "cell_type": "code",
   "execution_count": null,
   "metadata": {},
   "outputs": [],
   "source": [
    "import torch\n",
    "import clip\n",
    "from PIL import Image\n",
    "\n",
    "device = \"cuda\" if torch.cuda.is_available() else \"cpu\"\n",
    "model, preprocess = clip.load(\"ViT-B/32\", device=device)"
   ]
  },
  {
   "attachments": {},
   "cell_type": "markdown",
   "metadata": {},
   "source": [
    "`CLIP` Fine-tuning..."
   ]
  },
  {
   "cell_type": "code",
   "execution_count": null,
   "metadata": {},
   "outputs": [
    {
     "data": {
      "application/vnd.jupyter.widget-view+json": {
       "model_id": "26c257fd4d2a4bd2b52508f6ddec3952",
       "version_major": 2,
       "version_minor": 0
      },
      "text/plain": [
       "VBox(children=(HTML(value=\"\\n<div class='custom-container'>\\n    <style>\\n        .custom-container {\\n       …"
      ]
     },
     "metadata": {},
     "output_type": "display_data"
    }
   ],
   "source": [
    "import finetuner\n",
    "\n",
    "finetuner.login()"
   ]
  },
  {
   "attachments": {},
   "cell_type": "markdown",
   "metadata": {},
   "source": [
    "`Race ` and ` Gender` Fine-tuning..."
   ]
  },
  {
   "cell_type": "code",
   "execution_count": null,
   "metadata": {},
   "outputs": [
    {
     "data": {
      "text/html": [
       "<pre style=\"white-space:pre;overflow-x:auto;line-height:normal;font-family:Menlo,'DejaVu Sans Mono',consolas,'Courier New',monospace\">📄 <span style=\"font-weight: bold\">Document</span>: <span style=\"color: #008080; text-decoration-color: #008080\">fee1dbdb709c89e0e0974edc6fc908e0</span>\n",
       "└── 💠 <span style=\"font-weight: bold\">Chunks</span>\n",
       "    ├── 📄 <span style=\"font-weight: bold\">Document</span>: <span style=\"color: #008080; text-decoration-color: #008080\">736f3346fb2d969a46615700f90cafcc</span>\n",
       "    │   ╭───────────┬──────────────────────────────────────────────────────────────────╮\n",
       "    │   │<span style=\"font-weight: bold\"> Attribute </span>│<span style=\"font-weight: bold\"> Value                                                            </span>│\n",
       "    │   ├───────────┼──────────────────────────────────────────────────────────────────┤\n",
       "    │   │ tensor    │ <span style=\"font-weight: bold\">&lt;</span><span style=\"color: #ff00ff; text-decoration-color: #ff00ff; font-weight: bold\">class</span><span style=\"color: #000000; text-decoration-color: #000000\"> </span><span style=\"color: #008000; text-decoration-color: #008000\">'numpy.ndarray'</span><span style=\"font-weight: bold\">&gt;</span> in shape <span style=\"font-weight: bold\">(</span><span style=\"color: #008080; text-decoration-color: #008080; font-weight: bold\">224</span>, <span style=\"color: #008080; text-decoration-color: #008080; font-weight: bold\">224</span>, <span style=\"color: #008080; text-decoration-color: #008080; font-weight: bold\">3</span><span style=\"font-weight: bold\">)</span>, dtype: uint8     │\n",
       "    │   │ mime_type │ image/jpeg                                                       │\n",
       "    │   │ uri       │ C:/Users/lachy/Pictures/utkface/utkface/100_0_0_201701122135009… │\n",
       "    │   │ tags      │ {'filename': '100_0_0_20170112213500903.jpg.chip.jpg', 'gender': │\n",
       "    │   │           │ 'male', 'age': 100, 'filepath':                                  │\n",
       "    │   │           │ 'C:/Users/lachy/Pictures/utkface/utkface/100_0_0_20170112213500… │\n",
       "    │   │           │ 'race': 'white'}                                                 │\n",
       "    │   │ modality  │ image                                                            │\n",
       "    │   ╰───────────┴──────────────────────────────────────────────────────────────────╯\n",
       "    └── 📄 <span style=\"font-weight: bold\">Document</span>: <span style=\"color: #008080; text-decoration-color: #008080\">5a9048c818ce4b14130f83432b76ae01</span>\n",
       "        ╭───────────────┬──────────────────────────────────────────────────────────────╮\n",
       "        │<span style=\"font-weight: bold\"> Attribute     </span>│<span style=\"font-weight: bold\"> Value                                                        </span>│\n",
       "        ├───────────────┼──────────────────────────────────────────────────────────────┤\n",
       "        │ text          │ This is a person of male gender and white race.              │\n",
       "        │ modality      │ text                                                         │\n",
       "        ╰───────────────┴──────────────────────────────────────────────────────────────╯\n",
       "</pre>\n"
      ],
      "text/plain": [
       "📄 \u001b[1mDocument\u001b[0m: \u001b[36mfee1dbdb709c89e0e0974edc6fc908e0\u001b[0m\n",
       "└── 💠 \u001b[1mChunks\u001b[0m\n",
       "    ├── 📄 \u001b[1mDocument\u001b[0m: \u001b[36m736f3346fb2d969a46615700f90cafcc\u001b[0m\n",
       "    │   ╭───────────┬──────────────────────────────────────────────────────────────────╮\n",
       "    │   │\u001b[1m \u001b[0m\u001b[1mAttribute\u001b[0m\u001b[1m \u001b[0m│\u001b[1m \u001b[0m\u001b[1mValue                                                           \u001b[0m\u001b[1m \u001b[0m│\n",
       "    │   ├───────────┼──────────────────────────────────────────────────────────────────┤\n",
       "    │   │ tensor    │ \u001b[1m<\u001b[0m\u001b[1;95mclass\u001b[0m\u001b[39m \u001b[0m\u001b[32m'numpy.ndarray'\u001b[0m\u001b[1m>\u001b[0m in shape \u001b[1m(\u001b[0m\u001b[1;36m224\u001b[0m, \u001b[1;36m224\u001b[0m, \u001b[1;36m3\u001b[0m\u001b[1m)\u001b[0m, dtype: uint8     │\n",
       "    │   │ mime_type │ image/jpeg                                                       │\n",
       "    │   │ uri       │ C:/Users/lachy/Pictures/utkface/utkface/100_0_0_201701122135009… │\n",
       "    │   │ tags      │ {'filename': '100_0_0_20170112213500903.jpg.chip.jpg', 'gender': │\n",
       "    │   │           │ 'male', 'age': 100, 'filepath':                                  │\n",
       "    │   │           │ 'C:/Users/lachy/Pictures/utkface/utkface/100_0_0_20170112213500… │\n",
       "    │   │           │ 'race': 'white'}                                                 │\n",
       "    │   │ modality  │ image                                                            │\n",
       "    │   ╰───────────┴──────────────────────────────────────────────────────────────────╯\n",
       "    └── 📄 \u001b[1mDocument\u001b[0m: \u001b[36m5a9048c818ce4b14130f83432b76ae01\u001b[0m\n",
       "        ╭───────────────┬──────────────────────────────────────────────────────────────╮\n",
       "        │\u001b[1m \u001b[0m\u001b[1mAttribute    \u001b[0m\u001b[1m \u001b[0m│\u001b[1m \u001b[0m\u001b[1mValue                                                       \u001b[0m\u001b[1m \u001b[0m│\n",
       "        ├───────────────┼──────────────────────────────────────────────────────────────┤\n",
       "        │ text          │ This is a person of male gender and white race.              │\n",
       "        │ modality      │ text                                                         │\n",
       "        ╰───────────────┴──────────────────────────────────────────────────────────────╯\n"
      ]
     },
     "metadata": {},
     "output_type": "display_data"
    }
   ],
   "source": [
    "gender_pairs = DocumentArray() # initialize a DocumentArray as final training data.\n",
    "\n",
    "prompt = 'This is a person of '\n",
    "for doc in train_da:\n",
    "    pair = Document()\n",
    "    doc.uri = doc.tags['filepath']\n",
    "    img_chunk = doc.load_uri_to_image_tensor(224, 224)\n",
    "    img_chunk.modality = 'image'\n",
    "    txt_chunk = Document(content=prompt + doc.tags['gender'] + ' gender and ' + doc.tags['race'] + ' race.' )\n",
    "    txt_chunk.modality = 'text'\n",
    "    pair.chunks.extend([img_chunk, txt_chunk])\n",
    "    # add pair to pairs\n",
    "    gender_pairs.append(pair)\n",
    "\n",
    "# Lets see the first item of the pairs\n",
    "gender_pairs[0]"
   ]
  },
  {
   "cell_type": "code",
   "execution_count": null,
   "metadata": {},
   "outputs": [
    {
     "data": {
      "text/html": [
       "<pre style=\"white-space:pre;overflow-x:auto;line-height:normal;font-family:Menlo,'DejaVu Sans Mono',consolas,'Courier New',monospace\">📄 <span style=\"font-weight: bold\">Document</span>: <span style=\"color: #008080; text-decoration-color: #008080\">d1aafaf562d5dde11bec9900150cf352</span>\n",
       "└── 💠 <span style=\"font-weight: bold\">Chunks</span>\n",
       "    ├── 📄 <span style=\"font-weight: bold\">Document</span>: <span style=\"color: #008080; text-decoration-color: #008080\">e177d4d5b1a155a63e8055e689bb4457</span>\n",
       "    │   ╭───────────┬──────────────────────────────────────────────────────────────────╮\n",
       "    │   │<span style=\"font-weight: bold\"> Attribute </span>│<span style=\"font-weight: bold\"> Value                                                            </span>│\n",
       "    │   ├───────────┼──────────────────────────────────────────────────────────────────┤\n",
       "    │   │ tensor    │ <span style=\"font-weight: bold\">&lt;</span><span style=\"color: #ff00ff; text-decoration-color: #ff00ff; font-weight: bold\">class</span><span style=\"color: #000000; text-decoration-color: #000000\"> </span><span style=\"color: #008000; text-decoration-color: #008000\">'numpy.ndarray'</span><span style=\"font-weight: bold\">&gt;</span> in shape <span style=\"font-weight: bold\">(</span><span style=\"color: #008080; text-decoration-color: #008080; font-weight: bold\">224</span>, <span style=\"color: #008080; text-decoration-color: #008080; font-weight: bold\">224</span>, <span style=\"color: #008080; text-decoration-color: #008080; font-weight: bold\">3</span><span style=\"font-weight: bold\">)</span>, dtype: uint8     │\n",
       "    │   │ mime_type │ image/jpeg                                                       │\n",
       "    │   │ uri       │ C:/Users/lachy/Pictures/utkface/utkface/100_0_0_201701122152403… │\n",
       "    │   │ modality  │ image                                                            │\n",
       "    │   ╰───────────┴──────────────────────────────────────────────────────────────────╯\n",
       "    └── 📄 <span style=\"font-weight: bold\">Document</span>: <span style=\"color: #008080; text-decoration-color: #008080\">f140088be73e6a65dd0737fe403d5e9a</span>\n",
       "        ╭───────────────┬──────────────────────────────────────────────────────────────╮\n",
       "        │<span style=\"font-weight: bold\"> Attribute     </span>│<span style=\"font-weight: bold\"> Value                                                        </span>│\n",
       "        ├───────────────┼──────────────────────────────────────────────────────────────┤\n",
       "        │ text          │ This is a person of male gender and white race.              │\n",
       "        │ modality      │ text                                                         │\n",
       "        ╰───────────────┴──────────────────────────────────────────────────────────────╯\n",
       "</pre>\n"
      ],
      "text/plain": [
       "📄 \u001b[1mDocument\u001b[0m: \u001b[36md1aafaf562d5dde11bec9900150cf352\u001b[0m\n",
       "└── 💠 \u001b[1mChunks\u001b[0m\n",
       "    ├── 📄 \u001b[1mDocument\u001b[0m: \u001b[36me177d4d5b1a155a63e8055e689bb4457\u001b[0m\n",
       "    │   ╭───────────┬──────────────────────────────────────────────────────────────────╮\n",
       "    │   │\u001b[1m \u001b[0m\u001b[1mAttribute\u001b[0m\u001b[1m \u001b[0m│\u001b[1m \u001b[0m\u001b[1mValue                                                           \u001b[0m\u001b[1m \u001b[0m│\n",
       "    │   ├───────────┼──────────────────────────────────────────────────────────────────┤\n",
       "    │   │ tensor    │ \u001b[1m<\u001b[0m\u001b[1;95mclass\u001b[0m\u001b[39m \u001b[0m\u001b[32m'numpy.ndarray'\u001b[0m\u001b[1m>\u001b[0m in shape \u001b[1m(\u001b[0m\u001b[1;36m224\u001b[0m, \u001b[1;36m224\u001b[0m, \u001b[1;36m3\u001b[0m\u001b[1m)\u001b[0m, dtype: uint8     │\n",
       "    │   │ mime_type │ image/jpeg                                                       │\n",
       "    │   │ uri       │ C:/Users/lachy/Pictures/utkface/utkface/100_0_0_201701122152403… │\n",
       "    │   │ modality  │ image                                                            │\n",
       "    │   ╰───────────┴──────────────────────────────────────────────────────────────────╯\n",
       "    └── 📄 \u001b[1mDocument\u001b[0m: \u001b[36mf140088be73e6a65dd0737fe403d5e9a\u001b[0m\n",
       "        ╭───────────────┬──────────────────────────────────────────────────────────────╮\n",
       "        │\u001b[1m \u001b[0m\u001b[1mAttribute    \u001b[0m\u001b[1m \u001b[0m│\u001b[1m \u001b[0m\u001b[1mValue                                                       \u001b[0m\u001b[1m \u001b[0m│\n",
       "        ├───────────────┼──────────────────────────────────────────────────────────────┤\n",
       "        │ text          │ This is a person of male gender and white race.              │\n",
       "        │ modality      │ text                                                         │\n",
       "        ╰───────────────┴──────────────────────────────────────────────────────────────╯\n"
      ]
     },
     "metadata": {},
     "output_type": "display_data"
    }
   ],
   "source": [
    "for doc in gender_pairs:\n",
    "    doc.chunks[0].tags = None\n",
    "gender_pairs[0]\n"
   ]
  },
  {
   "cell_type": "code",
   "execution_count": null,
   "metadata": {},
   "outputs": [
    {
     "data": {
      "text/plain": [
       "18967"
      ]
     },
     "execution_count": 30,
     "metadata": {},
     "output_type": "execute_result"
    }
   ],
   "source": [
    "len(gender_pairs)"
   ]
  },
  {
   "attachments": {},
   "cell_type": "markdown",
   "metadata": {},
   "source": [
    "Training `CLIP` model..."
   ]
  },
  {
   "cell_type": "code",
   "execution_count": null,
   "metadata": {},
   "outputs": [
    {
     "name": "stdout",
     "output_type": "stream",
     "text": [
      "Pushing a DocumentArray to Hubble under the name finetuner-dastorage-default-stoic-newton-train ...\n"
     ]
    },
    {
     "data": {
      "text/html": [
       "<pre style=\"white-space:pre;overflow-x:auto;line-height:normal;font-family:Menlo,'DejaVu Sans Mono',consolas,'Courier New',monospace\">🔐 <span style=\"color: #008000; text-decoration-color: #008000; font-weight: bold\">You are logged in to Jina AI</span> as <span style=\"font-weight: bold\">de.todito70y19 (username: TuKola)</span>. To log out, use <span style=\"color: #7f7f7f; text-decoration-color: #7f7f7f\">jina auth logout</span>.\n",
       "</pre>\n"
      ],
      "text/plain": [
       "🔐 \u001b[1;32mYou are logged in to Jina AI\u001b[0m as \u001b[1mde.todito70y19 \u001b[0m\u001b[1m(\u001b[0m\u001b[1musername: TuKola\u001b[0m\u001b[1m)\u001b[0m. To log out, use \u001b[2mjina auth logout\u001b[0m.\n"
      ]
     },
     "metadata": {},
     "output_type": "display_data"
    },
    {
     "data": {
      "application/vnd.jupyter.widget-view+json": {
       "model_id": "e919ea5676c04b5a9ca3b5a013dd74d9",
       "version_major": 2,
       "version_minor": 0
      },
      "text/plain": [
       "Output()"
      ]
     },
     "metadata": {},
     "output_type": "display_data"
    },
    {
     "data": {
      "text/html": [
       "<pre style=\"white-space:pre;overflow-x:auto;line-height:normal;font-family:Menlo,'DejaVu Sans Mono',consolas,'Courier New',monospace\">\n",
       "</pre>\n"
      ],
      "text/plain": [
       "\n"
      ]
     },
     "metadata": {},
     "output_type": "display_data"
    },
    {
     "data": {
      "text/html": [
       "<pre style=\"white-space:pre;overflow-x:auto;line-height:normal;font-family:Menlo,'DejaVu Sans Mono',consolas,'Courier New',monospace\">\n",
       "</pre>\n"
      ],
      "text/plain": [
       "\n"
      ]
     },
     "metadata": {},
     "output_type": "display_data"
    },
    {
     "data": {
      "text/html": [
       "<pre style=\"white-space:pre;overflow-x:auto;line-height:normal;font-family:Menlo,'DejaVu Sans Mono',consolas,'Courier New',monospace\"></pre>\n"
      ],
      "text/plain": []
     },
     "metadata": {},
     "output_type": "display_data"
    },
    {
     "data": {
      "text/html": [
       "<pre style=\"white-space:pre;overflow-x:auto;line-height:normal;font-family:Menlo,'DejaVu Sans Mono',consolas,'Courier New',monospace\">\n",
       "</pre>\n"
      ],
      "text/plain": [
       "\n"
      ]
     },
     "metadata": {},
     "output_type": "display_data"
    }
   ],
   "source": [
    "run = finetuner.fit(\n",
    "    model='openai/clip-vit-base-patch32', # fine-tune CLIP\n",
    "    train_data=gender_pairs,   \n",
    "    learning_rate=1e-5,\n",
    "    loss='CLIPLoss'\n",
    ")"
   ]
  },
  {
   "cell_type": "code",
   "execution_count": null,
   "metadata": {},
   "outputs": [
    {
     "data": {
      "application/vnd.jupyter.widget-view+json": {
       "model_id": "f0d7fa0cb4484528b037183798afc541",
       "version_major": 2,
       "version_minor": 0
      },
      "text/plain": [
       "Output()"
      ]
     },
     "metadata": {},
     "output_type": "display_data"
    },
    {
     "data": {
      "text/html": [
       "<pre style=\"white-space:pre;overflow-x:auto;line-height:normal;font-family:Menlo,'DejaVu Sans Mono',consolas,'Courier New',monospace\"></pre>\n"
      ],
      "text/plain": []
     },
     "metadata": {},
     "output_type": "display_data"
    },
    {
     "name": "stdout",
     "output_type": "stream",
     "text": [
      "[08:10:23] INFO     Starting finetuner training run ...                                                  __main__.py:350\n",
      "DEBUG    Found Jina AI Cloud authentication token                                             __main__.py:362\n",
      "DEBUG    Running in online mode                                                               __main__.py:363\n",
      "INFO     Reading config ...                                                                   __main__.py:370\n",
      "DEBUG    Reading config from stream                                                           __main__.py:382\n",
      "INFO     Parsing config ...                                                                   __main__.py:385\n",
      "INFO     Config loaded 📜                                                                     __main__.py:389\n",
      "INFO     Run name: stoic-newton                                                               __main__.py:391\n",
      "INFO     Experiment name: default                                                             __main__.py:392\n",
      "DEBUG    Device set to [cuda]                                                                 __main__.py:395\n",
      "DEBUG    Artifact ID set to 647c458a6daf066dd678b00b                                          __main__.py:141\n",
      "DEBUG    Artifact ID for metrics set to 647c458b6daf066dd678b00c                              __main__.py:144\n",
      "DEBUG    Artifact ID for example results set to 647c458b6daf066dd678b00d                      __main__.py:147\n",
      "INFO     Building the tuner components ...                                                    __main__.py:161\n",
      "INFO     Building models ...                                                                    tuning.py:320\n",
      "DEBUG    Model name: openai/clip-vit-base-patch32                                               tuning.py:322\n",
      "DEBUG    Model options: {}                                                                      tuning.py:323\n",
      "Downloading:   0%|          | 0.00/4.09k [00:00<?, ?B/s]\n",
      "Downloading: 100%|██████████| 4.09k/4.09k [00:00<00:00, 7.05MB/s]\n",
      "Downloading:   0%|          | 0.00/577M [00:00<?, ?B/s]\n",
      "Downloading:   1%|          | 6.02M/577M [00:00<00:09, 63.1MB/s]\n",
      "Downloading:   2%|▏         | 13.6M/577M [00:00<00:08, 72.9MB/s]\n",
      "Downloading:   4%|▎         | 21.2M/577M [00:00<00:07, 76.0MB/s]\n",
      "Downloading:   5%|▍         | 28.7M/577M [00:00<00:07, 77.1MB/s]\n",
      "Downloading:   6%|▋         | 36.4M/577M [00:00<00:07, 78.2MB/s]\n",
      "Downloading:   8%|▊         | 44.0M/577M [00:00<00:07, 78.8MB/s]\n",
      "Downloading:   9%|▉         | 51.6M/577M [00:00<00:06, 79.0MB/s]\n",
      "Downloading:  10%|█         | 59.1M/577M [00:00<00:06, 78.7MB/s]\n",
      "Downloading:  12%|█▏        | 66.7M/577M [00:00<00:06, 78.9MB/s]\n",
      "Downloading:  13%|█▎        | 74.3M/577M [00:01<00:06, 79.3MB/s]\n",
      "Downloading:  14%|█▍        | 82.0M/577M [00:01<00:06, 79.5MB/s]\n",
      "Downloading:  16%|█▌        | 89.6M/577M [00:01<00:06, 79.6MB/s]\n",
      "Downloading:  17%|█▋        | 97.2M/577M [00:01<00:06, 79.8MB/s]\n",
      "Downloading:  18%|█▊        | 105M/577M [00:01<00:06, 79.9MB/s] \n",
      "Downloading:  19%|█▉        | 112M/577M [00:01<00:06, 79.9MB/s]\n",
      "Downloading:  21%|██        | 120M/577M [00:01<00:06, 79.1MB/s]\n",
      "Downloading:  22%|██▏       | 128M/577M [00:01<00:05, 79.1MB/s]\n",
      "Downloading:  23%|██▎       | 135M/577M [00:01<00:05, 79.5MB/s]\n",
      "Downloading:  25%|██▍       | 143M/577M [00:01<00:05, 79.3MB/s]\n",
      "Downloading:  26%|██▌       | 151M/577M [00:02<00:05, 79.4MB/s]\n",
      "Downloading:  27%|██▋       | 158M/577M [00:02<00:05, 79.6MB/s]\n",
      "Downloading:  29%|██▊       | 166M/577M [00:02<00:05, 79.2MB/s]\n",
      "Downloading:  30%|███       | 173M/577M [00:02<00:05, 79.4MB/s]\n",
      "Downloading:  31%|███▏      | 181M/577M [00:02<00:05, 79.7MB/s]\n",
      "Downloading:  33%|███▎      | 189M/577M [00:02<00:05, 79.8MB/s]\n",
      "Downloading:  34%|███▍      | 196M/577M [00:02<00:05, 79.9MB/s]\n",
      "Downloading:  35%|███▌      | 204M/577M [00:02<00:04, 80.0MB/s]\n",
      "Downloading:  37%|███▋      | 212M/577M [00:02<00:04, 80.1MB/s]\n",
      "Downloading:  38%|███▊      | 219M/577M [00:02<00:04, 79.6MB/s]\n",
      "Downloading:  39%|███▉      | 227M/577M [00:03<00:04, 79.4MB/s]\n",
      "Downloading:  41%|████      | 235M/577M [00:03<00:04, 79.6MB/s]\n",
      "Downloading:  42%|████▏     | 242M/577M [00:03<00:04, 79.8MB/s]\n",
      "Downloading:  43%|████▎     | 250M/577M [00:03<00:04, 79.5MB/s]\n",
      "Downloading:  45%|████▍     | 257M/577M [00:03<00:04, 79.6MB/s]\n",
      "Downloading:  46%|████▌     | 265M/577M [00:03<00:04, 79.7MB/s]\n",
      "Downloading:  47%|████▋     | 273M/577M [00:03<00:03, 79.9MB/s]\n",
      "Downloading:  49%|████▊     | 280M/577M [00:03<00:03, 80.2MB/s]\n",
      "Downloading:  50%|████▉     | 288M/577M [00:03<00:03, 80.2MB/s]\n",
      "Downloading:  51%|█████     | 296M/577M [00:03<00:03, 80.2MB/s]\n",
      "Downloading:  53%|█████▎    | 303M/577M [00:04<00:03, 80.3MB/s]\n",
      "Downloading:  54%|█████▍    | 311M/577M [00:04<00:03, 80.4MB/s]\n",
      "Downloading:  55%|█████▌    | 319M/577M [00:04<00:03, 80.1MB/s]\n",
      "Downloading:  57%|█████▋    | 326M/577M [00:04<00:03, 80.2MB/s]\n",
      "Downloading:  58%|█████▊    | 334M/577M [00:04<00:03, 80.3MB/s]\n",
      "Downloading:  59%|█████▉    | 342M/577M [00:04<00:03, 80.2MB/s]\n",
      "Downloading:  61%|██████    | 349M/577M [00:04<00:02, 80.3MB/s]\n",
      "Downloading:  62%|██████▏   | 357M/577M [00:04<00:02, 79.6MB/s]\n",
      "Downloading:  63%|██████▎   | 365M/577M [00:04<00:02, 79.8MB/s]\n",
      "Downloading:  65%|██████▍   | 372M/577M [00:04<00:02, 80.0MB/s]\n",
      "Downloading:  66%|██████▌   | 380M/577M [00:05<00:02, 80.0MB/s]\n",
      "Downloading:  67%|██████▋   | 388M/577M [00:05<00:02, 80.3MB/s]\n",
      "Downloading:  69%|██████▊   | 395M/577M [00:05<00:02, 80.4MB/s]\n",
      "Downloading:  70%|██████▉   | 403M/577M [00:05<00:02, 80.4MB/s]\n",
      "Downloading:  71%|███████   | 411M/577M [00:05<00:02, 80.0MB/s]\n",
      "Downloading:  72%|███████▏  | 418M/577M [00:05<00:02, 79.4MB/s]\n",
      "Downloading:  74%|███████▍  | 426M/577M [00:05<00:01, 79.5MB/s]\n",
      "Downloading:  75%|███████▌  | 434M/577M [00:05<00:01, 79.5MB/s]\n",
      "Downloading:  76%|███████▋  | 441M/577M [00:05<00:01, 79.7MB/s]\n",
      "Downloading:  78%|███████▊  | 449M/577M [00:05<00:01, 79.9MB/s]\n",
      "Downloading:  79%|███████▉  | 457M/577M [00:06<00:01, 80.0MB/s]\n",
      "Downloading:  80%|████████  | 464M/577M [00:06<00:01, 80.0MB/s]\n",
      "Downloading:  82%|████████▏ | 472M/577M [00:06<00:01, 79.4MB/s]\n",
      "Downloading:  83%|████████▎ | 479M/577M [00:06<00:01, 79.1MB/s]\n",
      "Downloading:  84%|████████▍ | 487M/577M [00:06<00:01, 79.3MB/s]\n",
      "Downloading:  86%|████████▌ | 495M/577M [00:06<00:01, 79.0MB/s]\n",
      "Downloading:  87%|████████▋ | 502M/577M [00:06<00:00, 79.1MB/s]\n",
      "Downloading:  88%|████████▊ | 510M/577M [00:06<00:00, 79.3MB/s]\n",
      "Downloading:  90%|████████▉ | 517M/577M [00:06<00:00, 79.4MB/s]\n",
      "Downloading:  91%|█████████ | 525M/577M [00:06<00:00, 79.7MB/s]\n",
      "Downloading:  92%|█████████▏| 533M/577M [00:07<00:00, 80.0MB/s]\n",
      "Downloading:  94%|█████████▎| 540M/577M [00:07<00:00, 80.0MB/s]\n",
      "Downloading:  95%|█████████▍| 548M/577M [00:07<00:00, 80.1MB/s]\n",
      "Downloading:  96%|█████████▋| 556M/577M [00:07<00:00, 79.9MB/s]\n",
      "Downloading:  98%|█████████▊| 563M/577M [00:07<00:00, 79.4MB/s]\n",
      "Downloading:  99%|█████████▉| 571M/577M [00:07<00:00, 79.7MB/s]\n",
      "Downloading: 100%|██████████| 577M/577M [00:07<00:00, 79.5MB/s]\n",
      "ping\n",
      "2023-06-04 08:10:42.782444\n",
      "Downloading:   0%|          | 0.00/568 [00:00<?, ?B/s]\n",
      "Downloading: 100%|██████████| 568/568 [00:00<00:00, 1.08MB/s]\n",
      "Downloading:   0%|          | 0.00/842k [00:00<?, ?B/s]\n",
      "Downloading:  12%|█▏        | 100k/842k [00:00<00:01, 568kB/s]\n",
      "Downloading:  60%|██████    | 506k/842k [00:00<00:00, 1.59MB/s]\n",
      "Downloading: 100%|██████████| 842k/842k [00:00<00:00, 2.34MB/s]\n",
      "Downloading:   0%|          | 0.00/512k [00:00<?, ?B/s]\n",
      "Downloading:  20%|█▉        | 100k/512k [00:00<00:00, 570kB/s]\n",
      "Downloading: 100%|██████████| 512k/512k [00:00<00:00, 1.89MB/s]\n",
      "Downloading:   0%|          | 0.00/2.12M [00:00<?, ?B/s]\n",
      "Downloading:   4%|▍         | 83.0k/2.12M [00:00<00:03, 641kB/s]\n",
      "Downloading:  11%|█         | 240k/2.12M [00:00<00:02, 953kB/s] \n",
      "Downloading:  45%|████▌     | 982k/2.12M [00:00<00:00, 3.49MB/s]\n",
      "Downloading:  92%|█████████▏| 1.94M/2.12M [00:00<00:00, 5.45MB/s]\n",
      "Downloading: 100%|██████████| 2.12M/2.12M [00:00<00:00, 4.47MB/s]\n",
      "Downloading:   0%|          | 0.00/389 [00:00<?, ?B/s]\n",
      "Downloading: 100%|██████████| 389/389 [00:00<00:00, 584kB/s]\n",
      "Downloading:   0%|          | 0.00/316 [00:00<?, ?B/s]\n",
      "Downloading: 100%|██████████| 316/316 [00:00<00:00, 569kB/s]\n",
      "[08:10:38] INFO     Loading the training data ...                                                          tuning.py:152\n",
      "INFO     Pulling data from cloud storage ...                                                      utils.py:80\n",
      "🔐 You are logged in to Jina AI as de.todito70y19 (username: TuKola). To log out, use jina auth logout.\n",
      "ping\n",
      "2023-06-04 08:10:57.782941\n",
      "ping\n",
      "2023-06-04 08:11:12.783477\n",
      "ping\n",
      "2023-06-04 08:11:27.784270\n",
      "ping\n",
      "2023-06-04 08:11:42.783740\n",
      "ping\n",
      "2023-06-04 08:11:57.783952\n",
      "ping\n",
      "2023-06-04 08:12:12.783616\n",
      "ping\n",
      "2023-06-04 08:12:27.783965\n",
      "ping\n",
      "2023-06-04 08:12:42.784158\n",
      "ping\n",
      "2023-06-04 08:12:57.784047\n",
      "ping\n",
      "2023-06-04 08:13:12.783608\n",
      "ping\n",
      "2023-06-04 08:13:27.783487\n",
      "ping\n",
      "2023-06-04 08:13:42.784274\n",
      "ping\n",
      "2023-06-04 08:13:57.783712\n",
      "ping\n",
      "2023-06-04 08:14:12.783580\n",
      "ping\n",
      "2023-06-04 08:14:27.784188\n",
      "ping\n",
      "2023-06-04 08:14:42.783923\n",
      "ping\n",
      "2023-06-04 08:14:57.784012\n",
      "ping\n",
      "2023-06-04 08:15:12.783536\n",
      "ping\n",
      "2023-06-04 08:15:27.783568\n",
      "ping\n",
      "2023-06-04 08:15:42.783967\n",
      "ping\n",
      "2023-06-04 08:15:57.783689\n",
      "ping\n",
      "2023-06-04 08:16:12.783642\n",
      "ping\n",
      "2023-06-04 08:16:27.783636\n",
      "ping\n",
      "2023-06-04 08:16:42.784153\n",
      "ping\n",
      "2023-06-04 08:16:57.783606\n",
      "ping\n",
      "2023-06-04 08:17:12.784069\n",
      "ping\n",
      "2023-06-04 08:17:27.784032\n",
      "ping\n",
      "2023-06-04 08:17:42.783584\n",
      "ping\n",
      "2023-06-04 08:17:57.784149\n",
      "ping\n",
      "2023-06-04 08:18:12.784478\n",
      "ping\n",
      "2023-06-04 08:18:27.785467\n",
      "ping\n",
      "2023-06-04 08:18:42.786549\n",
      "ping\n",
      "2023-06-04 08:18:57.787190\n",
      "ping\n",
      "2023-06-04 08:19:12.787450\n",
      "ping\n",
      "2023-06-04 08:19:27.787980\n",
      "ping\n",
      "2023-06-04 08:19:42.788143\n",
      "ping\n",
      "2023-06-04 08:19:57.788103\n",
      "ping\n",
      "2023-06-04 08:20:12.788091\n",
      "ping\n",
      "2023-06-04 08:20:27.787903\n",
      "ping\n",
      "2023-06-04 08:20:42.787909\n",
      "ping\n",
      "2023-06-04 08:20:57.788349\n",
      "ping\n",
      "2023-06-04 08:21:12.788643\n",
      "ping\n",
      "2023-06-04 08:21:27.788639\n",
      "ping\n",
      "2023-06-04 08:21:42.788593\n",
      "Deserializing ━━━━━━━━━━━━━━━━━━━━━━━━━━━━━━━━━━━━━━━━ 18967/18967 • 15 QPS • 0:00:00 • 2.1 GB\n",
      "[08:21:37] DEBUG    # training samples: 18967                                                              tuning.py:165\n",
      "INFO     Building loss ...                                                                      tuning.py:425\n",
      "DEBUG    Loss name: CLIPLoss                                                                    tuning.py:426\n",
      "DEBUG    Loss options: {}                                                                       tuning.py:427\n",
      "[08:21:40] DEBUG    Saving initial state of the model                                                    batchsize.py:81\n",
      "DEBUG    Testing batch size of 4                                                             batchsize.py:106\n",
      "[08:21:42] DEBUG    Testing batch size of 8                                                             batchsize.py:106\n",
      "[08:21:43] DEBUG    Testing batch size of 16                                                            batchsize.py:106\n",
      "DEBUG    Testing batch size of 32                                                            batchsize.py:106\n",
      "[08:21:44] DEBUG    Testing batch size of 64                                                            batchsize.py:106\n",
      "[08:21:45] DEBUG    Testing batch size of 128                                                           batchsize.py:106\n",
      "[08:21:47] DEBUG    Testing batch size of 256                                                           batchsize.py:106\n",
      "ping\n",
      "2023-06-04 08:21:57.789128\n",
      "[08:21:49] DEBUG    Testing batch size of 512                                                           batchsize.py:106\n",
      "[08:21:53] DEBUG    Batch_size adjusted from 4 to 256                                                    batchsize.py:86\n",
      "DEBUG    Restoring initial state of the model                                                 batchsize.py:88\n",
      "INFO     Building loss ...                                                                      tuning.py:425\n",
      "DEBUG    Loss name: CLIPLoss                                                                    tuning.py:426\n",
      "DEBUG    Loss options: {}                                                                       tuning.py:427\n",
      "INFO     Building optimizer ...                                                                 tuning.py:532\n",
      "DEBUG    Optimizer name: Adam                                                                   tuning.py:533\n",
      "DEBUG    Optimizer options: {'lr': 1e-05}                                                       tuning.py:534\n",
      "INFO     Model, data, callbacks, loss, miner and optimizer built successfully 🔥              __main__.py:165\n",
      "INFO     Finetuning ...                                                                       __main__.py:170\n",
      "ping\n",
      "2023-06-04 08:22:12.788591\n",
      "ping\n",
      "2023-06-04 08:22:27.789227\n",
      "ping\n",
      "2023-06-04 08:22:42.788705\n",
      "ping\n",
      "2023-06-04 08:22:57.788909\n",
      "ping\n",
      "2023-06-04 08:23:12.789094\n",
      "ping\n",
      "2023-06-04 08:23:27.788825\n",
      "ping\n",
      "2023-06-04 08:23:42.789188\n",
      "ping\n",
      "2023-06-04 08:23:57.789464\n",
      "ping\n",
      "2023-06-04 08:24:12.789916\n",
      "ping\n",
      "2023-06-04 08:24:27.790031\n",
      "ping\n",
      "2023-06-04 08:24:42.790018\n",
      "ping\n",
      "2023-06-04 08:24:57.789596\n",
      "ping\n",
      "2023-06-04 08:25:12.789612\n",
      "ping\n",
      "2023-06-04 08:25:27.789997\n",
      "ping\n",
      "2023-06-04 08:25:42.790457\n",
      "ping\n",
      "2023-06-04 08:25:57.791320\n",
      "ping\n",
      "2023-06-04 08:26:12.791891\n",
      "ping\n",
      "2023-06-04 08:26:27.792435\n",
      "ping\n",
      "2023-06-04 08:26:42.793118\n",
      "ping\n",
      "2023-06-04 08:26:57.793124\n",
      "ping\n",
      "2023-06-04 08:27:12.793155\n",
      "ping\n",
      "2023-06-04 08:27:27.793128\n",
      "ping\n",
      "2023-06-04 08:27:42.793109\n",
      "ping\n",
      "2023-06-04 08:27:57.792666\n",
      "ping\n",
      "2023-06-04 08:28:12.827149\n",
      "ping\n",
      "2023-06-04 08:28:27.827353\n",
      "ping\n",
      "2023-06-04 08:28:42.828202\n",
      "ping\n",
      "2023-06-04 08:28:57.828468\n",
      "ping\n",
      "2023-06-04 08:29:12.828794\n",
      "[08:29:05] INFO     Artifact pushed under ID '647c458a6daf066dd678b00b'                                  __main__.py:266\n",
      "DEBUG    Artifact size is 535.388 MB                                                          __main__.py:268\n",
      "INFO     Finished 🚀                                                                          __main__.py:415\n",
      "time=\"2023-06-04T08:29:07.411Z\" level=info msg=\"sub-process exited\" argo=true error=\"<nil>\"\n"
     ]
    }
   ],
   "source": [
    "for entry in run.stream_logs():\n",
    "    print(entry)"
   ]
  },
  {
   "attachments": {},
   "cell_type": "markdown",
   "metadata": {},
   "source": [
    "Saving the `artifact`"
   ]
  },
  {
   "cell_type": "code",
   "execution_count": null,
   "metadata": {},
   "outputs": [
    {
     "data": {
      "application/vnd.jupyter.widget-view+json": {
       "model_id": "eaf94b3779054b77bb453b9303f48765",
       "version_major": 2,
       "version_minor": 0
      },
      "text/plain": [
       "Output()"
      ]
     },
     "metadata": {},
     "output_type": "display_data"
    },
    {
     "data": {
      "text/html": [
       "<pre style=\"white-space:pre;overflow-x:auto;line-height:normal;font-family:Menlo,'DejaVu Sans Mono',consolas,'Courier New',monospace\"></pre>\n"
      ],
      "text/plain": []
     },
     "metadata": {},
     "output_type": "display_data"
    },
    {
     "data": {
      "text/html": [
       "<pre style=\"white-space:pre;overflow-x:auto;line-height:normal;font-family:Menlo,'DejaVu Sans Mono',consolas,'Courier New',monospace\">\n",
       "</pre>\n"
      ],
      "text/plain": [
       "\n"
      ]
     },
     "metadata": {},
     "output_type": "display_data"
    }
   ],
   "source": [
    "artifact = run.save_artifact('/artifact/')"
   ]
  },
  {
   "attachments": {},
   "cell_type": "markdown",
   "metadata": {},
   "source": [
    "Saving `encoders`..."
   ]
  },
  {
   "cell_type": "code",
   "execution_count": null,
   "metadata": {},
   "outputs": [],
   "source": [
    "clip_text_encoder = finetuner.get_model(artifact='/artifact/stoic-newton.zip', select_model='clip-text')\n",
    "clip_image_encoder = finetuner.get_model(artifact='/artifact/stoic-newton.zip', select_model='clip-vision')"
   ]
  },
  {
   "attachments": {},
   "cell_type": "markdown",
   "metadata": {},
   "source": [
    "Saving `images embeddings`..."
   ]
  },
  {
   "cell_type": "code",
   "execution_count": null,
   "metadata": {},
   "outputs": [
    {
     "data": {
      "application/vnd.jupyter.widget-view+json": {
       "model_id": "ecd8d50d054c456abfe7e9e7b0aa9eb0",
       "version_major": 2,
       "version_minor": 0
      },
      "text/plain": [
       "Output()"
      ]
     },
     "metadata": {},
     "output_type": "display_data"
    },
    {
     "data": {
      "text/html": [
       "<pre style=\"white-space:pre;overflow-x:auto;line-height:normal;font-family:Menlo,'DejaVu Sans Mono',consolas,'Courier New',monospace\"></pre>\n"
      ],
      "text/plain": []
     },
     "metadata": {},
     "output_type": "display_data"
    },
    {
     "data": {
      "text/html": [
       "<pre style=\"white-space:pre;overflow-x:auto;line-height:normal;font-family:Menlo,'DejaVu Sans Mono',consolas,'Courier New',monospace\">\n",
       "</pre>\n"
      ],
      "text/plain": [
       "\n"
      ]
     },
     "metadata": {},
     "output_type": "display_data"
    }
   ],
   "source": [
    "for d in test_da:\n",
    "    d.uri = d.tags['filepath']\n",
    "images = finetuner.encode(model=clip_image_encoder, data=test_da)"
   ]
  },
  {
   "attachments": {},
   "cell_type": "markdown",
   "metadata": {},
   "source": [
    "Create `query texts` to evaluate the model..."
   ]
  },
  {
   "cell_type": "code",
   "execution_count": null,
   "metadata": {},
   "outputs": [],
   "source": [
    "#Race query texts\n",
    "race_labels = ['black', 'white', 'asian', 'indian', 'other']\n",
    "race_tks = []\n",
    "for label in race_labels:\n",
    "    race_tks.append('A photo of a person of ' + label + ' race.')\n",
    "\n",
    "#Sex query texts\n",
    "sex_labels = ['male', 'female']\n",
    "sex_tks = []\n",
    "for label in sex_labels:\n",
    "    sex_tks.append('A photo of a person of ' + label + ' gender.')\n",
    "\n",
    "\n"
   ]
  },
  {
   "attachments": {},
   "cell_type": "markdown",
   "metadata": {},
   "source": [
    "Saving `sex texts` embeddings..."
   ]
  },
  {
   "cell_type": "code",
   "execution_count": null,
   "metadata": {},
   "outputs": [
    {
     "data": {
      "text/html": [
       "<pre style=\"white-space:pre;overflow-x:auto;line-height:normal;font-family:Menlo,'DejaVu Sans Mono',consolas,'Courier New',monospace\">📄 <span style=\"font-weight: bold\">Document</span>: <span style=\"color: #008080; text-decoration-color: #008080\">25e2af94cc92c39750b47825364c64ae</span>\n",
       "╭──────────────────┬───────────────────────────────────────────────────────────╮\n",
       "│<span style=\"font-weight: bold\"> Attribute        </span>│<span style=\"font-weight: bold\"> Value                                                     </span>│\n",
       "├──────────────────┼───────────────────────────────────────────────────────────┤\n",
       "│ text             │ A photo of a person of male gender.                       │\n",
       "╰──────────────────┴───────────────────────────────────────────────────────────╯\n",
       "</pre>\n"
      ],
      "text/plain": [
       "📄 \u001b[1mDocument\u001b[0m: \u001b[36m25e2af94cc92c39750b47825364c64ae\u001b[0m\n",
       "╭──────────────────┬───────────────────────────────────────────────────────────╮\n",
       "│\u001b[1m \u001b[0m\u001b[1mAttribute       \u001b[0m\u001b[1m \u001b[0m│\u001b[1m \u001b[0m\u001b[1mValue                                                    \u001b[0m\u001b[1m \u001b[0m│\n",
       "├──────────────────┼───────────────────────────────────────────────────────────┤\n",
       "│ text             │ A photo of a person of male gender.                       │\n",
       "╰──────────────────┴───────────────────────────────────────────────────────────╯\n"
      ]
     },
     "metadata": {},
     "output_type": "display_data"
    },
    {
     "data": {
      "text/html": [
       "<pre style=\"white-space:pre;overflow-x:auto;line-height:normal;font-family:Menlo,'DejaVu Sans Mono',consolas,'Courier New',monospace\">📄 <span style=\"font-weight: bold\">Document</span>: <span style=\"color: #008080; text-decoration-color: #008080\">74279661774e0357598b840f91f68795</span>\n",
       "╭─────────────────┬────────────────────────────────────────────────────────────╮\n",
       "│<span style=\"font-weight: bold\"> Attribute       </span>│<span style=\"font-weight: bold\"> Value                                                      </span>│\n",
       "├─────────────────┼────────────────────────────────────────────────────────────┤\n",
       "│ text            │ A photo of a person of female gender.                      │\n",
       "╰─────────────────┴────────────────────────────────────────────────────────────╯\n",
       "</pre>\n"
      ],
      "text/plain": [
       "📄 \u001b[1mDocument\u001b[0m: \u001b[36m74279661774e0357598b840f91f68795\u001b[0m\n",
       "╭─────────────────┬────────────────────────────────────────────────────────────╮\n",
       "│\u001b[1m \u001b[0m\u001b[1mAttribute      \u001b[0m\u001b[1m \u001b[0m│\u001b[1m \u001b[0m\u001b[1mValue                                                     \u001b[0m\u001b[1m \u001b[0m│\n",
       "├─────────────────┼────────────────────────────────────────────────────────────┤\n",
       "│ text            │ A photo of a person of female gender.                      │\n",
       "╰─────────────────┴────────────────────────────────────────────────────────────╯\n"
      ]
     },
     "metadata": {},
     "output_type": "display_data"
    },
    {
     "data": {
      "application/vnd.jupyter.widget-view+json": {
       "model_id": "a9ffaeb792d8411394380814d73ab5a8",
       "version_major": 2,
       "version_minor": 0
      },
      "text/plain": [
       "Output()"
      ]
     },
     "metadata": {},
     "output_type": "display_data"
    },
    {
     "data": {
      "text/html": [
       "<pre style=\"white-space:pre;overflow-x:auto;line-height:normal;font-family:Menlo,'DejaVu Sans Mono',consolas,'Courier New',monospace\"></pre>\n"
      ],
      "text/plain": []
     },
     "metadata": {},
     "output_type": "display_data"
    },
    {
     "data": {
      "text/html": [
       "<pre style=\"white-space:pre;overflow-x:auto;line-height:normal;font-family:Menlo,'DejaVu Sans Mono',consolas,'Courier New',monospace\">\n",
       "</pre>\n"
      ],
      "text/plain": [
       "\n"
      ]
     },
     "metadata": {},
     "output_type": "display_data"
    },
    {
     "data": {
      "text/html": [
       "<pre style=\"white-space:pre;overflow-x:auto;line-height:normal;font-family:Menlo,'DejaVu Sans Mono',consolas,'Courier New',monospace\">╭────────────────── Documents Summary ───────────────────╮\n",
       "│                                                        │\n",
       "│   Type                   DocumentArrayInMemory         │\n",
       "│   Length                 <span style=\"color: #008080; text-decoration-color: #008080; font-weight: bold\">2</span>                             │\n",
       "│   Homogenous Documents   <span style=\"color: #00ff00; text-decoration-color: #00ff00; font-style: italic\">True</span>                          │\n",
       "│   Common Attributes      <span style=\"font-weight: bold\">(</span><span style=\"color: #008000; text-decoration-color: #008000\">'id'</span>, <span style=\"color: #008000; text-decoration-color: #008000\">'text'</span>, <span style=\"color: #008000; text-decoration-color: #008000\">'embedding'</span><span style=\"font-weight: bold\">)</span>   │\n",
       "│   Multimodal dataclass   <span style=\"color: #ff0000; text-decoration-color: #ff0000; font-style: italic\">False</span>                         │\n",
       "│                                                        │\n",
       "╰────────────────────────────────────────────────────────╯\n",
       "╭────────────────────── Attributes Summary ───────────────────────╮\n",
       "│                                                                 │\n",
       "│  <span style=\"font-weight: bold\"> Attribute </span> <span style=\"font-weight: bold\"> Data type    </span> <span style=\"font-weight: bold\"> #Unique values </span> <span style=\"font-weight: bold\"> Has empty value </span>  │\n",
       "│  ─────────────────────────────────────────────────────────────  │\n",
       "│   embedding   <span style=\"font-weight: bold\">(</span><span style=\"color: #008000; text-decoration-color: #008000\">'ndarray'</span>,<span style=\"font-weight: bold\">)</span>   <span style=\"color: #008080; text-decoration-color: #008080; font-weight: bold\">2</span>                <span style=\"color: #ff0000; text-decoration-color: #ff0000; font-style: italic\">False</span>             │\n",
       "│   id          <span style=\"font-weight: bold\">(</span><span style=\"color: #008000; text-decoration-color: #008000\">'str'</span>,<span style=\"font-weight: bold\">)</span>       <span style=\"color: #008080; text-decoration-color: #008080; font-weight: bold\">2</span>                <span style=\"color: #ff0000; text-decoration-color: #ff0000; font-style: italic\">False</span>             │\n",
       "│   text        <span style=\"font-weight: bold\">(</span><span style=\"color: #008000; text-decoration-color: #008000\">'str'</span>,<span style=\"font-weight: bold\">)</span>       <span style=\"color: #008080; text-decoration-color: #008080; font-weight: bold\">2</span>                <span style=\"color: #ff0000; text-decoration-color: #ff0000; font-style: italic\">False</span>             │\n",
       "│                                                                 │\n",
       "╰─────────────────────────────────────────────────────────────────╯\n",
       "</pre>\n"
      ],
      "text/plain": [
       "╭────────────────── Documents Summary ───────────────────╮\n",
       "│                                                        │\n",
       "│   Type                   DocumentArrayInMemory         │\n",
       "│   Length                 \u001b[1;36m2\u001b[0m                             │\n",
       "│   Homogenous Documents   \u001b[3;92mTrue\u001b[0m                          │\n",
       "│   Common Attributes      \u001b[1m(\u001b[0m\u001b[32m'id'\u001b[0m, \u001b[32m'text'\u001b[0m, \u001b[32m'embedding'\u001b[0m\u001b[1m)\u001b[0m   │\n",
       "│   Multimodal dataclass   \u001b[3;91mFalse\u001b[0m                         │\n",
       "│                                                        │\n",
       "╰────────────────────────────────────────────────────────╯\n",
       "╭────────────────────── Attributes Summary ───────────────────────╮\n",
       "│                                                                 │\n",
       "│  \u001b[1m \u001b[0m\u001b[1mAttribute\u001b[0m\u001b[1m \u001b[0m \u001b[1m \u001b[0m\u001b[1mData type   \u001b[0m\u001b[1m \u001b[0m \u001b[1m \u001b[0m\u001b[1m#Unique values\u001b[0m\u001b[1m \u001b[0m \u001b[1m \u001b[0m\u001b[1mHas empty value\u001b[0m\u001b[1m \u001b[0m  │\n",
       "│  ─────────────────────────────────────────────────────────────  │\n",
       "│   embedding   \u001b[1m(\u001b[0m\u001b[32m'ndarray'\u001b[0m,\u001b[1m)\u001b[0m   \u001b[1;36m2\u001b[0m                \u001b[3;91mFalse\u001b[0m             │\n",
       "│   id          \u001b[1m(\u001b[0m\u001b[32m'str'\u001b[0m,\u001b[1m)\u001b[0m       \u001b[1;36m2\u001b[0m                \u001b[3;91mFalse\u001b[0m             │\n",
       "│   text        \u001b[1m(\u001b[0m\u001b[32m'str'\u001b[0m,\u001b[1m)\u001b[0m       \u001b[1;36m2\u001b[0m                \u001b[3;91mFalse\u001b[0m             │\n",
       "│                                                                 │\n",
       "╰─────────────────────────────────────────────────────────────────╯\n"
      ]
     },
     "metadata": {},
     "output_type": "display_data"
    }
   ],
   "source": [
    "text_docs = DocumentArray()\n",
    "for item in sex_tks:\n",
    "    text_docs.append(Document(content=item))\n",
    "text_docs[0].summary()\n",
    "text_docs[1].summary()\n",
    "\n",
    "finetuner.encode(model=clip_text_encoder, data=text_docs)"
   ]
  },
  {
   "attachments": {},
   "cell_type": "markdown",
   "metadata": {},
   "source": [
    "Testing model for `sex predictions`..."
   ]
  },
  {
   "cell_type": "code",
   "execution_count": null,
   "metadata": {},
   "outputs": [],
   "source": [
    "images.match(text_docs, metric='cosine', limit=1)\n",
    "y_true = [image.tags['gender'] for image in images]\n",
    "y_predict = [image.matches[0].text.split(' ')[-2] for image in images]\n",
    "labels = ['male', 'female']"
   ]
  },
  {
   "attachments": {},
   "cell_type": "markdown",
   "metadata": {},
   "source": [
    "## Detecting bias in finetuned `CLIP ` (sex results)"
   ]
  },
  {
   "attachments": {},
   "cell_type": "markdown",
   "metadata": {},
   "source": [
    "`Disparate impact`"
   ]
  },
  {
   "cell_type": "code",
   "execution_count": null,
   "metadata": {},
   "outputs": [
    {
     "name": "stdout",
     "output_type": "stream",
     "text": [
      "DISPARATE IMPACT.\n",
      "No disparate impact present\n"
     ]
    },
    {
     "data": {
      "text/plain": [
       "False"
      ]
     },
     "execution_count": 26,
     "metadata": {},
     "output_type": "execute_result"
    }
   ],
   "source": [
    "metrics.disparate_impact(y_true, y_predict, labels)"
   ]
  },
  {
   "attachments": {},
   "cell_type": "markdown",
   "metadata": {},
   "source": [
    "`Equalized odds`"
   ]
  },
  {
   "cell_type": "code",
   "execution_count": null,
   "metadata": {},
   "outputs": [
    {
     "name": "stdout",
     "output_type": "stream",
     "text": [
      "EQUALIZED ODDS\n",
      "Equalized odds\n"
     ]
    },
    {
     "data": {
      "text/plain": [
       "True"
      ]
     },
     "execution_count": 27,
     "metadata": {},
     "output_type": "execute_result"
    }
   ],
   "source": [
    "metrics.equalized_odds(y_true, y_predict, labels)"
   ]
  },
  {
   "attachments": {},
   "cell_type": "markdown",
   "metadata": {},
   "source": [
    "## `Sex` Evaluation Metrics"
   ]
  },
  {
   "attachments": {},
   "cell_type": "markdown",
   "metadata": {},
   "source": [
    "`Macro accuracy`"
   ]
  },
  {
   "cell_type": "code",
   "execution_count": null,
   "metadata": {},
   "outputs": [
    {
     "data": {
      "text/plain": [
       "0.9597124603715524"
      ]
     },
     "execution_count": 28,
     "metadata": {},
     "output_type": "execute_result"
    }
   ],
   "source": [
    "metrics.macro_accuracy(y_true, y_predict)"
   ]
  },
  {
   "attachments": {},
   "cell_type": "markdown",
   "metadata": {},
   "source": [
    "`Macro F1`"
   ]
  },
  {
   "cell_type": "code",
   "execution_count": null,
   "metadata": {},
   "outputs": [
    {
     "data": {
      "text/plain": [
       "0.9580240522177677"
      ]
     },
     "execution_count": 29,
     "metadata": {},
     "output_type": "execute_result"
    }
   ],
   "source": [
    "metrics.macro_f1(y_true, y_predict, labels)"
   ]
  },
  {
   "attachments": {},
   "cell_type": "markdown",
   "metadata": {},
   "source": [
    "`Confusion matrix`"
   ]
  },
  {
   "cell_type": "code",
   "execution_count": null,
   "metadata": {},
   "outputs": [
    {
     "data": {
      "text/plain": [
       "array([[0.92251816, 0.07748184],\n",
       "       [0.00309324, 0.99690676]])"
      ]
     },
     "execution_count": 30,
     "metadata": {},
     "output_type": "execute_result"
    }
   ],
   "source": [
    "metrics.confusion_matrix(y_true, y_predict, labels, plot=False)"
   ]
  },
  {
   "attachments": {},
   "cell_type": "markdown",
   "metadata": {},
   "source": [
    "## Detecting bias in finetuned `CLIP ` (race results)"
   ]
  },
  {
   "attachments": {},
   "cell_type": "markdown",
   "metadata": {},
   "source": [
    "Saving `race texts` embeddings..."
   ]
  },
  {
   "cell_type": "code",
   "execution_count": null,
   "metadata": {},
   "outputs": [
    {
     "data": {
      "text/html": [
       "<pre style=\"white-space:pre;overflow-x:auto;line-height:normal;font-family:Menlo,'DejaVu Sans Mono',consolas,'Courier New',monospace\">📄 <span style=\"font-weight: bold\">Document</span>: <span style=\"color: #008080; text-decoration-color: #008080\">553df6163cffb9447d966c3c0e00aadf</span>\n",
       "╭───────────────────┬──────────────────────────────────────────────────────────╮\n",
       "│<span style=\"font-weight: bold\"> Attribute         </span>│<span style=\"font-weight: bold\"> Value                                                    </span>│\n",
       "├───────────────────┼──────────────────────────────────────────────────────────┤\n",
       "│ text              │ A photo of a person of black race.                       │\n",
       "╰───────────────────┴──────────────────────────────────────────────────────────╯\n",
       "</pre>\n"
      ],
      "text/plain": [
       "📄 \u001b[1mDocument\u001b[0m: \u001b[36m553df6163cffb9447d966c3c0e00aadf\u001b[0m\n",
       "╭───────────────────┬──────────────────────────────────────────────────────────╮\n",
       "│\u001b[1m \u001b[0m\u001b[1mAttribute        \u001b[0m\u001b[1m \u001b[0m│\u001b[1m \u001b[0m\u001b[1mValue                                                   \u001b[0m\u001b[1m \u001b[0m│\n",
       "├───────────────────┼──────────────────────────────────────────────────────────┤\n",
       "│ text              │ A photo of a person of black race.                       │\n",
       "╰───────────────────┴──────────────────────────────────────────────────────────╯\n"
      ]
     },
     "metadata": {},
     "output_type": "display_data"
    },
    {
     "data": {
      "text/html": [
       "<pre style=\"white-space:pre;overflow-x:auto;line-height:normal;font-family:Menlo,'DejaVu Sans Mono',consolas,'Courier New',monospace\">📄 <span style=\"font-weight: bold\">Document</span>: <span style=\"color: #008080; text-decoration-color: #008080\">303b80c76ac3459d3251e038c35aa885</span>\n",
       "╭───────────────────┬──────────────────────────────────────────────────────────╮\n",
       "│<span style=\"font-weight: bold\"> Attribute         </span>│<span style=\"font-weight: bold\"> Value                                                    </span>│\n",
       "├───────────────────┼──────────────────────────────────────────────────────────┤\n",
       "│ text              │ A photo of a person of white race.                       │\n",
       "╰───────────────────┴──────────────────────────────────────────────────────────╯\n",
       "</pre>\n"
      ],
      "text/plain": [
       "📄 \u001b[1mDocument\u001b[0m: \u001b[36m303b80c76ac3459d3251e038c35aa885\u001b[0m\n",
       "╭───────────────────┬──────────────────────────────────────────────────────────╮\n",
       "│\u001b[1m \u001b[0m\u001b[1mAttribute        \u001b[0m\u001b[1m \u001b[0m│\u001b[1m \u001b[0m\u001b[1mValue                                                   \u001b[0m\u001b[1m \u001b[0m│\n",
       "├───────────────────┼──────────────────────────────────────────────────────────┤\n",
       "│ text              │ A photo of a person of white race.                       │\n",
       "╰───────────────────┴──────────────────────────────────────────────────────────╯\n"
      ]
     },
     "metadata": {},
     "output_type": "display_data"
    },
    {
     "data": {
      "application/vnd.jupyter.widget-view+json": {
       "model_id": "ab84b6422adf4904a0dbf349e7ec3fb6",
       "version_major": 2,
       "version_minor": 0
      },
      "text/plain": [
       "Output()"
      ]
     },
     "metadata": {},
     "output_type": "display_data"
    },
    {
     "data": {
      "text/html": [
       "<pre style=\"white-space:pre;overflow-x:auto;line-height:normal;font-family:Menlo,'DejaVu Sans Mono',consolas,'Courier New',monospace\"></pre>\n"
      ],
      "text/plain": []
     },
     "metadata": {},
     "output_type": "display_data"
    },
    {
     "data": {
      "text/html": [
       "<pre style=\"white-space:pre;overflow-x:auto;line-height:normal;font-family:Menlo,'DejaVu Sans Mono',consolas,'Courier New',monospace\">\n",
       "</pre>\n"
      ],
      "text/plain": [
       "\n"
      ]
     },
     "metadata": {},
     "output_type": "display_data"
    },
    {
     "data": {
      "text/html": [
       "<pre style=\"white-space:pre;overflow-x:auto;line-height:normal;font-family:Menlo,'DejaVu Sans Mono',consolas,'Courier New',monospace\">╭────────────────── Documents Summary ───────────────────╮\n",
       "│                                                        │\n",
       "│   Type                   DocumentArrayInMemory         │\n",
       "│   Length                 <span style=\"color: #008080; text-decoration-color: #008080; font-weight: bold\">5</span>                             │\n",
       "│   Homogenous Documents   <span style=\"color: #00ff00; text-decoration-color: #00ff00; font-style: italic\">True</span>                          │\n",
       "│   Common Attributes      <span style=\"font-weight: bold\">(</span><span style=\"color: #008000; text-decoration-color: #008000\">'id'</span>, <span style=\"color: #008000; text-decoration-color: #008000\">'text'</span>, <span style=\"color: #008000; text-decoration-color: #008000\">'embedding'</span><span style=\"font-weight: bold\">)</span>   │\n",
       "│   Multimodal dataclass   <span style=\"color: #ff0000; text-decoration-color: #ff0000; font-style: italic\">False</span>                         │\n",
       "│                                                        │\n",
       "╰────────────────────────────────────────────────────────╯\n",
       "╭────────────────────── Attributes Summary ───────────────────────╮\n",
       "│                                                                 │\n",
       "│  <span style=\"font-weight: bold\"> Attribute </span> <span style=\"font-weight: bold\"> Data type    </span> <span style=\"font-weight: bold\"> #Unique values </span> <span style=\"font-weight: bold\"> Has empty value </span>  │\n",
       "│  ─────────────────────────────────────────────────────────────  │\n",
       "│   embedding   <span style=\"font-weight: bold\">(</span><span style=\"color: #008000; text-decoration-color: #008000\">'ndarray'</span>,<span style=\"font-weight: bold\">)</span>   <span style=\"color: #008080; text-decoration-color: #008080; font-weight: bold\">5</span>                <span style=\"color: #ff0000; text-decoration-color: #ff0000; font-style: italic\">False</span>             │\n",
       "│   id          <span style=\"font-weight: bold\">(</span><span style=\"color: #008000; text-decoration-color: #008000\">'str'</span>,<span style=\"font-weight: bold\">)</span>       <span style=\"color: #008080; text-decoration-color: #008080; font-weight: bold\">5</span>                <span style=\"color: #ff0000; text-decoration-color: #ff0000; font-style: italic\">False</span>             │\n",
       "│   text        <span style=\"font-weight: bold\">(</span><span style=\"color: #008000; text-decoration-color: #008000\">'str'</span>,<span style=\"font-weight: bold\">)</span>       <span style=\"color: #008080; text-decoration-color: #008080; font-weight: bold\">5</span>                <span style=\"color: #ff0000; text-decoration-color: #ff0000; font-style: italic\">False</span>             │\n",
       "│                                                                 │\n",
       "╰─────────────────────────────────────────────────────────────────╯\n",
       "</pre>\n"
      ],
      "text/plain": [
       "╭────────────────── Documents Summary ───────────────────╮\n",
       "│                                                        │\n",
       "│   Type                   DocumentArrayInMemory         │\n",
       "│   Length                 \u001b[1;36m5\u001b[0m                             │\n",
       "│   Homogenous Documents   \u001b[3;92mTrue\u001b[0m                          │\n",
       "│   Common Attributes      \u001b[1m(\u001b[0m\u001b[32m'id'\u001b[0m, \u001b[32m'text'\u001b[0m, \u001b[32m'embedding'\u001b[0m\u001b[1m)\u001b[0m   │\n",
       "│   Multimodal dataclass   \u001b[3;91mFalse\u001b[0m                         │\n",
       "│                                                        │\n",
       "╰────────────────────────────────────────────────────────╯\n",
       "╭────────────────────── Attributes Summary ───────────────────────╮\n",
       "│                                                                 │\n",
       "│  \u001b[1m \u001b[0m\u001b[1mAttribute\u001b[0m\u001b[1m \u001b[0m \u001b[1m \u001b[0m\u001b[1mData type   \u001b[0m\u001b[1m \u001b[0m \u001b[1m \u001b[0m\u001b[1m#Unique values\u001b[0m\u001b[1m \u001b[0m \u001b[1m \u001b[0m\u001b[1mHas empty value\u001b[0m\u001b[1m \u001b[0m  │\n",
       "│  ─────────────────────────────────────────────────────────────  │\n",
       "│   embedding   \u001b[1m(\u001b[0m\u001b[32m'ndarray'\u001b[0m,\u001b[1m)\u001b[0m   \u001b[1;36m5\u001b[0m                \u001b[3;91mFalse\u001b[0m             │\n",
       "│   id          \u001b[1m(\u001b[0m\u001b[32m'str'\u001b[0m,\u001b[1m)\u001b[0m       \u001b[1;36m5\u001b[0m                \u001b[3;91mFalse\u001b[0m             │\n",
       "│   text        \u001b[1m(\u001b[0m\u001b[32m'str'\u001b[0m,\u001b[1m)\u001b[0m       \u001b[1;36m5\u001b[0m                \u001b[3;91mFalse\u001b[0m             │\n",
       "│                                                                 │\n",
       "╰─────────────────────────────────────────────────────────────────╯\n"
      ]
     },
     "metadata": {},
     "output_type": "display_data"
    }
   ],
   "source": [
    "text_docs = DocumentArray()\n",
    "for item in race_tks:\n",
    "    text_docs.append(Document(content=item))\n",
    "text_docs[0].summary()\n",
    "text_docs[1].summary()\n",
    "\n",
    "finetuner.encode(model=clip_text_encoder, data=text_docs)"
   ]
  },
  {
   "attachments": {},
   "cell_type": "markdown",
   "metadata": {},
   "source": [
    "Testing model for `race predictions`..."
   ]
  },
  {
   "cell_type": "code",
   "execution_count": null,
   "metadata": {},
   "outputs": [],
   "source": [
    "images.match(text_docs, metric='cosine', limit=1)\n",
    "y_true = [image.tags['race'] for image in images]\n",
    "y_predict = [image.matches[0].text.split(' ')[-2] for image in images]\n",
    "labels = ['white', 'black', 'asian', 'indian', 'other']\n"
   ]
  },
  {
   "attachments": {},
   "cell_type": "markdown",
   "metadata": {},
   "source": [
    "`Disparate impact`\n",
    "\n",
    "\n"
   ]
  },
  {
   "cell_type": "code",
   "execution_count": null,
   "metadata": {},
   "outputs": [
    {
     "name": "stdout",
     "output_type": "stream",
     "text": [
      "DISPARATE IMPACT.\n",
      "Disparate impact present in  white/black\n",
      "Value:0.3877758354374957\n",
      "Disparate impact present in  white/asian\n",
      "Value:0.2646690073029772\n",
      "Disparate impact present in  white/indian\n",
      "Value:0.31874743182723336\n",
      "Disparate impact present in  white/other\n",
      "Value:0.13593860561914675\n",
      "Disparate impact present in  black/asian\n",
      "Value:0.6825309447257663\n",
      "Disparate impact present in  black/other\n",
      "Value:0.35055976467893707\n",
      "Disparate impact present in  asian/other\n",
      "Value:0.5136173933033737\n",
      "Disparate impact present in  indian/other\n",
      "Value:0.42647749297891696\n"
     ]
    },
    {
     "data": {
      "text/plain": [
       "True"
      ]
     },
     "execution_count": 33,
     "metadata": {},
     "output_type": "execute_result"
    }
   ],
   "source": [
    "metrics.disparate_impact(y_true, y_predict, labels)"
   ]
  },
  {
   "attachments": {},
   "cell_type": "markdown",
   "metadata": {},
   "source": [
    "`Equalized odds`"
   ]
  },
  {
   "cell_type": "code",
   "execution_count": null,
   "metadata": {},
   "outputs": [
    {
     "name": "stdout",
     "output_type": "stream",
     "text": [
      "EQUALIZED ODDS\n",
      "0.12237906649357189: Not equalized odds between white and black (tpr). Privileged group: asian\n",
      "0.22110950982623045: Not equalized odds between white and asian (tpr). Privileged group: asian\n",
      "0.18243987702295672: Not equalized odds between white and indian (tpr). Privileged group: asian\n"
     ]
    },
    {
     "data": {
      "text/plain": [
       "False"
      ]
     },
     "execution_count": 34,
     "metadata": {},
     "output_type": "execute_result"
    }
   ],
   "source": [
    "metrics.equalized_odds(y_true, y_predict, labels)"
   ]
  },
  {
   "attachments": {},
   "cell_type": "markdown",
   "metadata": {},
   "source": [
    "## `Race` Evaluation Metrics"
   ]
  },
  {
   "attachments": {},
   "cell_type": "markdown",
   "metadata": {},
   "source": [
    "`Macro accuracy`"
   ]
  },
  {
   "cell_type": "code",
   "execution_count": null,
   "metadata": {},
   "outputs": [
    {
     "data": {
      "text/plain": [
       "0.9083313291491779"
      ]
     },
     "execution_count": 35,
     "metadata": {},
     "output_type": "execute_result"
    }
   ],
   "source": [
    "metrics.macro_accuracy(y_true, y_predict)"
   ]
  },
  {
   "attachments": {},
   "cell_type": "markdown",
   "metadata": {},
   "source": [
    "`Macro F1`"
   ]
  },
  {
   "cell_type": "code",
   "execution_count": null,
   "metadata": {},
   "outputs": [
    {
     "data": {
      "text/plain": [
       "0.8527411077502229"
      ]
     },
     "execution_count": 36,
     "metadata": {},
     "output_type": "execute_result"
    }
   ],
   "source": [
    "metrics.macro_f1(y_true, y_predict, labels)"
   ]
  },
  {
   "attachments": {},
   "cell_type": "markdown",
   "metadata": {},
   "source": [
    "`Confusion matrix`"
   ]
  },
  {
   "cell_type": "code",
   "execution_count": null,
   "metadata": {},
   "outputs": [
    {
     "data": {
      "text/plain": [
       "array([[0.76724566, 0.0044665 , 0.00099256, 0.00794045, 0.21935484],\n",
       "       [0.00220751, 0.88962472, 0.00110375, 0.00220751, 0.10485651],\n",
       "       [0.        , 0.        , 0.98835517, 0.00582242, 0.00582242],\n",
       "       [0.00377358, 0.00251572, 0.        , 0.94968553, 0.04402516],\n",
       "       [0.00591716, 0.00887574, 0.00295858, 0.03550296, 0.94674556]])"
      ]
     },
     "execution_count": 37,
     "metadata": {},
     "output_type": "execute_result"
    }
   ],
   "source": [
    "metrics.confusion_matrix(y_true, y_predict, labels, plot = False)"
   ]
  }
 ],
 "metadata": {
  "kernelspec": {
   "display_name": "Python 3",
   "language": "python",
   "name": "python3"
  },
  "language_info": {
   "codemirror_mode": {
    "name": "ipython",
    "version": 3
   },
   "file_extension": ".py",
   "mimetype": "text/x-python",
   "name": "python",
   "nbconvert_exporter": "python",
   "pygments_lexer": "ipython3",
   "version": "3.9.5"
  },
  "orig_nbformat": 4
 },
 "nbformat": 4,
 "nbformat_minor": 2
}
