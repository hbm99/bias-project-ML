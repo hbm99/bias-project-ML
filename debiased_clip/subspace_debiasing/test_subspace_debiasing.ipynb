{
 "cells": [
  {
   "cell_type": "code",
   "execution_count": 1,
   "metadata": {},
   "outputs": [],
   "source": [
    "import numpy as np\n",
    "from sklearn import metrics\n",
    "\n",
    "from clip_subspace_debiasing import subspace_debiasing"
   ]
  },
  {
   "cell_type": "code",
   "execution_count": null,
   "metadata": {},
   "outputs": [],
   "source": [
    "TP='tp'\n",
    "FP='fp'\n",
    "FN='fn'\n",
    "MALE='male'\n",
    "FEMALE= 'female'\n",
    "labels=[MALE, FEMALE]"
   ]
  },
  {
   "cell_type": "code",
   "execution_count": 4,
   "metadata": {},
   "outputs": [
    {
     "name": "stderr",
     "output_type": "stream",
     "text": [
      "/Users/hanselblanco/Documents/4to/ML/project/bias-project-ML/data_preprocess.py:58: SettingWithCopyWarning: \n",
      "A value is trying to be set on a copy of a slice from a DataFrame\n",
      "\n",
      "See the caveats in the documentation: https://pandas.pydata.org/pandas-docs/stable/user_guide/indexing.html#returning-a-view-versus-a-copy\n",
      "  df['gender'][i]= GENDER_MAPPER[df['gender'][i]]\n",
      "/Users/hanselblanco/Documents/4to/ML/project/bias-project-ML/data_preprocess.py:59: SettingWithCopyWarning: \n",
      "A value is trying to be set on a copy of a slice from a DataFrame\n",
      "\n",
      "See the caveats in the documentation: https://pandas.pydata.org/pandas-docs/stable/user_guide/indexing.html#returning-a-view-versus-a-copy\n",
      "  df['race'][i]= RACE_MAPPER[df['race'][i]]\n",
      "Found cached dataset md_gender_bias (/Users/hanselblanco/.cache/huggingface/datasets/md_gender_bias/image_chat/1.0.0/8ae77b51acf93383161cc954b146159291beca6c979b54ce228c46db86116c05)\n"
     ]
    },
    {
     "data": {
      "application/vnd.jupyter.widget-view+json": {
       "model_id": "334160c41a7a4f3d98044afc10d1dcb8",
       "version_major": 2,
       "version_minor": 0
      },
      "text/plain": [
       "  0%|          | 0/3 [00:00<?, ?it/s]"
      ]
     },
     "metadata": {},
     "output_type": "display_data"
    },
    {
     "name": "stderr",
     "output_type": "stream",
     "text": [
      "/Users/hanselblanco/Documents/4to/ML/project/bias-project-ML/debiased_clip/hard_debiased/clip_hard_debiasing.py:164: FutureWarning: The series.append method is deprecated and will be removed from pandas in a future version. Use pandas.concat instead.\n",
      "  R_male = dfs_pics[0]['image_encoded'].append(dfs_text[0]['text_encoded'], ignore_index=True)\n",
      "/Users/hanselblanco/Documents/4to/ML/project/bias-project-ML/debiased_clip/hard_debiased/clip_hard_debiasing.py:165: FutureWarning: The series.append method is deprecated and will be removed from pandas in a future version. Use pandas.concat instead.\n",
      "  R_female = dfs_pics[1]['image_encoded'].append(dfs_text[1]['text_encoded'], ignore_index=True)\n"
     ]
    }
   ],
   "source": [
    "df = subspace_debiasing('/Users/hanselblanco/Documents/4to/ML/project/bias-project-ML/data/utkface/')"
   ]
  },
  {
   "cell_type": "code",
   "execution_count": 5,
   "metadata": {},
   "outputs": [
    {
     "data": {
      "text/html": [
       "<div>\n",
       "<style scoped>\n",
       "    .dataframe tbody tr th:only-of-type {\n",
       "        vertical-align: middle;\n",
       "    }\n",
       "\n",
       "    .dataframe tbody tr th {\n",
       "        vertical-align: top;\n",
       "    }\n",
       "\n",
       "    .dataframe thead th {\n",
       "        text-align: right;\n",
       "    }\n",
       "</style>\n",
       "<table border=\"1\" class=\"dataframe\">\n",
       "  <thead>\n",
       "    <tr style=\"text-align: right;\">\n",
       "      <th></th>\n",
       "      <th>filename</th>\n",
       "      <th>filepath</th>\n",
       "      <th>age</th>\n",
       "      <th>gender</th>\n",
       "      <th>race</th>\n",
       "      <th>predicted_gender</th>\n",
       "    </tr>\n",
       "  </thead>\n",
       "  <tbody>\n",
       "    <tr>\n",
       "      <th>2812</th>\n",
       "      <td>30_0_2_20170116193341533.jpg.chip.jpg</td>\n",
       "      <td>/Users/hanselblanco/Documents/4to/ML/project/b...</td>\n",
       "      <td>30</td>\n",
       "      <td>male</td>\n",
       "      <td>asian</td>\n",
       "      <td>male</td>\n",
       "    </tr>\n",
       "    <tr>\n",
       "      <th>758</th>\n",
       "      <td>28_0_1_20170117020752716.jpg.chip.jpg</td>\n",
       "      <td>/Users/hanselblanco/Documents/4to/ML/project/b...</td>\n",
       "      <td>28</td>\n",
       "      <td>male</td>\n",
       "      <td>black</td>\n",
       "      <td>male</td>\n",
       "    </tr>\n",
       "    <tr>\n",
       "      <th>3854</th>\n",
       "      <td>35_0_2_20170116191718734.jpg.chip.jpg</td>\n",
       "      <td>/Users/hanselblanco/Documents/4to/ML/project/b...</td>\n",
       "      <td>35</td>\n",
       "      <td>male</td>\n",
       "      <td>asian</td>\n",
       "      <td>male</td>\n",
       "    </tr>\n",
       "    <tr>\n",
       "      <th>1161</th>\n",
       "      <td>26_0_0_20170113152221966.jpg.chip.jpg</td>\n",
       "      <td>/Users/hanselblanco/Documents/4to/ML/project/b...</td>\n",
       "      <td>26</td>\n",
       "      <td>male</td>\n",
       "      <td>white</td>\n",
       "      <td>female</td>\n",
       "    </tr>\n",
       "    <tr>\n",
       "      <th>194</th>\n",
       "      <td>25_1_0_20170117143952249.jpg.chip.jpg</td>\n",
       "      <td>/Users/hanselblanco/Documents/4to/ML/project/b...</td>\n",
       "      <td>25</td>\n",
       "      <td>female</td>\n",
       "      <td>white</td>\n",
       "      <td>female</td>\n",
       "    </tr>\n",
       "    <tr>\n",
       "      <th>1550</th>\n",
       "      <td>39_1_0_20170103183137809.jpg.chip.jpg</td>\n",
       "      <td>/Users/hanselblanco/Documents/4to/ML/project/b...</td>\n",
       "      <td>39</td>\n",
       "      <td>female</td>\n",
       "      <td>white</td>\n",
       "      <td>female</td>\n",
       "    </tr>\n",
       "    <tr>\n",
       "      <th>461</th>\n",
       "      <td>26_1_3_20170119193058134.jpg.chip.jpg</td>\n",
       "      <td>/Users/hanselblanco/Documents/4to/ML/project/b...</td>\n",
       "      <td>26</td>\n",
       "      <td>female</td>\n",
       "      <td>indian</td>\n",
       "      <td>female</td>\n",
       "    </tr>\n",
       "    <tr>\n",
       "      <th>2145</th>\n",
       "      <td>31_0_1_20170117135430980.jpg.chip.jpg</td>\n",
       "      <td>/Users/hanselblanco/Documents/4to/ML/project/b...</td>\n",
       "      <td>31</td>\n",
       "      <td>male</td>\n",
       "      <td>black</td>\n",
       "      <td>male</td>\n",
       "    </tr>\n",
       "    <tr>\n",
       "      <th>2027</th>\n",
       "      <td>35_0_0_20170116003147625.jpg.chip.jpg</td>\n",
       "      <td>/Users/hanselblanco/Documents/4to/ML/project/b...</td>\n",
       "      <td>35</td>\n",
       "      <td>male</td>\n",
       "      <td>white</td>\n",
       "      <td>male</td>\n",
       "    </tr>\n",
       "    <tr>\n",
       "      <th>2415</th>\n",
       "      <td>37_1_2_20170104005945096.jpg.chip.jpg</td>\n",
       "      <td>/Users/hanselblanco/Documents/4to/ML/project/b...</td>\n",
       "      <td>37</td>\n",
       "      <td>female</td>\n",
       "      <td>asian</td>\n",
       "      <td>male</td>\n",
       "    </tr>\n",
       "    <tr>\n",
       "      <th>2901</th>\n",
       "      <td>38_0_1_20170116200930390.jpg.chip.jpg</td>\n",
       "      <td>/Users/hanselblanco/Documents/4to/ML/project/b...</td>\n",
       "      <td>38</td>\n",
       "      <td>male</td>\n",
       "      <td>black</td>\n",
       "      <td>male</td>\n",
       "    </tr>\n",
       "    <tr>\n",
       "      <th>309</th>\n",
       "      <td>26_0_1_20170116204941727.jpg.chip.jpg</td>\n",
       "      <td>/Users/hanselblanco/Documents/4to/ML/project/b...</td>\n",
       "      <td>26</td>\n",
       "      <td>male</td>\n",
       "      <td>black</td>\n",
       "      <td>male</td>\n",
       "    </tr>\n",
       "    <tr>\n",
       "      <th>810</th>\n",
       "      <td>60_0_0_20170104213241125.jpg.chip.jpg</td>\n",
       "      <td>/Users/hanselblanco/Documents/4to/ML/project/b...</td>\n",
       "      <td>60</td>\n",
       "      <td>male</td>\n",
       "      <td>white</td>\n",
       "      <td>male</td>\n",
       "    </tr>\n",
       "    <tr>\n",
       "      <th>905</th>\n",
       "      <td>26_1_1_20170103181834825.jpg.chip.jpg</td>\n",
       "      <td>/Users/hanselblanco/Documents/4to/ML/project/b...</td>\n",
       "      <td>26</td>\n",
       "      <td>female</td>\n",
       "      <td>black</td>\n",
       "      <td>female</td>\n",
       "    </tr>\n",
       "    <tr>\n",
       "      <th>269</th>\n",
       "      <td>35_1_0_20170104181325301.jpg.chip.jpg</td>\n",
       "      <td>/Users/hanselblanco/Documents/4to/ML/project/b...</td>\n",
       "      <td>35</td>\n",
       "      <td>female</td>\n",
       "      <td>white</td>\n",
       "      <td>male</td>\n",
       "    </tr>\n",
       "    <tr>\n",
       "      <th>1828</th>\n",
       "      <td>14_0_0_20170120133332421.jpg.chip.jpg</td>\n",
       "      <td>/Users/hanselblanco/Documents/4to/ML/project/b...</td>\n",
       "      <td>14</td>\n",
       "      <td>male</td>\n",
       "      <td>white</td>\n",
       "      <td>male</td>\n",
       "    </tr>\n",
       "    <tr>\n",
       "      <th>2426</th>\n",
       "      <td>25_0_0_20170117143546538.jpg.chip.jpg</td>\n",
       "      <td>/Users/hanselblanco/Documents/4to/ML/project/b...</td>\n",
       "      <td>25</td>\n",
       "      <td>male</td>\n",
       "      <td>white</td>\n",
       "      <td>female</td>\n",
       "    </tr>\n",
       "    <tr>\n",
       "      <th>387</th>\n",
       "      <td>26_1_1_20170116162258869.jpg.chip.jpg</td>\n",
       "      <td>/Users/hanselblanco/Documents/4to/ML/project/b...</td>\n",
       "      <td>26</td>\n",
       "      <td>female</td>\n",
       "      <td>black</td>\n",
       "      <td>female</td>\n",
       "    </tr>\n",
       "    <tr>\n",
       "      <th>2797</th>\n",
       "      <td>22_0_0_20170117134610684.jpg.chip.jpg</td>\n",
       "      <td>/Users/hanselblanco/Documents/4to/ML/project/b...</td>\n",
       "      <td>22</td>\n",
       "      <td>male</td>\n",
       "      <td>white</td>\n",
       "      <td>male</td>\n",
       "    </tr>\n",
       "    <tr>\n",
       "      <th>4002</th>\n",
       "      <td>63_0_0_20170104212616357.jpg.chip.jpg</td>\n",
       "      <td>/Users/hanselblanco/Documents/4to/ML/project/b...</td>\n",
       "      <td>63</td>\n",
       "      <td>male</td>\n",
       "      <td>white</td>\n",
       "      <td>male</td>\n",
       "    </tr>\n",
       "  </tbody>\n",
       "</table>\n",
       "</div>"
      ],
      "text/plain": [
       "                                   filename  \\\n",
       "2812  30_0_2_20170116193341533.jpg.chip.jpg   \n",
       "758   28_0_1_20170117020752716.jpg.chip.jpg   \n",
       "3854  35_0_2_20170116191718734.jpg.chip.jpg   \n",
       "1161  26_0_0_20170113152221966.jpg.chip.jpg   \n",
       "194   25_1_0_20170117143952249.jpg.chip.jpg   \n",
       "1550  39_1_0_20170103183137809.jpg.chip.jpg   \n",
       "461   26_1_3_20170119193058134.jpg.chip.jpg   \n",
       "2145  31_0_1_20170117135430980.jpg.chip.jpg   \n",
       "2027  35_0_0_20170116003147625.jpg.chip.jpg   \n",
       "2415  37_1_2_20170104005945096.jpg.chip.jpg   \n",
       "2901  38_0_1_20170116200930390.jpg.chip.jpg   \n",
       "309   26_0_1_20170116204941727.jpg.chip.jpg   \n",
       "810   60_0_0_20170104213241125.jpg.chip.jpg   \n",
       "905   26_1_1_20170103181834825.jpg.chip.jpg   \n",
       "269   35_1_0_20170104181325301.jpg.chip.jpg   \n",
       "1828  14_0_0_20170120133332421.jpg.chip.jpg   \n",
       "2426  25_0_0_20170117143546538.jpg.chip.jpg   \n",
       "387   26_1_1_20170116162258869.jpg.chip.jpg   \n",
       "2797  22_0_0_20170117134610684.jpg.chip.jpg   \n",
       "4002  63_0_0_20170104212616357.jpg.chip.jpg   \n",
       "\n",
       "                                               filepath  age  gender    race  \\\n",
       "2812  /Users/hanselblanco/Documents/4to/ML/project/b...   30    male   asian   \n",
       "758   /Users/hanselblanco/Documents/4to/ML/project/b...   28    male   black   \n",
       "3854  /Users/hanselblanco/Documents/4to/ML/project/b...   35    male   asian   \n",
       "1161  /Users/hanselblanco/Documents/4to/ML/project/b...   26    male   white   \n",
       "194   /Users/hanselblanco/Documents/4to/ML/project/b...   25  female   white   \n",
       "1550  /Users/hanselblanco/Documents/4to/ML/project/b...   39  female   white   \n",
       "461   /Users/hanselblanco/Documents/4to/ML/project/b...   26  female  indian   \n",
       "2145  /Users/hanselblanco/Documents/4to/ML/project/b...   31    male   black   \n",
       "2027  /Users/hanselblanco/Documents/4to/ML/project/b...   35    male   white   \n",
       "2415  /Users/hanselblanco/Documents/4to/ML/project/b...   37  female   asian   \n",
       "2901  /Users/hanselblanco/Documents/4to/ML/project/b...   38    male   black   \n",
       "309   /Users/hanselblanco/Documents/4to/ML/project/b...   26    male   black   \n",
       "810   /Users/hanselblanco/Documents/4to/ML/project/b...   60    male   white   \n",
       "905   /Users/hanselblanco/Documents/4to/ML/project/b...   26  female   black   \n",
       "269   /Users/hanselblanco/Documents/4to/ML/project/b...   35  female   white   \n",
       "1828  /Users/hanselblanco/Documents/4to/ML/project/b...   14    male   white   \n",
       "2426  /Users/hanselblanco/Documents/4to/ML/project/b...   25    male   white   \n",
       "387   /Users/hanselblanco/Documents/4to/ML/project/b...   26  female   black   \n",
       "2797  /Users/hanselblanco/Documents/4to/ML/project/b...   22    male   white   \n",
       "4002  /Users/hanselblanco/Documents/4to/ML/project/b...   63    male   white   \n",
       "\n",
       "     predicted_gender  \n",
       "2812             male  \n",
       "758              male  \n",
       "3854             male  \n",
       "1161           female  \n",
       "194            female  \n",
       "1550           female  \n",
       "461            female  \n",
       "2145             male  \n",
       "2027             male  \n",
       "2415             male  \n",
       "2901             male  \n",
       "309              male  \n",
       "810              male  \n",
       "905            female  \n",
       "269              male  \n",
       "1828             male  \n",
       "2426           female  \n",
       "387            female  \n",
       "2797             male  \n",
       "4002             male  "
      ]
     },
     "execution_count": 5,
     "metadata": {},
     "output_type": "execute_result"
    }
   ],
   "source": [
    "df.sample(20)"
   ]
  },
  {
   "cell_type": "code",
   "execution_count": 6,
   "metadata": {},
   "outputs": [
    {
     "data": {
      "text/plain": [
       "3810"
      ]
     },
     "execution_count": 6,
     "metadata": {},
     "output_type": "execute_result"
    }
   ],
   "source": [
    "k=0\n",
    "for i in range(len(df)):\n",
    "    if(df['gender'][i]==df['predicted_gender'][i]): k+=1\n",
    "k"
   ]
  },
  {
   "cell_type": "code",
   "execution_count": null,
   "metadata": {},
   "outputs": [],
   "source": [
    "y_true=df['gender'].tolist()\n",
    "y_pred=df['predicted_gender'].tolist()"
   ]
  },
  {
   "cell_type": "code",
   "execution_count": null,
   "metadata": {},
   "outputs": [],
   "source": [
    "male_total=df['gender'].value_counts()[MALE]\n",
    "female_total= df['gender'].value_counts()[FEMALE]"
   ]
  },
  {
   "attachments": {},
   "cell_type": "markdown",
   "metadata": {},
   "source": [
    "#### Balanced Accuracy"
   ]
  },
  {
   "cell_type": "code",
   "execution_count": null,
   "metadata": {},
   "outputs": [],
   "source": [
    "macro_accuracy= metrics.balanced_accuracy_score(y_true, y_pred)\n",
    "macro_accuracy"
   ]
  },
  {
   "attachments": {},
   "cell_type": "markdown",
   "metadata": {},
   "source": [
    "#### F1 score (macro)\n",
    "\n",
    "F1 score can be interpreted as a measure of overall model performance from 0 to 1, where 1 is the best. To be more specific, F1 score can be interpreted as the model’s balanced ability to both capture positive cases (recall) and be accurate with the cases it does capture (precision).\n",
    "\n",
    "the model’s ability to both capture positive cases and be accurate with the cases it does capture"
   ]
  },
  {
   "cell_type": "code",
   "execution_count": null,
   "metadata": {},
   "outputs": [],
   "source": [
    "metrics.f1_score(y_true, y_pred, labels= labels, average='macro')"
   ]
  },
  {
   "attachments": {},
   "cell_type": "markdown",
   "metadata": {},
   "source": [
    "#### Confusion Matrix"
   ]
  },
  {
   "cell_type": "code",
   "execution_count": null,
   "metadata": {},
   "outputs": [],
   "source": [
    "\n",
    "confusion_matrix= metrics.confusion_matrix(y_true, y_pred, labels=labels)\n",
    "metrics.plot_confusion_matrix(confusion_matrix, labels=labels)"
   ]
  },
  {
   "attachments": {},
   "cell_type": "markdown",
   "metadata": {},
   "source": [
    "#### Computing FP TP FN"
   ]
  },
  {
   "cell_type": "code",
   "execution_count": null,
   "metadata": {},
   "outputs": [],
   "source": [
    "sex_rates = {'male':{'tp': 0, 'fp': 0, 'fn': 0}, 'female':{'tp': 0, 'fp': 0, 'fn': 0}}\n",
    "totals = {'male': 0, 'female': 0}"
   ]
  },
  {
   "cell_type": "code",
   "execution_count": null,
   "metadata": {},
   "outputs": [],
   "source": [
    "false_positives = confusion_matrix.sum(axis=0) - np.diag(confusion_matrix)  \n",
    "false_negatives = confusion_matrix.sum(axis=1) - np.diag(confusion_matrix)\n",
    "true_positives = np.diag(confusion_matrix)\n",
    "true_negatives = confusion_matrix.values.sum() - (FP + FN + TP)\n"
   ]
  },
  {
   "cell_type": "code",
   "execution_count": null,
   "metadata": {},
   "outputs": [],
   "source": [
    "# Filling dictionaries\n",
    "for i in range (len(labels)):\n",
    "    sex_rates[labels[i]][TP]= true_positives[i]\n",
    "    sex_rates[labels[i]][FP]= false_positives[i]\n",
    "    sex_rates[labels[i]][FN]= false_negatives[i]"
   ]
  },
  {
   "attachments": {},
   "cell_type": "markdown",
   "metadata": {},
   "source": [
    "#### Selection rate"
   ]
  },
  {
   "cell_type": "code",
   "execution_count": null,
   "metadata": {},
   "outputs": [],
   "source": [
    "males_sr = sex_rates[MALE][TP]/ male_total\n",
    "females_sr = sex_rates[FEMALE][TP]/ female_total\n",
    "males_sr, females_sr"
   ]
  },
  {
   "attachments": {},
   "cell_type": "markdown",
   "metadata": {},
   "source": [
    "#### TPR"
   ]
  },
  {
   "cell_type": "code",
   "execution_count": null,
   "metadata": {},
   "outputs": [],
   "source": [
    "males_tpr = sex_rates[MALE][TP]/ (sex_rates[MALE][TP] + sex_rates[MALE][FN])\n",
    "females_tpr = sex_rates[FEMALE][TP]/ (sex_rates[FEMALE][TP] + sex_rates[FEMALE][FN])\n",
    "\n",
    "males_tpr, females_tpr"
   ]
  },
  {
   "attachments": {},
   "cell_type": "markdown",
   "metadata": {},
   "source": [
    "#### FPR"
   ]
  },
  {
   "cell_type": "code",
   "execution_count": null,
   "metadata": {},
   "outputs": [],
   "source": [
    "males_fpr= sex_rates[MALE][FP]/(sex_rates[MALE][FP]+ sex_rates[MALE][FN])\n",
    "females_fpr= sex_rates[FEMALE][FP]/(sex_rates[FEMALE][FP]+ sex_rates[FEMALE][FN])\n",
    "\n",
    "males_fpr, females_fpr"
   ]
  },
  {
   "attachments": {},
   "cell_type": "markdown",
   "metadata": {},
   "source": [
    "### `Fairness Metrics`"
   ]
  },
  {
   "attachments": {},
   "cell_type": "markdown",
   "metadata": {},
   "source": [
    "#### Equalized Odds"
   ]
  },
  {
   "cell_type": "code",
   "execution_count": null,
   "metadata": {},
   "outputs": [],
   "source": [
    "if abs(males_tpr - females_tpr) < 0.1:\n",
    "    print('Equalized odds')\n",
    "else:\n",
    "    print('Not equalized odds')\n",
    "    print(abs(males_tpr - females_tpr))"
   ]
  },
  {
   "attachments": {},
   "cell_type": "markdown",
   "metadata": {},
   "source": [
    "#### Disparate impact"
   ]
  },
  {
   "cell_type": "code",
   "execution_count": null,
   "metadata": {},
   "outputs": [],
   "source": [
    "# disparate impact ratio = underprivileged group SR / privileged group SR\n",
    "disp_impact = females_sr / males_sr\n",
    "disp_impact"
   ]
  }
 ],
 "metadata": {
  "kernelspec": {
   "display_name": "Python 3",
   "language": "python",
   "name": "python3"
  },
  "language_info": {
   "codemirror_mode": {
    "name": "ipython",
    "version": 3
   },
   "file_extension": ".py",
   "mimetype": "text/x-python",
   "name": "python",
   "nbconvert_exporter": "python",
   "pygments_lexer": "ipython3",
   "version": "3.10.7"
  },
  "orig_nbformat": 4
 },
 "nbformat": 4,
 "nbformat_minor": 2
}
