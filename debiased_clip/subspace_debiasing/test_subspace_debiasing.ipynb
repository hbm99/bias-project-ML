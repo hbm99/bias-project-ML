{
 "cells": [
  {
   "cell_type": "code",
   "execution_count": 38,
   "metadata": {},
   "outputs": [],
   "source": [
    "import numpy as np\n",
    "from sklearn import metrics\n",
    "\n",
    "from clip_subspace_debiasing import subspace_debiasing"
   ]
  },
  {
   "cell_type": "code",
   "execution_count": 39,
   "metadata": {},
   "outputs": [],
   "source": [
    "TP='tp'\n",
    "FP='fp'\n",
    "FN='fn'\n",
    "MALE='male'\n",
    "FEMALE= 'female'\n",
    "labels=[MALE, FEMALE]"
   ]
  },
  {
   "cell_type": "code",
   "execution_count": 40,
   "metadata": {},
   "outputs": [
    {
     "name": "stderr",
     "output_type": "stream",
     "text": [
      "/Users/hanselblanco/Documents/4to/ML/project/bias-project-ML/data_preprocess.py:58: SettingWithCopyWarning: \n",
      "A value is trying to be set on a copy of a slice from a DataFrame\n",
      "\n",
      "See the caveats in the documentation: https://pandas.pydata.org/pandas-docs/stable/user_guide/indexing.html#returning-a-view-versus-a-copy\n",
      "  df['gender'][i]= GENDER_MAPPER[df['gender'][i]]\n",
      "/Users/hanselblanco/Documents/4to/ML/project/bias-project-ML/data_preprocess.py:59: SettingWithCopyWarning: \n",
      "A value is trying to be set on a copy of a slice from a DataFrame\n",
      "\n",
      "See the caveats in the documentation: https://pandas.pydata.org/pandas-docs/stable/user_guide/indexing.html#returning-a-view-versus-a-copy\n",
      "  df['race'][i]= RACE_MAPPER[df['race'][i]]\n",
      "Found cached dataset md_gender_bias (/Users/hanselblanco/.cache/huggingface/datasets/md_gender_bias/image_chat/1.0.0/8ae77b51acf93383161cc954b146159291beca6c979b54ce228c46db86116c05)\n"
     ]
    },
    {
     "data": {
      "application/vnd.jupyter.widget-view+json": {
       "model_id": "dc3c041e8d5a4c93a16c8e1b8076ae98",
       "version_major": 2,
       "version_minor": 0
      },
      "text/plain": [
       "  0%|          | 0/3 [00:00<?, ?it/s]"
      ]
     },
     "metadata": {},
     "output_type": "display_data"
    },
    {
     "name": "stderr",
     "output_type": "stream",
     "text": [
      "/Users/hanselblanco/Documents/4to/ML/project/bias-project-ML/debiased_clip/subspace_debiasing/clip_subspace_debiasing.py:156: FutureWarning: The series.append method is deprecated and will be removed from pandas in a future version. Use pandas.concat instead.\n",
      "  R_male = dfs_pics[0]['image_encoded'].append(dfs_text[0]['text_encoded'], ignore_index=True)\n",
      "/Users/hanselblanco/Documents/4to/ML/project/bias-project-ML/debiased_clip/subspace_debiasing/clip_subspace_debiasing.py:157: FutureWarning: The series.append method is deprecated and will be removed from pandas in a future version. Use pandas.concat instead.\n",
      "  R_female = dfs_pics[1]['image_encoded'].append(dfs_text[1]['text_encoded'], ignore_index=True)\n"
     ]
    }
   ],
   "source": [
    "df = subspace_debiasing('/Users/hanselblanco/Documents/4to/ML/project/bias-project-ML/data/utkface/')"
   ]
  },
  {
   "cell_type": "code",
   "execution_count": 41,
   "metadata": {},
   "outputs": [
    {
     "data": {
      "text/html": [
       "<div>\n",
       "<style scoped>\n",
       "    .dataframe tbody tr th:only-of-type {\n",
       "        vertical-align: middle;\n",
       "    }\n",
       "\n",
       "    .dataframe tbody tr th {\n",
       "        vertical-align: top;\n",
       "    }\n",
       "\n",
       "    .dataframe thead th {\n",
       "        text-align: right;\n",
       "    }\n",
       "</style>\n",
       "<table border=\"1\" class=\"dataframe\">\n",
       "  <thead>\n",
       "    <tr style=\"text-align: right;\">\n",
       "      <th></th>\n",
       "      <th>filename</th>\n",
       "      <th>filepath</th>\n",
       "      <th>age</th>\n",
       "      <th>gender</th>\n",
       "      <th>race</th>\n",
       "      <th>predicted_gender</th>\n",
       "    </tr>\n",
       "  </thead>\n",
       "  <tbody>\n",
       "    <tr>\n",
       "      <th>3932</th>\n",
       "      <td>45_1_0_20170109221158465.jpg.chip.jpg</td>\n",
       "      <td>/Users/hanselblanco/Documents/4to/ML/project/b...</td>\n",
       "      <td>45</td>\n",
       "      <td>female</td>\n",
       "      <td>white</td>\n",
       "      <td>female</td>\n",
       "    </tr>\n",
       "    <tr>\n",
       "      <th>1843</th>\n",
       "      <td>9_0_0_20170110215848132.jpg.chip.jpg</td>\n",
       "      <td>/Users/hanselblanco/Documents/4to/ML/project/b...</td>\n",
       "      <td>9</td>\n",
       "      <td>male</td>\n",
       "      <td>white</td>\n",
       "      <td>male</td>\n",
       "    </tr>\n",
       "    <tr>\n",
       "      <th>4648</th>\n",
       "      <td>50_0_3_20170119154108905.jpg.chip.jpg</td>\n",
       "      <td>/Users/hanselblanco/Documents/4to/ML/project/b...</td>\n",
       "      <td>50</td>\n",
       "      <td>male</td>\n",
       "      <td>indian</td>\n",
       "      <td>female</td>\n",
       "    </tr>\n",
       "    <tr>\n",
       "      <th>3698</th>\n",
       "      <td>27_0_1_20170113000907378.jpg.chip.jpg</td>\n",
       "      <td>/Users/hanselblanco/Documents/4to/ML/project/b...</td>\n",
       "      <td>27</td>\n",
       "      <td>male</td>\n",
       "      <td>black</td>\n",
       "      <td>female</td>\n",
       "    </tr>\n",
       "    <tr>\n",
       "      <th>1897</th>\n",
       "      <td>9_1_0_20170109202813775.jpg.chip.jpg</td>\n",
       "      <td>/Users/hanselblanco/Documents/4to/ML/project/b...</td>\n",
       "      <td>9</td>\n",
       "      <td>female</td>\n",
       "      <td>white</td>\n",
       "      <td>female</td>\n",
       "    </tr>\n",
       "    <tr>\n",
       "      <th>28</th>\n",
       "      <td>25_1_4_20170103230304689.jpg.chip.jpg</td>\n",
       "      <td>/Users/hanselblanco/Documents/4to/ML/project/b...</td>\n",
       "      <td>25</td>\n",
       "      <td>female</td>\n",
       "      <td>other</td>\n",
       "      <td>male</td>\n",
       "    </tr>\n",
       "    <tr>\n",
       "      <th>3035</th>\n",
       "      <td>9_0_0_20170110221716630.jpg.chip.jpg</td>\n",
       "      <td>/Users/hanselblanco/Documents/4to/ML/project/b...</td>\n",
       "      <td>9</td>\n",
       "      <td>male</td>\n",
       "      <td>white</td>\n",
       "      <td>male</td>\n",
       "    </tr>\n",
       "    <tr>\n",
       "      <th>752</th>\n",
       "      <td>51_1_1_20170112213230359.jpg.chip.jpg</td>\n",
       "      <td>/Users/hanselblanco/Documents/4to/ML/project/b...</td>\n",
       "      <td>51</td>\n",
       "      <td>female</td>\n",
       "      <td>black</td>\n",
       "      <td>female</td>\n",
       "    </tr>\n",
       "    <tr>\n",
       "      <th>3510</th>\n",
       "      <td>27_0_0_20170117175613066.jpg.chip.jpg</td>\n",
       "      <td>/Users/hanselblanco/Documents/4to/ML/project/b...</td>\n",
       "      <td>27</td>\n",
       "      <td>male</td>\n",
       "      <td>white</td>\n",
       "      <td>male</td>\n",
       "    </tr>\n",
       "    <tr>\n",
       "      <th>3815</th>\n",
       "      <td>25_1_3_20170119171949009.jpg.chip.jpg</td>\n",
       "      <td>/Users/hanselblanco/Documents/4to/ML/project/b...</td>\n",
       "      <td>25</td>\n",
       "      <td>female</td>\n",
       "      <td>indian</td>\n",
       "      <td>male</td>\n",
       "    </tr>\n",
       "    <tr>\n",
       "      <th>975</th>\n",
       "      <td>17_1_2_20161219190706307.jpg.chip.jpg</td>\n",
       "      <td>/Users/hanselblanco/Documents/4to/ML/project/b...</td>\n",
       "      <td>17</td>\n",
       "      <td>female</td>\n",
       "      <td>asian</td>\n",
       "      <td>male</td>\n",
       "    </tr>\n",
       "    <tr>\n",
       "      <th>812</th>\n",
       "      <td>26_0_0_20170112205800959.jpg.chip.jpg</td>\n",
       "      <td>/Users/hanselblanco/Documents/4to/ML/project/b...</td>\n",
       "      <td>26</td>\n",
       "      <td>male</td>\n",
       "      <td>white</td>\n",
       "      <td>male</td>\n",
       "    </tr>\n",
       "    <tr>\n",
       "      <th>803</th>\n",
       "      <td>19_1_0_20170109213228173.jpg.chip.jpg</td>\n",
       "      <td>/Users/hanselblanco/Documents/4to/ML/project/b...</td>\n",
       "      <td>19</td>\n",
       "      <td>female</td>\n",
       "      <td>white</td>\n",
       "      <td>female</td>\n",
       "    </tr>\n",
       "    <tr>\n",
       "      <th>3058</th>\n",
       "      <td>36_1_0_20170103181817489.jpg.chip.jpg</td>\n",
       "      <td>/Users/hanselblanco/Documents/4to/ML/project/b...</td>\n",
       "      <td>36</td>\n",
       "      <td>female</td>\n",
       "      <td>white</td>\n",
       "      <td>female</td>\n",
       "    </tr>\n",
       "    <tr>\n",
       "      <th>3096</th>\n",
       "      <td>26_0_0_20170116204056556.jpg.chip.jpg</td>\n",
       "      <td>/Users/hanselblanco/Documents/4to/ML/project/b...</td>\n",
       "      <td>26</td>\n",
       "      <td>male</td>\n",
       "      <td>white</td>\n",
       "      <td>male</td>\n",
       "    </tr>\n",
       "    <tr>\n",
       "      <th>291</th>\n",
       "      <td>10_0_0_20170110225421531.jpg.chip.jpg</td>\n",
       "      <td>/Users/hanselblanco/Documents/4to/ML/project/b...</td>\n",
       "      <td>10</td>\n",
       "      <td>male</td>\n",
       "      <td>white</td>\n",
       "      <td>male</td>\n",
       "    </tr>\n",
       "    <tr>\n",
       "      <th>325</th>\n",
       "      <td>28_1_0_20170117180716305.jpg.chip.jpg</td>\n",
       "      <td>/Users/hanselblanco/Documents/4to/ML/project/b...</td>\n",
       "      <td>28</td>\n",
       "      <td>female</td>\n",
       "      <td>white</td>\n",
       "      <td>female</td>\n",
       "    </tr>\n",
       "    <tr>\n",
       "      <th>1724</th>\n",
       "      <td>25_0_0_20170116222920399.jpg.chip.jpg</td>\n",
       "      <td>/Users/hanselblanco/Documents/4to/ML/project/b...</td>\n",
       "      <td>25</td>\n",
       "      <td>male</td>\n",
       "      <td>white</td>\n",
       "      <td>male</td>\n",
       "    </tr>\n",
       "    <tr>\n",
       "      <th>4394</th>\n",
       "      <td>8_0_0_20170110225315590.jpg.chip.jpg</td>\n",
       "      <td>/Users/hanselblanco/Documents/4to/ML/project/b...</td>\n",
       "      <td>8</td>\n",
       "      <td>male</td>\n",
       "      <td>white</td>\n",
       "      <td>male</td>\n",
       "    </tr>\n",
       "    <tr>\n",
       "      <th>2246</th>\n",
       "      <td>18_1_2_20170109213146944.jpg.chip.jpg</td>\n",
       "      <td>/Users/hanselblanco/Documents/4to/ML/project/b...</td>\n",
       "      <td>18</td>\n",
       "      <td>female</td>\n",
       "      <td>asian</td>\n",
       "      <td>male</td>\n",
       "    </tr>\n",
       "  </tbody>\n",
       "</table>\n",
       "</div>"
      ],
      "text/plain": [
       "                                   filename  \\\n",
       "3932  45_1_0_20170109221158465.jpg.chip.jpg   \n",
       "1843   9_0_0_20170110215848132.jpg.chip.jpg   \n",
       "4648  50_0_3_20170119154108905.jpg.chip.jpg   \n",
       "3698  27_0_1_20170113000907378.jpg.chip.jpg   \n",
       "1897   9_1_0_20170109202813775.jpg.chip.jpg   \n",
       "28    25_1_4_20170103230304689.jpg.chip.jpg   \n",
       "3035   9_0_0_20170110221716630.jpg.chip.jpg   \n",
       "752   51_1_1_20170112213230359.jpg.chip.jpg   \n",
       "3510  27_0_0_20170117175613066.jpg.chip.jpg   \n",
       "3815  25_1_3_20170119171949009.jpg.chip.jpg   \n",
       "975   17_1_2_20161219190706307.jpg.chip.jpg   \n",
       "812   26_0_0_20170112205800959.jpg.chip.jpg   \n",
       "803   19_1_0_20170109213228173.jpg.chip.jpg   \n",
       "3058  36_1_0_20170103181817489.jpg.chip.jpg   \n",
       "3096  26_0_0_20170116204056556.jpg.chip.jpg   \n",
       "291   10_0_0_20170110225421531.jpg.chip.jpg   \n",
       "325   28_1_0_20170117180716305.jpg.chip.jpg   \n",
       "1724  25_0_0_20170116222920399.jpg.chip.jpg   \n",
       "4394   8_0_0_20170110225315590.jpg.chip.jpg   \n",
       "2246  18_1_2_20170109213146944.jpg.chip.jpg   \n",
       "\n",
       "                                               filepath  age  gender    race  \\\n",
       "3932  /Users/hanselblanco/Documents/4to/ML/project/b...   45  female   white   \n",
       "1843  /Users/hanselblanco/Documents/4to/ML/project/b...    9    male   white   \n",
       "4648  /Users/hanselblanco/Documents/4to/ML/project/b...   50    male  indian   \n",
       "3698  /Users/hanselblanco/Documents/4to/ML/project/b...   27    male   black   \n",
       "1897  /Users/hanselblanco/Documents/4to/ML/project/b...    9  female   white   \n",
       "28    /Users/hanselblanco/Documents/4to/ML/project/b...   25  female   other   \n",
       "3035  /Users/hanselblanco/Documents/4to/ML/project/b...    9    male   white   \n",
       "752   /Users/hanselblanco/Documents/4to/ML/project/b...   51  female   black   \n",
       "3510  /Users/hanselblanco/Documents/4to/ML/project/b...   27    male   white   \n",
       "3815  /Users/hanselblanco/Documents/4to/ML/project/b...   25  female  indian   \n",
       "975   /Users/hanselblanco/Documents/4to/ML/project/b...   17  female   asian   \n",
       "812   /Users/hanselblanco/Documents/4to/ML/project/b...   26    male   white   \n",
       "803   /Users/hanselblanco/Documents/4to/ML/project/b...   19  female   white   \n",
       "3058  /Users/hanselblanco/Documents/4to/ML/project/b...   36  female   white   \n",
       "3096  /Users/hanselblanco/Documents/4to/ML/project/b...   26    male   white   \n",
       "291   /Users/hanselblanco/Documents/4to/ML/project/b...   10    male   white   \n",
       "325   /Users/hanselblanco/Documents/4to/ML/project/b...   28  female   white   \n",
       "1724  /Users/hanselblanco/Documents/4to/ML/project/b...   25    male   white   \n",
       "4394  /Users/hanselblanco/Documents/4to/ML/project/b...    8    male   white   \n",
       "2246  /Users/hanselblanco/Documents/4to/ML/project/b...   18  female   asian   \n",
       "\n",
       "     predicted_gender  \n",
       "3932           female  \n",
       "1843             male  \n",
       "4648           female  \n",
       "3698           female  \n",
       "1897           female  \n",
       "28               male  \n",
       "3035             male  \n",
       "752            female  \n",
       "3510             male  \n",
       "3815             male  \n",
       "975              male  \n",
       "812              male  \n",
       "803            female  \n",
       "3058           female  \n",
       "3096             male  \n",
       "291              male  \n",
       "325            female  \n",
       "1724             male  \n",
       "4394             male  \n",
       "2246             male  "
      ]
     },
     "execution_count": 41,
     "metadata": {},
     "output_type": "execute_result"
    }
   ],
   "source": [
    "df.sample(20)"
   ]
  },
  {
   "cell_type": "code",
   "execution_count": 42,
   "metadata": {},
   "outputs": [
    {
     "data": {
      "text/plain": [
       "3710"
      ]
     },
     "execution_count": 42,
     "metadata": {},
     "output_type": "execute_result"
    }
   ],
   "source": [
    "k=0\n",
    "for i in range(len(df)):\n",
    "    if(df['gender'][i]==df['predicted_gender'][i]): k+=1\n",
    "k"
   ]
  },
  {
   "cell_type": "code",
   "execution_count": 43,
   "metadata": {},
   "outputs": [],
   "source": [
    "y_true=df['gender'].tolist()\n",
    "y_pred=df['predicted_gender'].tolist()"
   ]
  },
  {
   "cell_type": "code",
   "execution_count": 44,
   "metadata": {},
   "outputs": [],
   "source": [
    "male_total=df['gender'].value_counts()[MALE]\n",
    "female_total= df['gender'].value_counts()[FEMALE]"
   ]
  },
  {
   "attachments": {},
   "cell_type": "markdown",
   "metadata": {},
   "source": [
    "#### Balanced Accuracy"
   ]
  },
  {
   "cell_type": "code",
   "execution_count": 45,
   "metadata": {},
   "outputs": [
    {
     "data": {
      "text/plain": [
       "0.7808705817906364"
      ]
     },
     "execution_count": 45,
     "metadata": {},
     "output_type": "execute_result"
    }
   ],
   "source": [
    "macro_accuracy= metrics.balanced_accuracy_score(y_true, y_pred)\n",
    "macro_accuracy"
   ]
  },
  {
   "attachments": {},
   "cell_type": "markdown",
   "metadata": {},
   "source": [
    "#### F1 score (macro)\n",
    "\n",
    "F1 score can be interpreted as a measure of overall model performance from 0 to 1, where 1 is the best. To be more specific, F1 score can be interpreted as the model’s balanced ability to both capture positive cases (recall) and be accurate with the cases it does capture (precision).\n",
    "\n",
    "the model’s ability to both capture positive cases and be accurate with the cases it does capture"
   ]
  },
  {
   "cell_type": "code",
   "execution_count": 46,
   "metadata": {},
   "outputs": [
    {
     "data": {
      "text/plain": [
       "0.7813977896448396"
      ]
     },
     "execution_count": 46,
     "metadata": {},
     "output_type": "execute_result"
    }
   ],
   "source": [
    "metrics.f1_score(y_true, y_pred, labels= labels, average='macro')"
   ]
  },
  {
   "attachments": {},
   "cell_type": "markdown",
   "metadata": {},
   "source": [
    "#### Confusion Matrix"
   ]
  },
  {
   "cell_type": "code",
   "execution_count": 47,
   "metadata": {},
   "outputs": [],
   "source": [
    "\n",
    "confusion_matrix= metrics.confusion_matrix(y_true, y_pred, labels=labels)\n",
    "# metrics.plot_confusion_matrix(confusion_matrix, labels=labels)"
   ]
  },
  {
   "attachments": {},
   "cell_type": "markdown",
   "metadata": {},
   "source": [
    "#### Computing FP TP FN"
   ]
  },
  {
   "cell_type": "code",
   "execution_count": 48,
   "metadata": {},
   "outputs": [],
   "source": [
    "sex_rates = {'male':{'tp': 0, 'fp': 0, 'fn': 0}, 'female':{'tp': 0, 'fp': 0, 'fn': 0}}\n",
    "totals = {'male': 0, 'female': 0}"
   ]
  },
  {
   "cell_type": "code",
   "execution_count": 49,
   "metadata": {},
   "outputs": [],
   "source": [
    "false_positives = confusion_matrix.sum(axis=0) - np.diag(confusion_matrix)  \n",
    "false_negatives = confusion_matrix.sum(axis=1) - np.diag(confusion_matrix)\n",
    "true_positives = np.diag(confusion_matrix)\n",
    "true_negatives = confusion_matrix.sum() - (false_positives + false_negatives + true_positives)\n"
   ]
  },
  {
   "cell_type": "code",
   "execution_count": 50,
   "metadata": {},
   "outputs": [],
   "source": [
    "# Filling dictionaries\n",
    "for i in range (len(labels)):\n",
    "    sex_rates[labels[i]][TP]= true_positives[i]\n",
    "    sex_rates[labels[i]][FP]= false_positives[i]\n",
    "    sex_rates[labels[i]][FN]= false_negatives[i]"
   ]
  },
  {
   "attachments": {},
   "cell_type": "markdown",
   "metadata": {},
   "source": [
    "#### Selection rate"
   ]
  },
  {
   "cell_type": "code",
   "execution_count": 51,
   "metadata": {},
   "outputs": [
    {
     "data": {
      "text/plain": [
       "(0.8179249091643117, 0.7438162544169611)"
      ]
     },
     "execution_count": 51,
     "metadata": {},
     "output_type": "execute_result"
    }
   ],
   "source": [
    "males_sr = sex_rates[MALE][TP]/ male_total\n",
    "females_sr = sex_rates[FEMALE][TP]/ female_total\n",
    "males_sr, females_sr"
   ]
  },
  {
   "attachments": {},
   "cell_type": "markdown",
   "metadata": {},
   "source": [
    "#### TPR"
   ]
  },
  {
   "cell_type": "code",
   "execution_count": 52,
   "metadata": {},
   "outputs": [
    {
     "data": {
      "text/plain": [
       "(0.8179249091643117, 0.7438162544169611)"
      ]
     },
     "execution_count": 52,
     "metadata": {},
     "output_type": "execute_result"
    }
   ],
   "source": [
    "males_tpr = sex_rates[MALE][TP]/ (sex_rates[MALE][TP] + sex_rates[MALE][FN])\n",
    "females_tpr = sex_rates[FEMALE][TP]/ (sex_rates[FEMALE][TP] + sex_rates[FEMALE][FN])\n",
    "\n",
    "males_tpr, females_tpr"
   ]
  },
  {
   "attachments": {},
   "cell_type": "markdown",
   "metadata": {},
   "source": [
    "#### FPR"
   ]
  },
  {
   "cell_type": "code",
   "execution_count": 53,
   "metadata": {},
   "outputs": [
    {
     "data": {
      "text/plain": [
       "(0.562560620756547, 0.43743937924345294)"
      ]
     },
     "execution_count": 53,
     "metadata": {},
     "output_type": "execute_result"
    }
   ],
   "source": [
    "males_fpr= sex_rates[MALE][FP]/(sex_rates[MALE][FP]+ sex_rates[MALE][FN])\n",
    "females_fpr= sex_rates[FEMALE][FP]/(sex_rates[FEMALE][FP]+ sex_rates[FEMALE][FN])\n",
    "\n",
    "males_fpr, females_fpr"
   ]
  },
  {
   "attachments": {},
   "cell_type": "markdown",
   "metadata": {},
   "source": [
    "### `Fairness Metrics`"
   ]
  },
  {
   "attachments": {},
   "cell_type": "markdown",
   "metadata": {},
   "source": [
    "#### Equalized Odds"
   ]
  },
  {
   "cell_type": "code",
   "execution_count": 60,
   "metadata": {},
   "outputs": [
    {
     "name": "stdout",
     "output_type": "stream",
     "text": [
      "Equalized odds\n",
      "0.07410865474735062\n"
     ]
    }
   ],
   "source": [
    "if abs(males_tpr - females_tpr) < 0.15:\n",
    "    print('Equalized odds')\n",
    "else:\n",
    "    print('Not equalized odds')\n",
    "print(abs(males_tpr - females_tpr))"
   ]
  },
  {
   "cell_type": "code",
   "execution_count": 61,
   "metadata": {},
   "outputs": [
    {
     "name": "stdout",
     "output_type": "stream",
     "text": [
      "Equalized odds\n",
      "0.12512124151309406\n"
     ]
    }
   ],
   "source": [
    "if abs(males_fpr - females_fpr) < 0.15:\n",
    "    print('Equalized odds')\n",
    "else:\n",
    "    print('Not equalized odds')\n",
    "print(abs(males_fpr - females_fpr))"
   ]
  },
  {
   "attachments": {},
   "cell_type": "markdown",
   "metadata": {},
   "source": [
    "#### Disparate impact"
   ]
  },
  {
   "cell_type": "code",
   "execution_count": 62,
   "metadata": {},
   "outputs": [
    {
     "name": "stdout",
     "output_type": "stream",
     "text": [
      "No disparate impact present in female group / male group\n"
     ]
    },
    {
     "data": {
      "text/plain": [
       "0.9093943051287328"
      ]
     },
     "execution_count": 62,
     "metadata": {},
     "output_type": "execute_result"
    }
   ],
   "source": [
    "# disparate impact ratio = underprivileged group SR / privileged group SR\n",
    "disp_impact = females_sr / males_sr\n",
    "if disp_impact < 0.8:\n",
    "    print('Disparate impact present in female group / male group')\n",
    "else:\n",
    "    print('No disparate impact present in female group / male group')\n",
    "disp_impact"
   ]
  }
 ],
 "metadata": {
  "kernelspec": {
   "display_name": "Python 3",
   "language": "python",
   "name": "python3"
  },
  "language_info": {
   "codemirror_mode": {
    "name": "ipython",
    "version": 3
   },
   "file_extension": ".py",
   "mimetype": "text/x-python",
   "name": "python",
   "nbconvert_exporter": "python",
   "pygments_lexer": "ipython3",
   "version": "3.11.3"
  },
  "orig_nbformat": 4
 },
 "nbformat": 4,
 "nbformat_minor": 2
}
