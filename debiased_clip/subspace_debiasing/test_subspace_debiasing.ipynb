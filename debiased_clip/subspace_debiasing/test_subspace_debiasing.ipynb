{
 "cells": [
  {
   "cell_type": "code",
   "execution_count": 1,
   "metadata": {},
   "outputs": [],
   "source": [
    "import sys\n",
    "sys.path.append('/Users/elenarodriguez/Documents/Escuela/4to/ML/Proyecto/bias-project-ML')\n",
    "sys.path.append('/Users/elenarodriguez/Documents/Escuela/4to/ML/Proyecto/bias-project-ML/debiased_clip/subspace_debiasing')"
   ]
  },
  {
   "cell_type": "code",
   "execution_count": 2,
   "metadata": {},
   "outputs": [],
   "source": [
    "import numpy as np\n",
    "import pandas as pd"
   ]
  },
  {
   "cell_type": "code",
   "execution_count": 3,
   "metadata": {},
   "outputs": [],
   "source": [
    "from metrics import *"
   ]
  },
  {
   "cell_type": "code",
   "execution_count": 4,
   "metadata": {},
   "outputs": [],
   "source": [
    "from clip_subspace_debiasing import subspace_debiasing"
   ]
  },
  {
   "cell_type": "code",
   "execution_count": 5,
   "metadata": {},
   "outputs": [],
   "source": [
    "MALE='male'\n",
    "FEMALE= 'female'\n",
    "GENDER_LABELS=[MALE, FEMALE]"
   ]
  },
  {
   "cell_type": "code",
   "execution_count": 6,
   "metadata": {},
   "outputs": [],
   "source": [
    "#df = subspace_debiasing('/Users/elenarodriguez/Documents/Escuela/4to/ML/Proyecto/bias-project-ML/data/utkface/')\n",
    "#df.to_json(r'result_subspace_debias.json')"
   ]
  },
  {
   "cell_type": "code",
   "execution_count": 7,
   "metadata": {},
   "outputs": [],
   "source": [
    "df= pd.read_json(r'result_subspace_debias.json')"
   ]
  },
  {
   "cell_type": "code",
   "execution_count": 8,
   "metadata": {},
   "outputs": [
    {
     "data": {
      "text/html": [
       "<div>\n",
       "<style scoped>\n",
       "    .dataframe tbody tr th:only-of-type {\n",
       "        vertical-align: middle;\n",
       "    }\n",
       "\n",
       "    .dataframe tbody tr th {\n",
       "        vertical-align: top;\n",
       "    }\n",
       "\n",
       "    .dataframe thead th {\n",
       "        text-align: right;\n",
       "    }\n",
       "</style>\n",
       "<table border=\"1\" class=\"dataframe\">\n",
       "  <thead>\n",
       "    <tr style=\"text-align: right;\">\n",
       "      <th></th>\n",
       "      <th>filename</th>\n",
       "      <th>filepath</th>\n",
       "      <th>age</th>\n",
       "      <th>gender</th>\n",
       "      <th>race</th>\n",
       "      <th>predicted_gender</th>\n",
       "    </tr>\n",
       "  </thead>\n",
       "  <tbody>\n",
       "    <tr>\n",
       "      <th>2499</th>\n",
       "      <td>53_0_0_20170117161104318.jpg.chip.jpg</td>\n",
       "      <td>/Users/elenarodriguez/Documents/Escuela/4to/ML...</td>\n",
       "      <td>53</td>\n",
       "      <td>male</td>\n",
       "      <td>white</td>\n",
       "      <td>male</td>\n",
       "    </tr>\n",
       "    <tr>\n",
       "      <th>1876</th>\n",
       "      <td>20_1_2_20170104015722028.jpg.chip.jpg</td>\n",
       "      <td>/Users/elenarodriguez/Documents/Escuela/4to/ML...</td>\n",
       "      <td>20</td>\n",
       "      <td>female</td>\n",
       "      <td>asian</td>\n",
       "      <td>female</td>\n",
       "    </tr>\n",
       "    <tr>\n",
       "      <th>1287</th>\n",
       "      <td>53_0_3_20170119201334485.jpg.chip.jpg</td>\n",
       "      <td>/Users/elenarodriguez/Documents/Escuela/4to/ML...</td>\n",
       "      <td>53</td>\n",
       "      <td>male</td>\n",
       "      <td>indian</td>\n",
       "      <td>male</td>\n",
       "    </tr>\n",
       "    <tr>\n",
       "      <th>2944</th>\n",
       "      <td>31_0_1_20170116143032562.jpg.chip.jpg</td>\n",
       "      <td>/Users/elenarodriguez/Documents/Escuela/4to/ML...</td>\n",
       "      <td>31</td>\n",
       "      <td>male</td>\n",
       "      <td>black</td>\n",
       "      <td>male</td>\n",
       "    </tr>\n",
       "    <tr>\n",
       "      <th>585</th>\n",
       "      <td>23_1_4_20170103225807185.jpg.chip.jpg</td>\n",
       "      <td>/Users/elenarodriguez/Documents/Escuela/4to/ML...</td>\n",
       "      <td>23</td>\n",
       "      <td>female</td>\n",
       "      <td>other</td>\n",
       "      <td>female</td>\n",
       "    </tr>\n",
       "  </tbody>\n",
       "</table>\n",
       "</div>"
      ],
      "text/plain": [
       "                                   filename  \\\n",
       "2499  53_0_0_20170117161104318.jpg.chip.jpg   \n",
       "1876  20_1_2_20170104015722028.jpg.chip.jpg   \n",
       "1287  53_0_3_20170119201334485.jpg.chip.jpg   \n",
       "2944  31_0_1_20170116143032562.jpg.chip.jpg   \n",
       "585   23_1_4_20170103225807185.jpg.chip.jpg   \n",
       "\n",
       "                                               filepath  age  gender    race  \\\n",
       "2499  /Users/elenarodriguez/Documents/Escuela/4to/ML...   53    male   white   \n",
       "1876  /Users/elenarodriguez/Documents/Escuela/4to/ML...   20  female   asian   \n",
       "1287  /Users/elenarodriguez/Documents/Escuela/4to/ML...   53    male  indian   \n",
       "2944  /Users/elenarodriguez/Documents/Escuela/4to/ML...   31    male   black   \n",
       "585   /Users/elenarodriguez/Documents/Escuela/4to/ML...   23  female   other   \n",
       "\n",
       "     predicted_gender  \n",
       "2499             male  \n",
       "1876           female  \n",
       "1287             male  \n",
       "2944             male  \n",
       "585            female  "
      ]
     },
     "execution_count": 8,
     "metadata": {},
     "output_type": "execute_result"
    }
   ],
   "source": [
    "df.sample(5)"
   ]
  },
  {
   "cell_type": "code",
   "execution_count": 9,
   "metadata": {},
   "outputs": [
    {
     "data": {
      "text/plain": [
       "3699"
      ]
     },
     "execution_count": 9,
     "metadata": {},
     "output_type": "execute_result"
    }
   ],
   "source": [
    "k=0\n",
    "for i in range(len(df)):\n",
    "    if(df['gender'][i]==df['predicted_gender'][i]): k+=1\n",
    "k"
   ]
  },
  {
   "cell_type": "code",
   "execution_count": 10,
   "metadata": {},
   "outputs": [],
   "source": [
    "y_true=df['gender'].tolist()\n",
    "y_pred=df['predicted_gender'].tolist()"
   ]
  },
  {
   "cell_type": "code",
   "execution_count": 11,
   "metadata": {},
   "outputs": [],
   "source": [
    "male_total=df['gender'].value_counts()[MALE]\n",
    "female_total= df['gender'].value_counts()[FEMALE]"
   ]
  },
  {
   "attachments": {},
   "cell_type": "markdown",
   "metadata": {},
   "source": [
    "#### Balanced Accuracy"
   ]
  },
  {
   "cell_type": "code",
   "execution_count": 12,
   "metadata": {},
   "outputs": [
    {
     "data": {
      "text/plain": [
       "0.7784766931704656"
      ]
     },
     "execution_count": 12,
     "metadata": {},
     "output_type": "execute_result"
    }
   ],
   "source": [
    "macro_accuracy= macro_accuracy(y_true, y_pred)\n",
    "macro_accuracy"
   ]
  },
  {
   "attachments": {},
   "cell_type": "markdown",
   "metadata": {},
   "source": [
    "#### F1 score (macro)\n",
    "\n",
    "F1 score can be interpreted as a measure of overall model performance from 0 to 1, where 1 is the best. To be more specific, F1 score can be interpreted as the model’s balanced ability to both capture positive cases (recall) and be accurate with the cases it does capture (precision).\n",
    "\n",
    "the model’s ability to both capture positive cases and be accurate with the cases it does capture"
   ]
  },
  {
   "cell_type": "code",
   "execution_count": 13,
   "metadata": {},
   "outputs": [],
   "source": [
    "macro_f1= macro_f1(y_true, y_pred, GENDER_LABELS)"
   ]
  },
  {
   "attachments": {},
   "cell_type": "markdown",
   "metadata": {},
   "source": [
    "#### Confusion Matrix"
   ]
  },
  {
   "cell_type": "code",
   "execution_count": 14,
   "metadata": {},
   "outputs": [
    {
     "data": {
      "image/png": "[encoded data removed]",
      "text/plain": [
       "<Figure size 640x480 with 2 Axes>"
      ]
     },
     "metadata": {},
     "output_type": "display_data"
    }
   ],
   "source": [
    "confusion_matrix= confusion_matrix(y_true, y_pred, GENDER_LABELS)"
   ]
  },
  {
   "attachments": {},
   "cell_type": "markdown",
   "metadata": {},
   "source": [
    "#### TPR"
   ]
  },
  {
   "cell_type": "code",
   "execution_count": 15,
   "metadata": {},
   "outputs": [
    {
     "data": {
      "text/plain": [
       "{'male': 0.8164582492940702, 'female': 0.7404951370468612}"
      ]
     },
     "execution_count": 15,
     "metadata": {},
     "output_type": "execute_result"
    }
   ],
   "source": [
    "tpr(y_true, y_pred, GENDER_LABELS)"
   ]
  },
  {
   "attachments": {},
   "cell_type": "markdown",
   "metadata": {},
   "source": [
    "#### FPR"
   ]
  },
  {
   "cell_type": "code",
   "execution_count": 16,
   "metadata": {},
   "outputs": [
    {
     "data": {
      "text/plain": [
       "{'male': 0.2595048629531389, 'female': 0.18354175070592982}"
      ]
     },
     "execution_count": 16,
     "metadata": {},
     "output_type": "execute_result"
    }
   ],
   "source": [
    "fpr(y_true, y_pred, GENDER_LABELS)"
   ]
  },
  {
   "attachments": {},
   "cell_type": "markdown",
   "metadata": {},
   "source": [
    "### `Fairness Metrics`"
   ]
  },
  {
   "attachments": {},
   "cell_type": "markdown",
   "metadata": {},
   "source": [
    "#### Equalized Odds"
   ]
  },
  {
   "cell_type": "code",
   "execution_count": 17,
   "metadata": {},
   "outputs": [
    {
     "name": "stdout",
     "output_type": "stream",
     "text": [
      "EQUALIZED ODDS\n",
      "Equalized odds\n"
     ]
    }
   ],
   "source": [
    "eq_odds= equalized_odds(y_true, y_pred, GENDER_LABELS)"
   ]
  },
  {
   "attachments": {},
   "cell_type": "markdown",
   "metadata": {},
   "source": [
    "#### Disparate impact"
   ]
  },
  {
   "cell_type": "code",
   "execution_count": 18,
   "metadata": {},
   "outputs": [
    {
     "name": "stdout",
     "output_type": "stream",
     "text": [
      "DISPARATE IMPACT.\n",
      "No disparate impact present\n"
     ]
    }
   ],
   "source": [
    "disparate_impact= disparate_impact(y_true, y_pred, GENDER_LABELS)"
   ]
  }
 ],
 "metadata": {
  "kernelspec": {
   "display_name": "Python 3",
   "language": "python",
   "name": "python3"
  },
  "language_info": {
   "codemirror_mode": {
    "name": "ipython",
    "version": 3
   },
   "file_extension": ".py",
   "mimetype": "text/x-python",
   "name": "python",
   "nbconvert_exporter": "python",
   "pygments_lexer": "ipython3",
   "version": "3.10.7"
  },
  "orig_nbformat": 4
 },
 "nbformat": 4,
 "nbformat_minor": 2
}
