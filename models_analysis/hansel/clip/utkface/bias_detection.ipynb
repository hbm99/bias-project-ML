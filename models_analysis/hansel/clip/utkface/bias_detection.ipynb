{
 "cells": [
  {
   "cell_type": "code",
   "execution_count": 1,
   "metadata": {},
   "outputs": [],
   "source": [
    "import sys\n",
    "\n",
    "import clip\n",
    "import numpy as np\n",
    "import pandas as pd\n",
    "import torch\n",
    "from PIL import Image\n",
    "from tqdm import tqdm\n",
    "\n",
    "sys.path.append('/Users/hanselblanco/Documents/4to/ML/project/bias-project-ML')\n",
    "from data_preprocess import data_selection"
   ]
  },
  {
   "cell_type": "code",
   "execution_count": 2,
   "metadata": {},
   "outputs": [],
   "source": [
    "gender_code = { 0 : 'male', 1 : 'female'}\n",
    "race_code = { 0 : 'white', 1 : 'black', 2 : 'asian', 3 : 'indian', 4 : 'other'}"
   ]
  },
  {
   "cell_type": "code",
   "execution_count": 3,
   "metadata": {},
   "outputs": [
    {
     "data": {
      "text/plain": [
       "'cpu'"
      ]
     },
     "execution_count": 3,
     "metadata": {},
     "output_type": "execute_result"
    }
   ],
   "source": [
    "device = \"cuda\" if torch.cuda.is_available() else \"cpu\"\n",
    "model, preprocess = clip.load(\"ViT-B/32\", device=device)\n",
    "device"
   ]
  },
  {
   "attachments": {},
   "cell_type": "markdown",
   "metadata": {},
   "source": [
    "`device` will indicate wich `CLIP` model to use depending on the available hardware. If there is a GPU, `cuda:0` will be used  or `cuda:1` if there are multiple GPUs. If there is not a GPU, `cpu` will be used."
   ]
  },
  {
   "cell_type": "code",
   "execution_count": 4,
   "metadata": {},
   "outputs": [],
   "source": [
    "race_labels = ['black', 'white', 'asian', 'indian', 'other']\n",
    "race_tkns = ['A photo of a person of color ' + label for label in race_labels]\n",
    "race_text = clip.tokenize(race_tkns).to(device)"
   ]
  },
  {
   "cell_type": "code",
   "execution_count": 5,
   "metadata": {},
   "outputs": [],
   "source": [
    "sex_labels = ['male', 'female']\n",
    "sex_tkns = ['A photo of a person of sex ' + label for label in sex_labels]\n",
    "sex_text = clip.tokenize(sex_tkns).to(device)"
   ]
  },
  {
   "attachments": {},
   "cell_type": "markdown",
   "metadata": {},
   "source": [
    "`tkns` is the domain of possible values. `CLIP` model predicts for each image the most probable sentence from `tkns`, in this case. "
   ]
  },
  {
   "attachments": {},
   "cell_type": "markdown",
   "metadata": {},
   "source": [
    "Initializing usefull variables for `CLIP` model application."
   ]
  },
  {
   "cell_type": "code",
   "execution_count": 7,
   "metadata": {},
   "outputs": [
    {
     "name": "stderr",
     "output_type": "stream",
     "text": [
      "/Users/hanselblanco/Documents/4to/ML/project/bias-project-ML/data_preprocess.py:57: SettingWithCopyWarning: \n",
      "A value is trying to be set on a copy of a slice from a DataFrame\n",
      "\n",
      "See the caveats in the documentation: https://pandas.pydata.org/pandas-docs/stable/user_guide/indexing.html#returning-a-view-versus-a-copy\n",
      "  df['gender'][i]= GENDER_MAPPER[df['gender'][i]]\n",
      "/Users/hanselblanco/Documents/4to/ML/project/bias-project-ML/data_preprocess.py:58: SettingWithCopyWarning: \n",
      "A value is trying to be set on a copy of a slice from a DataFrame\n",
      "\n",
      "See the caveats in the documentation: https://pandas.pydata.org/pandas-docs/stable/user_guide/indexing.html#returning-a-view-versus-a-copy\n",
      "  df['race'][i]= RACE_MAPPER[df['race'][i]]\n"
     ]
    },
    {
     "data": {
      "text/plain": [
       "2        /Users/hanselblanco/Documents/4to/ML/project/b...\n",
       "9        /Users/hanselblanco/Documents/4to/ML/project/b...\n",
       "10       /Users/hanselblanco/Documents/4to/ML/project/b...\n",
       "12       /Users/hanselblanco/Documents/4to/ML/project/b...\n",
       "13       /Users/hanselblanco/Documents/4to/ML/project/b...\n",
       "                               ...                        \n",
       "23672    /Users/hanselblanco/Documents/4to/ML/project/b...\n",
       "23673    /Users/hanselblanco/Documents/4to/ML/project/b...\n",
       "23681    /Users/hanselblanco/Documents/4to/ML/project/b...\n",
       "23700    /Users/hanselblanco/Documents/4to/ML/project/b...\n",
       "23705    /Users/hanselblanco/Documents/4to/ML/project/b...\n",
       "Name: filepath, Length: 4742, dtype: object"
      ]
     },
     "execution_count": 7,
     "metadata": {},
     "output_type": "execute_result"
    }
   ],
   "source": [
    "BATCH_SIZE = 64\n",
    "\n",
    "dir_path = r'/Users/hanselblanco/Documents/4to/ML/project/bias-project-ML/data/utkface/'\n",
    "photo_paths = data_selection(dir_path)[1]['filepath']\n",
    "photo_paths"
   ]
  },
  {
   "cell_type": "code",
   "execution_count": 8,
   "metadata": {},
   "outputs": [],
   "source": [
    "filenames = []\n",
    "for path in photo_paths:\n",
    "    path = path.split('/')\n",
    "    filename = path[-1]\n",
    "    filenames.append(filename)\n",
    "    splitted = filename.split('_')\n",
    "    age = splitted[0]\n",
    "    gender = splitted[1]\n",
    "    race = splitted[2]"
   ]
  },
  {
   "cell_type": "code",
   "execution_count": 9,
   "metadata": {},
   "outputs": [
    {
     "data": {
      "text/html": [
       "<div>\n",
       "<style scoped>\n",
       "    .dataframe tbody tr th:only-of-type {\n",
       "        vertical-align: middle;\n",
       "    }\n",
       "\n",
       "    .dataframe tbody tr th {\n",
       "        vertical-align: top;\n",
       "    }\n",
       "\n",
       "    .dataframe thead th {\n",
       "        text-align: right;\n",
       "    }\n",
       "</style>\n",
       "<table border=\"1\" class=\"dataframe\">\n",
       "  <thead>\n",
       "    <tr style=\"text-align: right;\">\n",
       "      <th></th>\n",
       "      <th>filename</th>\n",
       "      <th>filepath</th>\n",
       "      <th>gender</th>\n",
       "      <th>race</th>\n",
       "    </tr>\n",
       "  </thead>\n",
       "  <tbody>\n",
       "    <tr>\n",
       "      <th>0</th>\n",
       "      <td>86_1_0_20170120225751953.jpg.chip.jpg</td>\n",
       "      <td>/Users/hanselblanco/Documents/4to/ML/project/b...</td>\n",
       "      <td>female</td>\n",
       "      <td>white</td>\n",
       "    </tr>\n",
       "    <tr>\n",
       "      <th>1</th>\n",
       "      <td>36_0_3_20170119180245724.jpg.chip.jpg</td>\n",
       "      <td>/Users/hanselblanco/Documents/4to/ML/project/b...</td>\n",
       "      <td>male</td>\n",
       "      <td>indian</td>\n",
       "    </tr>\n",
       "    <tr>\n",
       "      <th>2</th>\n",
       "      <td>58_0_2_20170116193704928.jpg.chip.jpg</td>\n",
       "      <td>/Users/hanselblanco/Documents/4to/ML/project/b...</td>\n",
       "      <td>male</td>\n",
       "      <td>asian</td>\n",
       "    </tr>\n",
       "    <tr>\n",
       "      <th>3</th>\n",
       "      <td>35_1_2_20170116185947151.jpg.chip.jpg</td>\n",
       "      <td>/Users/hanselblanco/Documents/4to/ML/project/b...</td>\n",
       "      <td>female</td>\n",
       "      <td>asian</td>\n",
       "    </tr>\n",
       "    <tr>\n",
       "      <th>4</th>\n",
       "      <td>1_1_3_20161219230734016.jpg.chip.jpg</td>\n",
       "      <td>/Users/hanselblanco/Documents/4to/ML/project/b...</td>\n",
       "      <td>female</td>\n",
       "      <td>indian</td>\n",
       "    </tr>\n",
       "  </tbody>\n",
       "</table>\n",
       "</div>"
      ],
      "text/plain": [
       "                                filename  \\\n",
       "0  86_1_0_20170120225751953.jpg.chip.jpg   \n",
       "1  36_0_3_20170119180245724.jpg.chip.jpg   \n",
       "2  58_0_2_20170116193704928.jpg.chip.jpg   \n",
       "3  35_1_2_20170116185947151.jpg.chip.jpg   \n",
       "4   1_1_3_20161219230734016.jpg.chip.jpg   \n",
       "\n",
       "                                            filepath  gender    race  \n",
       "0  /Users/hanselblanco/Documents/4to/ML/project/b...  female   white  \n",
       "1  /Users/hanselblanco/Documents/4to/ML/project/b...    male  indian  \n",
       "2  /Users/hanselblanco/Documents/4to/ML/project/b...    male   asian  \n",
       "3  /Users/hanselblanco/Documents/4to/ML/project/b...  female   asian  \n",
       "4  /Users/hanselblanco/Documents/4to/ML/project/b...  female  indian  "
      ]
     },
     "execution_count": 9,
     "metadata": {},
     "output_type": "execute_result"
    }
   ],
   "source": [
    "df = pd.DataFrame(filenames, columns = ['filename'] )\n",
    "df['filepath'] = df.filename.apply(lambda x: dir_path + x)\n",
    "df['gender'] = df.filename.apply(lambda x: gender_code[int(x.split('_')[1])])\n",
    "df['race'] = df.filename.apply(lambda x: race_code[int(x.split('_')[-2])])\n",
    "df.head()"
   ]
  },
  {
   "attachments": {},
   "cell_type": "markdown",
   "metadata": {},
   "source": [
    "Executing `CLIP` model for `photos_to_analize` images from the dataset."
   ]
  },
  {
   "cell_type": "code",
   "execution_count": 12,
   "metadata": {},
   "outputs": [
    {
     "name": "stderr",
     "output_type": "stream",
     "text": [
      "100%|██████████| 75/75 [03:05<00:00,  2.47s/it]\n"
     ]
    }
   ],
   "source": [
    "sex_results = []\n",
    "race_results = []\n",
    "\n",
    "photos = []\n",
    "for photo_path in photo_paths:\n",
    "    photos.append(Image.open(photo_path))\n",
    "\n",
    "pending_photos = len(photos)\n",
    "for i in tqdm(range(0, len(photos), min(BATCH_SIZE, pending_photos))):\n",
    "    pending_photos = len(photos) - i\n",
    "    images = [preprocess(photos[photo_idx]) for photo_idx in range(i, min(i + BATCH_SIZE, len(photos)))]\n",
    "    image_input = torch.tensor(np.stack(images)).to(device)\n",
    "    with torch.no_grad():\n",
    "        sex_logits_per_image, sex_logits_per_text = model(image_input, sex_text)\n",
    "        race_logits_per_image, race_logits_per_text = model(image_input, race_text)\n",
    "        \n",
    "        # The softmax function takes the original confidence and applys a transform to make all the confidence add up to one\n",
    "        sex_probs = sex_logits_per_image.softmax(dim=-1).cpu().numpy()\n",
    "        race_probs = race_logits_per_image.softmax(dim=-1).cpu().numpy()\n",
    "        \n",
    "        sex_results.append(sex_probs)\n",
    "        race_results.append(race_probs)"
   ]
  },
  {
   "cell_type": "code",
   "execution_count": 13,
   "metadata": {},
   "outputs": [],
   "source": [
    "race_res = np.concatenate(race_results, axis=0)\n",
    "race_choices = np.argmax(race_res, axis=1)\n",
    "\n",
    "sex_res = np.concatenate(sex_results, axis=0)\n",
    "sex_choices = np.argmax(sex_res, axis=1)"
   ]
  },
  {
   "cell_type": "code",
   "execution_count": 14,
   "metadata": {},
   "outputs": [
    {
     "data": {
      "text/plain": [
       "4742"
      ]
     },
     "execution_count": 14,
     "metadata": {},
     "output_type": "execute_result"
    }
   ],
   "source": [
    "r_getlabel = lambda x:race_labels[x]\n",
    "r_vgetlabel = np.vectorize(r_getlabel)\n",
    "races = r_vgetlabel(race_choices)\n",
    "\n",
    "s_getlabel = lambda x:sex_labels[x]\n",
    "s_vgetlabel = np.vectorize(s_getlabel)\n",
    "genders = s_vgetlabel(sex_choices)\n",
    "len(genders)"
   ]
  },
  {
   "attachments": {},
   "cell_type": "markdown",
   "metadata": {},
   "source": [
    "`races` is the vector with predicted labels to add to each sentence from `race_tkns` for each image, ordered."
   ]
  },
  {
   "attachments": {},
   "cell_type": "markdown",
   "metadata": {},
   "source": [
    "`genders` is the vector with predicted labels to add to each sentence from `sex_tkns` for each image, ordered."
   ]
  },
  {
   "cell_type": "code",
   "execution_count": 15,
   "metadata": {},
   "outputs": [
    {
     "data": {
      "text/html": [
       "<div>\n",
       "<style scoped>\n",
       "    .dataframe tbody tr th:only-of-type {\n",
       "        vertical-align: middle;\n",
       "    }\n",
       "\n",
       "    .dataframe tbody tr th {\n",
       "        vertical-align: top;\n",
       "    }\n",
       "\n",
       "    .dataframe thead th {\n",
       "        text-align: right;\n",
       "    }\n",
       "</style>\n",
       "<table border=\"1\" class=\"dataframe\">\n",
       "  <thead>\n",
       "    <tr style=\"text-align: right;\">\n",
       "      <th></th>\n",
       "      <th>filename</th>\n",
       "      <th>filepath</th>\n",
       "      <th>gender</th>\n",
       "      <th>race</th>\n",
       "      <th>predicted_gender</th>\n",
       "      <th>predicted_race</th>\n",
       "    </tr>\n",
       "  </thead>\n",
       "  <tbody>\n",
       "    <tr>\n",
       "      <th>0</th>\n",
       "      <td>86_1_0_20170120225751953.jpg.chip.jpg</td>\n",
       "      <td>/Users/hanselblanco/Documents/4to/ML/project/b...</td>\n",
       "      <td>female</td>\n",
       "      <td>white</td>\n",
       "      <td>female</td>\n",
       "      <td>white</td>\n",
       "    </tr>\n",
       "    <tr>\n",
       "      <th>1</th>\n",
       "      <td>36_0_3_20170119180245724.jpg.chip.jpg</td>\n",
       "      <td>/Users/hanselblanco/Documents/4to/ML/project/b...</td>\n",
       "      <td>male</td>\n",
       "      <td>indian</td>\n",
       "      <td>female</td>\n",
       "      <td>indian</td>\n",
       "    </tr>\n",
       "    <tr>\n",
       "      <th>2</th>\n",
       "      <td>58_0_2_20170116193704928.jpg.chip.jpg</td>\n",
       "      <td>/Users/hanselblanco/Documents/4to/ML/project/b...</td>\n",
       "      <td>male</td>\n",
       "      <td>asian</td>\n",
       "      <td>male</td>\n",
       "      <td>asian</td>\n",
       "    </tr>\n",
       "    <tr>\n",
       "      <th>3</th>\n",
       "      <td>35_1_2_20170116185947151.jpg.chip.jpg</td>\n",
       "      <td>/Users/hanselblanco/Documents/4to/ML/project/b...</td>\n",
       "      <td>female</td>\n",
       "      <td>asian</td>\n",
       "      <td>female</td>\n",
       "      <td>asian</td>\n",
       "    </tr>\n",
       "    <tr>\n",
       "      <th>4</th>\n",
       "      <td>1_1_3_20161219230734016.jpg.chip.jpg</td>\n",
       "      <td>/Users/hanselblanco/Documents/4to/ML/project/b...</td>\n",
       "      <td>female</td>\n",
       "      <td>indian</td>\n",
       "      <td>male</td>\n",
       "      <td>asian</td>\n",
       "    </tr>\n",
       "  </tbody>\n",
       "</table>\n",
       "</div>"
      ],
      "text/plain": [
       "                                filename  \\\n",
       "0  86_1_0_20170120225751953.jpg.chip.jpg   \n",
       "1  36_0_3_20170119180245724.jpg.chip.jpg   \n",
       "2  58_0_2_20170116193704928.jpg.chip.jpg   \n",
       "3  35_1_2_20170116185947151.jpg.chip.jpg   \n",
       "4   1_1_3_20161219230734016.jpg.chip.jpg   \n",
       "\n",
       "                                            filepath  gender    race  \\\n",
       "0  /Users/hanselblanco/Documents/4to/ML/project/b...  female   white   \n",
       "1  /Users/hanselblanco/Documents/4to/ML/project/b...    male  indian   \n",
       "2  /Users/hanselblanco/Documents/4to/ML/project/b...    male   asian   \n",
       "3  /Users/hanselblanco/Documents/4to/ML/project/b...  female   asian   \n",
       "4  /Users/hanselblanco/Documents/4to/ML/project/b...  female  indian   \n",
       "\n",
       "  predicted_gender predicted_race  \n",
       "0           female          white  \n",
       "1           female         indian  \n",
       "2             male          asian  \n",
       "3           female          asian  \n",
       "4             male          asian  "
      ]
     },
     "execution_count": 15,
     "metadata": {},
     "output_type": "execute_result"
    }
   ],
   "source": [
    "df['predicted_gender'] = genders\n",
    "df['predicted_race'] = races\n",
    "df.head()"
   ]
  },
  {
   "attachments": {},
   "cell_type": "markdown",
   "metadata": {},
   "source": [
    "# Detecting bias in `CLIP` results."
   ]
  },
  {
   "attachments": {},
   "cell_type": "markdown",
   "metadata": {},
   "source": [
    "## Race (Disparate impact)"
   ]
  },
  {
   "attachments": {},
   "cell_type": "markdown",
   "metadata": {},
   "source": [
    "### Selection Rate (Positive results / N)"
   ]
  },
  {
   "cell_type": "code",
   "execution_count": 16,
   "metadata": {},
   "outputs": [
    {
     "data": {
      "text/plain": [
       "(0.8724565756823821,\n",
       " 0.7737306843267108,\n",
       " 0.9519650655021834,\n",
       " 0.7723270440251573,\n",
       " 0.08849557522123894)"
      ]
     },
     "execution_count": 16,
     "metadata": {},
     "output_type": "execute_result"
    }
   ],
   "source": [
    "totals = {'white': 0, 'black': 0, 'asian': 0, 'indian': 0, 'other': 0}\n",
    "positives = {'white': 0, 'black': 0, 'asian': 0, 'indian': 0, 'other': 0}\n",
    "\n",
    "for i in range(len(photos)):\n",
    "    true_race = df['race'][i]\n",
    "    predicted_race = df['predicted_race'][i]\n",
    "    totals[true_race] += 1\n",
    "    if true_race == predicted_race:\n",
    "        positives[predicted_race] += 1\n",
    "                \n",
    "whites_sr, blacks_sr, asians_sr, indians_sr, others_sr = positives['white']/ totals['white'], positives['black']/ totals['black'], positives['asian']/ totals['asian'], positives['indian']/ totals['indian'], positives['other']/ totals['other']\n",
    "\n",
    "whites_sr, blacks_sr, asians_sr, indians_sr, others_sr\n",
    "    "
   ]
  },
  {
   "attachments": {},
   "cell_type": "markdown",
   "metadata": {},
   "source": [
    "#### Disparate impact"
   ]
  },
  {
   "cell_type": "code",
   "execution_count": 17,
   "metadata": {},
   "outputs": [
    {
     "data": {
      "text/plain": [
       "(0.8868414840263494, 1.0911317445886801, 0.8852326471619408)"
      ]
     },
     "execution_count": 17,
     "metadata": {},
     "output_type": "execute_result"
    }
   ],
   "source": [
    "\n",
    "# disparate impact ratio = underprivileged group SR / privileged group SR\n",
    "disp_impact_b_w = blacks_sr/ whites_sr\n",
    "disp_impact_b_a = asians_sr/ whites_sr\n",
    "disp_impact_b_i = indians_sr/ whites_sr\n",
    "disp_impact_b_w, disp_impact_b_a, disp_impact_b_i"
   ]
  },
  {
   "cell_type": "code",
   "execution_count": 18,
   "metadata": {},
   "outputs": [],
   "source": [
    "if disp_impact_b_w < 0.8:\n",
    "    print('Disparate impact present in black group / white group')\n",
    "if disp_impact_b_a < 0.8:\n",
    "    print('Disparate impact present in asian group / white group')\n",
    "if disp_impact_b_i < 0.8:\n",
    "    print('Disparate impact present in indian group / white group')"
   ]
  },
  {
   "attachments": {},
   "cell_type": "markdown",
   "metadata": {},
   "source": [
    "## Sex (Disparate impact)"
   ]
  },
  {
   "attachments": {},
   "cell_type": "markdown",
   "metadata": {},
   "source": [
    "### Selection Rate (Positive results / N)"
   ]
  },
  {
   "cell_type": "code",
   "execution_count": 19,
   "metadata": {},
   "outputs": [
    {
     "data": {
      "text/plain": [
       "(0.9536103267446551, 0.9628811312417145)"
      ]
     },
     "execution_count": 19,
     "metadata": {},
     "output_type": "execute_result"
    }
   ],
   "source": [
    "totals = {'male': 0, 'female': 0}\n",
    "positives = {'male': 0, 'female': 0}\n",
    "\n",
    "for i in range(len(photos)):\n",
    "    true_gender = df['gender'][i]\n",
    "    predicted_gender = df['predicted_gender'][i]\n",
    "    totals[true_gender] += 1\n",
    "    if true_gender == predicted_gender:\n",
    "        positives[predicted_gender] += 1\n",
    "                \n",
    "males_sr, females_sr = positives['male']/ totals['male'], positives['female']/ totals['female']\n",
    "\n",
    "males_sr, females_sr"
   ]
  },
  {
   "attachments": {},
   "cell_type": "markdown",
   "metadata": {},
   "source": [
    "#### Disparate impact"
   ]
  },
  {
   "cell_type": "code",
   "execution_count": 20,
   "metadata": {},
   "outputs": [
    {
     "data": {
      "text/plain": [
       "1.0097217954095645"
      ]
     },
     "execution_count": 20,
     "metadata": {},
     "output_type": "execute_result"
    }
   ],
   "source": [
    "# disparate impact ratio = underprivileged group SR / privileged group SR\n",
    "disp_impact = females_sr / males_sr\n",
    "disp_impact"
   ]
  },
  {
   "cell_type": "code",
   "execution_count": 21,
   "metadata": {},
   "outputs": [],
   "source": [
    "if disp_impact < 0.8:\n",
    "    print('Disparate impact present in female group / male group')\n"
   ]
  },
  {
   "attachments": {},
   "cell_type": "markdown",
   "metadata": {},
   "source": [
    "## Sex (Equalized odds)"
   ]
  },
  {
   "cell_type": "code",
   "execution_count": 22,
   "metadata": {},
   "outputs": [],
   "source": [
    "tp_males, tp_females, fn_males, fn_females, fp_males, fp_females = 0, 0, 0, 0, 0, 0\n",
    "\n",
    "for i in range(len(photos)):\n",
    "    data = df['filename'][i].split('_')\n",
    "    gender_number = int(data[1])\n",
    "    match gender_code[gender_number]:\n",
    "        case 'male':\n",
    "            if genders[i] == 'male':\n",
    "                tp_males += 1\n",
    "            else:\n",
    "                fp_females += 1\n",
    "                fn_males += 1 # False negative (wrong no male prediction, in this case, equal to female false positive)\n",
    "        case 'female':\n",
    "            if genders[i] == 'female':\n",
    "                tp_females += 1\n",
    "            else:\n",
    "                fp_males += 1\n",
    "                fn_females += 1\n",
    "                \n",
    "males_tpr, females_tpr = tp_males/ (tp_males + fn_males), tp_females/ (tp_females + fn_females)\n",
    "\n",
    "males_fpr, females_fpr = fp_males/ (fp_males + fn_males), fp_females/ (fp_females + fn_females)\n"
   ]
  },
  {
   "attachments": {},
   "cell_type": "markdown",
   "metadata": {},
   "source": [
    "#### True Positive Rates"
   ]
  },
  {
   "cell_type": "code",
   "execution_count": 23,
   "metadata": {},
   "outputs": [
    {
     "data": {
      "text/plain": [
       "(0.9536103267446551, 0.9628811312417145)"
      ]
     },
     "execution_count": 23,
     "metadata": {},
     "output_type": "execute_result"
    }
   ],
   "source": [
    "males_tpr, females_tpr"
   ]
  },
  {
   "cell_type": "code",
   "execution_count": 24,
   "metadata": {},
   "outputs": [
    {
     "name": "stdout",
     "output_type": "stream",
     "text": [
      "Equalized odds\n"
     ]
    }
   ],
   "source": [
    "if abs(males_tpr - females_tpr) < 0.15:\n",
    "    print('Equalized odds')\n",
    "else:\n",
    "    print('Not equalized odds')\n",
    "    print(abs(males_tpr - females_tpr))"
   ]
  },
  {
   "attachments": {},
   "cell_type": "markdown",
   "metadata": {},
   "source": [
    "#### False Positive Rates"
   ]
  },
  {
   "cell_type": "code",
   "execution_count": 25,
   "metadata": {},
   "outputs": [
    {
     "data": {
      "text/plain": [
       "(0.4221105527638191, 0.5778894472361809)"
      ]
     },
     "execution_count": 25,
     "metadata": {},
     "output_type": "execute_result"
    }
   ],
   "source": [
    "males_fpr, females_fpr"
   ]
  },
  {
   "cell_type": "code",
   "execution_count": 26,
   "metadata": {},
   "outputs": [
    {
     "name": "stdout",
     "output_type": "stream",
     "text": [
      "Not equalized odds\n",
      "0.15577889447236176\n"
     ]
    }
   ],
   "source": [
    "if abs(males_fpr - females_fpr) < 0.15:\n",
    "    print('Equalized odds')\n",
    "else:\n",
    "    print('Not equalized odds')\n",
    "    print(abs(males_fpr - females_fpr))"
   ]
  },
  {
   "attachments": {},
   "cell_type": "markdown",
   "metadata": {},
   "source": [
    "## Race (Equalized odds)"
   ]
  },
  {
   "cell_type": "code",
   "execution_count": 27,
   "metadata": {},
   "outputs": [],
   "source": [
    "race_rates = {'white': {'tp': 0, 'fp': 0, 'fn': 0}, 'black': {'tp': 0, 'fp': 0, 'fn': 0}, 'asian': {'tp': 0, 'fp': 0, 'fn': 0}, 'indian': {'tp': 0, 'fp': 0, 'fn': 0}, 'other': {'tp': 0, 'fp': 0, 'fn': 0}}\n",
    "\n",
    "for i in range(len(photos)):\n",
    "    race = df['race'][i]\n",
    "    pred_race = df['predicted_race'][i]\n",
    "    \n",
    "    if race == pred_race:\n",
    "        race_rates[race]['tp'] += 1\n",
    "    else:\n",
    "        race_rates[race]['fn'] += 1\n",
    "        race_rates[pred_race]['fp'] += 1\n",
    "\n",
    "tpr = lambda tp, fn: tp/ (tp + fn)\n",
    "fpr = lambda fp, fn: fp/ (fp + fn)\n",
    "\n",
    "tpr_values = {'white': 0, 'black': 0, 'asian': 0, 'indian': 0, 'other': 0}\n",
    "fpr_values = {'white': 0, 'black': 0, 'asian': 0, 'indian': 0, 'other': 0}\n",
    "for race in race_rates.keys():\n",
    "    rates = race_rates[race]\n",
    "    tpr_values[race] = tpr(rates['tp'], rates['fn'])\n",
    "    fpr_values[race] = fpr(rates['fp'], rates['fn'])"
   ]
  },
  {
   "attachments": {},
   "cell_type": "markdown",
   "metadata": {},
   "source": [
    "True Positive Rates"
   ]
  },
  {
   "cell_type": "code",
   "execution_count": 28,
   "metadata": {},
   "outputs": [
    {
     "data": {
      "text/plain": [
       "[0.8724565756823821,\n",
       " 0.7737306843267108,\n",
       " 0.9519650655021834,\n",
       " 0.7723270440251573,\n",
       " 0.08849557522123894]"
      ]
     },
     "execution_count": 28,
     "metadata": {},
     "output_type": "execute_result"
    }
   ],
   "source": [
    "[tpr_value for tpr_value in tpr_values.values()]"
   ]
  },
  {
   "cell_type": "code",
   "execution_count": 29,
   "metadata": {},
   "outputs": [
    {
     "name": "stdout",
     "output_type": "stream",
     "text": [
      "Not equalized odds between white and indian\n",
      "Not equalized odds between black and asian\n",
      "Not equalized odds between asian and indian\n"
     ]
    }
   ],
   "source": [
    "from itertools import combinations\n",
    "\n",
    "equalized_odds = True\n",
    "\n",
    "for pair in combinations(tpr_values.keys(), 2):\n",
    "    first_race = pair[0]\n",
    "    second_race = pair[1]\n",
    "    if first_race == 'other' or second_race == 'other':\n",
    "        continue\n",
    "    if abs(tpr_values[first_race] - tpr_values[second_race]) >= 0.1:\n",
    "        equalized_odds = False\n",
    "        print('Not equalized odds between ' + first_race + ' and ' + second_race)\n",
    "\n",
    "if equalized_odds:\n",
    "    print('Equalized odds')"
   ]
  },
  {
   "attachments": {},
   "cell_type": "markdown",
   "metadata": {},
   "source": [
    "False Positive Rates"
   ]
  },
  {
   "cell_type": "code",
   "execution_count": 30,
   "metadata": {},
   "outputs": [
    {
     "data": {
      "text/plain": [
       "[0.6015503875968993,\n",
       " 0.2906574394463668,\n",
       " 0.8186813186813187,\n",
       " 0.44135802469135804,\n",
       " 0.4169811320754717]"
      ]
     },
     "execution_count": 30,
     "metadata": {},
     "output_type": "execute_result"
    }
   ],
   "source": [
    "[fpr_value for fpr_value in fpr_values.values()]"
   ]
  },
  {
   "cell_type": "code",
   "execution_count": 31,
   "metadata": {},
   "outputs": [
    {
     "name": "stdout",
     "output_type": "stream",
     "text": [
      "Not equalized odds between white and black\n",
      "Not equalized odds between white and asian\n",
      "Not equalized odds between white and indian\n",
      "Not equalized odds between black and asian\n",
      "Not equalized odds between black and indian\n",
      "Not equalized odds between asian and indian\n"
     ]
    }
   ],
   "source": [
    "from itertools import combinations\n",
    "\n",
    "equalized_odds = True\n",
    "\n",
    "for pair in combinations(fpr_values.keys(), 2):\n",
    "    first_race = pair[0]\n",
    "    second_race = pair[1]\n",
    "    if first_race == 'other' or second_race == 'other':\n",
    "        continue\n",
    "    if abs(fpr_values[first_race] - fpr_values[second_race]) >= 0.1:\n",
    "        equalized_odds = False\n",
    "        print('Not equalized odds between ' + first_race + ' and ' + second_race)\n",
    "\n",
    "if equalized_odds:\n",
    "    print('Equalized odds')"
   ]
  }
 ],
 "metadata": {
  "kernelspec": {
   "display_name": "Python 3",
   "language": "python",
   "name": "python3"
  },
  "language_info": {
   "codemirror_mode": {
    "name": "ipython",
    "version": 3
   },
   "file_extension": ".py",
   "mimetype": "text/x-python",
   "name": "python",
   "nbconvert_exporter": "python",
   "pygments_lexer": "ipython3",
   "version": "3.11.3"
  },
  "orig_nbformat": 4
 },
 "nbformat": 4,
 "nbformat_minor": 2
}
