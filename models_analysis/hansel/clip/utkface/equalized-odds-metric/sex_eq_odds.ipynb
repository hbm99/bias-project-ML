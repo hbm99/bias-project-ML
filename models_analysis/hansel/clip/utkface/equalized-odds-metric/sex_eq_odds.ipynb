{
 "cells": [
  {
   "cell_type": "code",
   "execution_count": 1,
   "metadata": {},
   "outputs": [],
   "source": [
    "import clip\n",
    "import torch\n",
    "import numpy as np\n",
    "from tqdm import tqdm\n",
    "import os\n",
    "from PIL import Image"
   ]
  },
  {
   "cell_type": "code",
   "execution_count": 2,
   "metadata": {},
   "outputs": [
    {
     "data": {
      "text/plain": [
       "'cpu'"
      ]
     },
     "execution_count": 2,
     "metadata": {},
     "output_type": "execute_result"
    }
   ],
   "source": [
    "device = \"cuda\" if torch.cuda.is_available() else \"cpu\"\n",
    "model, preprocess = clip.load(\"ViT-B/32\", device=device)\n",
    "device"
   ]
  },
  {
   "cell_type": "code",
   "execution_count": 3,
   "metadata": {},
   "outputs": [],
   "source": [
    "labels = ['male', 'female']\n",
    "tkns = ['A photo of a person of sex ' + label for label in labels]\n",
    "text = clip.tokenize(tkns).to(device)\n",
    "BATCH_SIZE = 100000"
   ]
  },
  {
   "cell_type": "code",
   "execution_count": 4,
   "metadata": {},
   "outputs": [],
   "source": [
    "dir_path = r'/Users/hanselblanco/Documents/4to/ML/UTKFace/UTKFace'\n",
    "ln = 0\n",
    "photo_paths = os.listdir(dir_path)\n",
    "\n",
    "for path in photo_paths:\n",
    "    if os.path.isfile(os.path.join(dir_path, path)):\n",
    "        ln += 1"
   ]
  },
  {
   "cell_type": "code",
   "execution_count": 5,
   "metadata": {},
   "outputs": [
    {
     "name": "stderr",
     "output_type": "stream",
     "text": [
      "100%|██████████| 1/1 [01:29<00:00, 89.17s/it]\n"
     ]
    }
   ],
   "source": [
    "results = []\n",
    "photos_to_analize = 4000\n",
    "\n",
    "for i in tqdm(range(0, ln, BATCH_SIZE)):\n",
    "    images = [preprocess(Image.open(dir_path + '/' + photo_paths[j])) for j in range(photos_to_analize)]\n",
    "    image_input = torch.tensor(np.stack(images)).to(device)\n",
    "    with torch.no_grad():\n",
    "        image_features = model.encode_image(image_input)\n",
    "        logits_per_image, logits_per_text = model(image_input, text)\n",
    "        # The softmax function takes the original confidence and applys a transform to make all the confidence add up to one\n",
    "        probs = logits_per_image.softmax(dim=-1).cpu().numpy()\n",
    "        results.append(probs)"
   ]
  },
  {
   "cell_type": "code",
   "execution_count": 6,
   "metadata": {},
   "outputs": [
    {
     "data": {
      "text/plain": [
       "(2000,)"
      ]
     },
     "execution_count": 6,
     "metadata": {},
     "output_type": "execute_result"
    }
   ],
   "source": [
    "res = np.concatenate(results,axis=0)\n",
    "choices = np.argmax(res,axis=1)\n",
    "choices.shape"
   ]
  },
  {
   "cell_type": "code",
   "execution_count": 7,
   "metadata": {},
   "outputs": [
    {
     "data": {
      "text/plain": [
       "array(['female', 'male', 'female', ..., 'female', 'male', 'female'],\n",
       "      dtype='<U6')"
      ]
     },
     "execution_count": 7,
     "metadata": {},
     "output_type": "execute_result"
    }
   ],
   "source": [
    "getlabel = lambda x:labels[x]\n",
    "vgetlabel = np.vectorize(getlabel)\n",
    "genders = vgetlabel(choices)\n",
    "genders"
   ]
  },
  {
   "cell_type": "code",
   "execution_count": 8,
   "metadata": {},
   "outputs": [],
   "source": [
    "\n",
    "gender_code = { 0 : 'male', 1 : 'female'}\n",
    "\n",
    "tp_males, tp_females, fn_males, fn_females, fp_males, fp_females = 0, 0, 0, 0, 0, 0\n",
    "\n",
    "for i in range(photos_to_analize):\n",
    "    data = photo_paths[i].split('_')\n",
    "    gender_number = int(data[1])\n",
    "    match gender_code[gender_number]:\n",
    "        case 'male':\n",
    "            if genders[i] == 'male':\n",
    "                tp_males += 1\n",
    "            else:\n",
    "                fp_females += 1\n",
    "                fn_males += 1 # False negative (wrong no male prediction, in this case, equal to female false positive)\n",
    "        case 'female':\n",
    "            if genders[i] == 'female':\n",
    "                tp_females += 1\n",
    "            else:\n",
    "                fp_males += 1\n",
    "                fn_females += 1\n",
    "                \n",
    "males_tpr, females_tpr = tp_males/ (tp_males + fn_males), tp_females/ (tp_females + fn_females)\n",
    "\n",
    "males_fpr, females_fpr = fp_males/ (fp_males + fn_males), fp_females/ (fp_females + fn_females)\n"
   ]
  },
  {
   "attachments": {},
   "cell_type": "markdown",
   "metadata": {},
   "source": [
    "#### True Positive Rates"
   ]
  },
  {
   "cell_type": "code",
   "execution_count": 24,
   "metadata": {},
   "outputs": [
    {
     "data": {
      "text/plain": [
       "(0.9498580889309366, 0.9554612937433722)"
      ]
     },
     "execution_count": 24,
     "metadata": {},
     "output_type": "execute_result"
    }
   ],
   "source": [
    "males_tpr, females_tpr"
   ]
  },
  {
   "cell_type": "code",
   "execution_count": 26,
   "metadata": {},
   "outputs": [
    {
     "name": "stdout",
     "output_type": "stream",
     "text": [
      "Equalized odds\n"
     ]
    }
   ],
   "source": [
    "if abs(males_tpr - females_tpr) < 0.05:\n",
    "    print('Equalized odds')\n",
    "else:\n",
    "    print('Not equalized odds')\n",
    "    print(abs(males_tpr - females_tpr))"
   ]
  },
  {
   "attachments": {},
   "cell_type": "markdown",
   "metadata": {},
   "source": [
    "#### False Positive Rates"
   ]
  },
  {
   "cell_type": "code",
   "execution_count": 27,
   "metadata": {},
   "outputs": [
    {
     "data": {
      "text/plain": [
       "(0.4421052631578947, 0.5578947368421052)"
      ]
     },
     "execution_count": 27,
     "metadata": {},
     "output_type": "execute_result"
    }
   ],
   "source": [
    "males_fpr, females_fpr"
   ]
  },
  {
   "cell_type": "code",
   "execution_count": 28,
   "metadata": {},
   "outputs": [
    {
     "name": "stdout",
     "output_type": "stream",
     "text": [
      "Not equalized odds\n",
      "0.1157894736842105\n"
     ]
    }
   ],
   "source": [
    "if abs(males_fpr - females_fpr) < 0.05:\n",
    "    print('Equalized odds')\n",
    "else:\n",
    "    print('Not equalized odds')\n",
    "    print(abs(males_fpr - females_fpr))"
   ]
  }
 ],
 "metadata": {
  "kernelspec": {
   "display_name": "Python 3",
   "language": "python",
   "name": "python3"
  },
  "language_info": {
   "codemirror_mode": {
    "name": "ipython",
    "version": 3
   },
   "file_extension": ".py",
   "mimetype": "text/x-python",
   "name": "python",
   "nbconvert_exporter": "python",
   "pygments_lexer": "ipython3",
   "version": "3.11.2"
  },
  "orig_nbformat": 4
 },
 "nbformat": 4,
 "nbformat_minor": 2
}
