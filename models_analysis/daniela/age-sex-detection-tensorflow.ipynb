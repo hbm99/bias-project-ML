{
 "cells": [
  {
   "attachments": {},
   "cell_type": "markdown",
   "id": "4b363a26",
   "metadata": {
    "id": "YIaY5SI2mmz-",
    "papermill": {
     "duration": 0.055837,
     "end_time": "2021-10-31T02:33:16.249351",
     "exception": false,
     "start_time": "2021-10-31T02:33:16.193514",
     "status": "completed"
    },
    "tags": []
   },
   "source": [
    "#### Data Preprocessing"
   ]
  },
  {
   "cell_type": "code",
   "execution_count": 1,
   "id": "b300f135",
   "metadata": {
    "execution": {
     "iopub.execute_input": "2021-10-31T02:33:16.334810Z",
     "iopub.status.busy": "2021-10-31T02:33:16.334061Z",
     "iopub.status.idle": "2021-10-31T02:33:16.338482Z",
     "shell.execute_reply": "2021-10-31T02:33:16.337956Z",
     "shell.execute_reply.started": "2021-10-31T02:21:18.997704Z"
    },
    "id": "IQNPu55rmq88",
    "papermill": {
     "duration": 0.048758,
     "end_time": "2021-10-31T02:33:16.338616",
     "exception": false,
     "start_time": "2021-10-31T02:33:16.289858",
     "status": "completed"
    },
    "tags": []
   },
   "outputs": [],
   "source": [
    "fldr=\"Data/UTKFace\""
   ]
  },
  {
   "cell_type": "code",
   "execution_count": 2,
   "id": "e1fd40ec",
   "metadata": {
    "execution": {
     "iopub.execute_input": "2021-10-31T02:33:16.445747Z",
     "iopub.status.busy": "2021-10-31T02:33:16.444952Z",
     "iopub.status.idle": "2021-10-31T02:33:17.003840Z",
     "shell.execute_reply": "2021-10-31T02:33:17.004245Z",
     "shell.execute_reply.started": "2021-10-31T02:21:19.919176Z"
    },
    "id": "qaxkAByxo4Bh",
    "papermill": {
     "duration": 0.61299,
     "end_time": "2021-10-31T02:33:17.004426",
     "exception": false,
     "start_time": "2021-10-31T02:33:16.391436",
     "status": "completed"
    },
    "tags": []
   },
   "outputs": [
    {
     "name": "stdout",
     "output_type": "stream",
     "text": [
      "100\n",
      "100_0_0_20170112213500903.jpg.chip.jpg\n"
     ]
    }
   ],
   "source": [
    "import os\n",
    "files=os.listdir(fldr)\n",
    "print(int(files[0].split('_')[0]))\n",
    "print(files[0])"
   ]
  },
  {
   "cell_type": "code",
   "execution_count": 3,
   "id": "4cd61616",
   "metadata": {
    "execution": {
     "iopub.execute_input": "2021-10-31T02:33:17.080060Z",
     "iopub.status.busy": "2021-10-31T02:33:17.079448Z",
     "iopub.status.idle": "2021-10-31T02:34:45.465485Z",
     "shell.execute_reply": "2021-10-31T02:34:45.464944Z",
     "shell.execute_reply.started": "2021-10-31T02:21:20.799142Z"
    },
    "id": "yKUxDh4ypHYP",
    "outputId": "b54f4717-7af1-4f8e-e491-cc1a04855d7a",
    "papermill": {
     "duration": 88.426226,
     "end_time": "2021-10-31T02:34:45.465630",
     "exception": false,
     "start_time": "2021-10-31T02:33:17.039404",
     "status": "completed"
    },
    "tags": []
   },
   "outputs": [],
   "source": [
    "import cv2\n",
    "ages=[]\n",
    "genders=[]\n",
    "images=[]\n",
    "\n",
    "for i, fle in enumerate(files):\n",
    "  age=int(fle.split('_')[0])\n",
    "  gender=int(fle.split('_')[1])\n",
    "  total=fldr+'/'+fle\n",
    "  image=cv2.imread(total)\n",
    "\n",
    "  image = cv2.cvtColor(image, cv2.COLOR_BGR2RGB)\n",
    "  image= cv2.resize(image,(48,48))\n",
    "  images.append(image)\n",
    "#   if i % 1000 == 0:\n",
    "#     print(i)"
   ]
  },
  {
   "cell_type": "code",
   "execution_count": 4,
   "id": "68536a87",
   "metadata": {
    "execution": {
     "iopub.execute_input": "2021-10-31T02:34:45.569240Z",
     "iopub.status.busy": "2021-10-31T02:34:45.567667Z",
     "iopub.status.idle": "2021-10-31T02:34:45.569822Z",
     "shell.execute_reply": "2021-10-31T02:34:45.570236Z",
     "shell.execute_reply.started": "2021-10-31T02:23:41.447994Z"
    },
    "id": "2t9s0wFV0Rt8",
    "papermill": {
     "duration": 0.069117,
     "end_time": "2021-10-31T02:34:45.570368",
     "exception": false,
     "start_time": "2021-10-31T02:34:45.501251",
     "status": "completed"
    },
    "tags": []
   },
   "outputs": [],
   "source": [
    "for fle in files:\n",
    "  age=int(fle.split('_')[0])\n",
    "  gender=int(fle.split('_')[1])\n",
    "  ages.append(age)\n",
    "  genders.append(gender)"
   ]
  },
  {
   "cell_type": "code",
   "execution_count": 5,
   "id": "fe83c98a",
   "metadata": {
    "execution": {
     "iopub.execute_input": "2021-10-31T02:34:45.691359Z",
     "iopub.status.busy": "2021-10-31T02:34:45.689751Z",
     "iopub.status.idle": "2021-10-31T02:34:45.691914Z",
     "shell.execute_reply": "2021-10-31T02:34:45.692349Z",
     "shell.execute_reply.started": "2021-10-31T02:23:41.484009Z"
    },
    "id": "_ssUXRvTtdBq",
    "outputId": "df8935c7-5768-40aa-beb5-2d846042b3ef",
    "papermill": {
     "duration": 0.041078,
     "end_time": "2021-10-31T02:34:45.692481",
     "exception": false,
     "start_time": "2021-10-31T02:34:45.651403",
     "status": "completed"
    },
    "tags": []
   },
   "outputs": [],
   "source": [
    "# from google.colab.patches import cv2_imshow\n",
    "# cv2_imshow(images[24])"
   ]
  },
  {
   "cell_type": "code",
   "execution_count": 5,
   "id": "35246182",
   "metadata": {
    "execution": {
     "iopub.execute_input": "2021-10-31T02:34:45.765552Z",
     "iopub.status.busy": "2021-10-31T02:34:45.764732Z",
     "iopub.status.idle": "2021-10-31T02:34:45.768396Z",
     "shell.execute_reply": "2021-10-31T02:34:45.768826Z",
     "shell.execute_reply.started": "2021-10-31T02:23:41.490810Z"
    },
    "id": "wi2sJZBr04yY",
    "outputId": "620d1cf9-602e-47b9-ff26-473ddd8a4e16",
    "papermill": {
     "duration": 0.041844,
     "end_time": "2021-10-31T02:34:45.768963",
     "exception": false,
     "start_time": "2021-10-31T02:34:45.727119",
     "status": "completed"
    },
    "tags": []
   },
   "outputs": [
    {
     "name": "stdout",
     "output_type": "stream",
     "text": [
      "10\n",
      "0\n"
     ]
    }
   ],
   "source": [
    "print(ages[24])\n",
    "print(genders[24])"
   ]
  },
  {
   "cell_type": "code",
   "execution_count": 7,
   "id": "b93570b1",
   "metadata": {
    "execution": {
     "iopub.execute_input": "2021-10-31T02:34:45.843490Z",
     "iopub.status.busy": "2021-10-31T02:34:45.841929Z",
     "iopub.status.idle": "2021-10-31T02:34:45.844078Z",
     "shell.execute_reply": "2021-10-31T02:34:45.844517Z",
     "shell.execute_reply.started": "2021-10-31T02:23:41.498222Z"
    },
    "id": "jQyKZxGp8KUJ",
    "outputId": "4f21ac89-8eeb-48f6-c1d7-c74982ba39db",
    "papermill": {
     "duration": 0.040735,
     "end_time": "2021-10-31T02:34:45.844638",
     "exception": false,
     "start_time": "2021-10-31T02:34:45.803903",
     "status": "completed"
    },
    "tags": []
   },
   "outputs": [],
   "source": [
    "# cv2_imshow(images[53])"
   ]
  },
  {
   "cell_type": "code",
   "execution_count": 6,
   "id": "eba1982e",
   "metadata": {
    "execution": {
     "iopub.execute_input": "2021-10-31T02:34:45.917763Z",
     "iopub.status.busy": "2021-10-31T02:34:45.917183Z",
     "iopub.status.idle": "2021-10-31T02:34:45.920546Z",
     "shell.execute_reply": "2021-10-31T02:34:45.919973Z",
     "shell.execute_reply.started": "2021-10-31T02:23:41.505666Z"
    },
    "id": "bNAJPpEG8MiZ",
    "outputId": "2c2040c7-fb83-4895-9e22-d91810bf4528",
    "papermill": {
     "duration": 0.041585,
     "end_time": "2021-10-31T02:34:45.920661",
     "exception": false,
     "start_time": "2021-10-31T02:34:45.879076",
     "status": "completed"
    },
    "tags": []
   },
   "outputs": [
    {
     "name": "stdout",
     "output_type": "stream",
     "text": [
      "10\n",
      "0\n"
     ]
    }
   ],
   "source": [
    "print(ages[53])\n",
    "print(genders[53])"
   ]
  },
  {
   "cell_type": "code",
   "execution_count": 7,
   "id": "ecd8430d",
   "metadata": {
    "execution": {
     "iopub.execute_input": "2021-10-31T02:34:45.998116Z",
     "iopub.status.busy": "2021-10-31T02:34:45.996996Z",
     "iopub.status.idle": "2021-10-31T02:34:46.070764Z",
     "shell.execute_reply": "2021-10-31T02:34:46.071186Z",
     "shell.execute_reply.started": "2021-10-31T02:28:14.238755Z"
    },
    "id": "wcVToBvvzYSy",
    "papermill": {
     "duration": 0.114918,
     "end_time": "2021-10-31T02:34:46.071373",
     "exception": false,
     "start_time": "2021-10-31T02:34:45.956455",
     "status": "completed"
    },
    "tags": []
   },
   "outputs": [],
   "source": [
    "import numpy as np\n",
    "images_f=np.array(images)\n",
    "genders_f=np.array(genders)\n",
    "ages_f=np.array(ages)"
   ]
  },
  {
   "cell_type": "code",
   "execution_count": 8,
   "id": "8eb56bb0",
   "metadata": {
    "execution": {
     "iopub.execute_input": "2021-10-31T02:34:46.151954Z",
     "iopub.status.busy": "2021-10-31T02:34:46.151099Z",
     "iopub.status.idle": "2021-10-31T02:34:46.289537Z",
     "shell.execute_reply": "2021-10-31T02:34:46.288590Z",
     "shell.execute_reply.started": "2021-10-31T02:28:16.918232Z"
    },
    "id": "Zl76gFvMzoVh",
    "papermill": {
     "duration": 0.181952,
     "end_time": "2021-10-31T02:34:46.289716",
     "exception": false,
     "start_time": "2021-10-31T02:34:46.107764",
     "status": "completed"
    },
    "tags": []
   },
   "outputs": [],
   "source": [
    "np.save('Data/image.npy',images_f)\n",
    "np.save('Data/gender.npy',genders_f)\n",
    "np.save('Data/age.npy',ages_f)"
   ]
  },
  {
   "cell_type": "code",
   "execution_count": 9,
   "id": "919eb829",
   "metadata": {},
   "outputs": [],
   "source": [
    "import numpy as np\n",
    "\n",
    "images_f =  np.load('Data/image.npy')\n",
    "genders_f = np.load('Data/gender.npy')\n",
    "ages_f =    np.load('Data/age.npy')"
   ]
  },
  {
   "attachments": {},
   "cell_type": "markdown",
   "id": "45259836",
   "metadata": {
    "id": "R_A3LwGS0-1r",
    "papermill": {
     "duration": 0.057179,
     "end_time": "2021-10-31T02:34:46.426378",
     "exception": false,
     "start_time": "2021-10-31T02:34:46.369199",
     "status": "completed"
    },
    "tags": []
   },
   "source": [
    "Male = 0\n",
    "Female= 1"
   ]
  },
  {
   "cell_type": "code",
   "execution_count": 10,
   "id": "203001b8",
   "metadata": {
    "execution": {
     "iopub.execute_input": "2021-10-31T02:34:46.551143Z",
     "iopub.status.busy": "2021-10-31T02:34:46.550381Z",
     "iopub.status.idle": "2021-10-31T02:34:46.556522Z",
     "shell.execute_reply": "2021-10-31T02:34:46.557735Z",
     "shell.execute_reply.started": "2021-10-31T02:23:41.718295Z"
    },
    "id": "Yk6SSk2I1Guq",
    "outputId": "2a89aa9a-814b-4db3-e9cc-21e2ce5930a2",
    "papermill": {
     "duration": 0.070038,
     "end_time": "2021-10-31T02:34:46.558054",
     "exception": false,
     "start_time": "2021-10-31T02:34:46.488016",
     "status": "completed"
    },
    "tags": []
   },
   "outputs": [
    {
     "name": "stdout",
     "output_type": "stream",
     "text": [
      "[12391 11317]\n"
     ]
    }
   ],
   "source": [
    "values, counts = np.unique(genders_f, return_counts=True)\n",
    "print(counts)"
   ]
  },
  {
   "cell_type": "code",
   "execution_count": 11,
   "id": "6d7e2835",
   "metadata": {
    "execution": {
     "iopub.execute_input": "2021-10-31T02:34:46.693563Z",
     "iopub.status.busy": "2021-10-31T02:34:46.692753Z",
     "iopub.status.idle": "2021-10-31T02:34:46.901723Z",
     "shell.execute_reply": "2021-10-31T02:34:46.902167Z",
     "shell.execute_reply.started": "2021-10-31T02:28:23.959169Z"
    },
    "id": "s55Necnf3BGx",
    "outputId": "4a8cce05-c785-4807-8680-4df28bbac8af",
    "papermill": {
     "duration": 0.276474,
     "end_time": "2021-10-31T02:34:46.902344",
     "exception": false,
     "start_time": "2021-10-31T02:34:46.625870",
     "status": "completed"
    },
    "tags": []
   },
   "outputs": [
    {
     "data": {
      "image/png": "[encoded data removed]",
      "text/plain": [
       "<Figure size 640x480 with 1 Axes>"
      ]
     },
     "metadata": {},
     "output_type": "display_data"
    }
   ],
   "source": [
    "import matplotlib.pyplot as plt\n",
    "fig = plt.figure()\n",
    "ax = fig.add_axes([0,0,1,1])\n",
    "gender = ['Male', 'Female']\n",
    "values=[4372,5047]\n",
    "ax.bar(gender,values)\n",
    "plt.show()"
   ]
  },
  {
   "cell_type": "code",
   "execution_count": 12,
   "id": "5f4247a5",
   "metadata": {
    "execution": {
     "iopub.execute_input": "2021-10-31T02:34:46.979016Z",
     "iopub.status.busy": "2021-10-31T02:34:46.978125Z",
     "iopub.status.idle": "2021-10-31T02:34:46.983170Z",
     "shell.execute_reply": "2021-10-31T02:34:46.983719Z",
     "shell.execute_reply.started": "2021-10-31T02:28:24.397937Z"
    },
    "id": "m39_Ut8F4XsN",
    "outputId": "3d46a961-1320-4935-8920-d401995d4bb7",
    "papermill": {
     "duration": 0.045624,
     "end_time": "2021-10-31T02:34:46.983900",
     "exception": false,
     "start_time": "2021-10-31T02:34:46.938276",
     "status": "completed"
    },
    "tags": []
   },
   "outputs": [
    {
     "name": "stdout",
     "output_type": "stream",
     "text": [
      "[1123  482  289  273  196  131  139  263  166  156   65  130   81  157\n",
      "  177  247  158  262   98  284  346  395  426  859  734 2197  615  918\n",
      "  570  724  350  664  143  409  880  483  293  325  266  526  132  266\n",
      "  157  100  440  153  170  153  148  381  138  232  241  353  268  236\n",
      "   97  271   82  293  161  125  103   50  259   77   94  100   56  147\n",
      "   33   98   63   32  148   58   28   69   23  133   22   40   18   24\n",
      "  155   35   10   34   33   82    2   13    5    9   17    9   11    2\n",
      "    1    5    5    1    3    4]\n"
     ]
    }
   ],
   "source": [
    "values, counts = np.unique(ages_f, return_counts=True)\n",
    "print(counts)"
   ]
  },
  {
   "cell_type": "code",
   "execution_count": 13,
   "id": "d6a5da90",
   "metadata": {
    "execution": {
     "iopub.execute_input": "2021-10-31T02:34:47.065094Z",
     "iopub.status.busy": "2021-10-31T02:34:47.063561Z",
     "iopub.status.idle": "2021-10-31T02:34:47.065727Z",
     "shell.execute_reply": "2021-10-31T02:34:47.066120Z",
     "shell.execute_reply.started": "2021-10-31T02:28:26.604161Z"
    },
    "id": "-qfptlwh4qPp",
    "papermill": {
     "duration": 0.043446,
     "end_time": "2021-10-31T02:34:47.066282",
     "exception": false,
     "start_time": "2021-10-31T02:34:47.022836",
     "status": "completed"
    },
    "tags": []
   },
   "outputs": [],
   "source": [
    "val=values.tolist()\n",
    "cnt=counts.tolist()"
   ]
  },
  {
   "cell_type": "code",
   "execution_count": 14,
   "id": "86580e02",
   "metadata": {
    "execution": {
     "iopub.execute_input": "2021-10-31T02:34:47.168847Z",
     "iopub.status.busy": "2021-10-31T02:34:47.165815Z",
     "iopub.status.idle": "2021-10-31T02:34:47.319864Z",
     "shell.execute_reply": "2021-10-31T02:34:47.320337Z",
     "shell.execute_reply.started": "2021-10-31T02:28:27.158540Z"
    },
    "id": "fdD8XIB-5H40",
    "outputId": "46e75445-b286-477a-e910-65b99fdd1eca",
    "papermill": {
     "duration": 0.21698,
     "end_time": "2021-10-31T02:34:47.320473",
     "exception": false,
     "start_time": "2021-10-31T02:34:47.103493",
     "status": "completed"
    },
    "tags": []
   },
   "outputs": [
    {
     "data": {
      "image/png": "[encoded data removed]",
      "text/plain": [
       "<Figure size 640x480 with 1 Axes>"
      ]
     },
     "metadata": {},
     "output_type": "display_data"
    }
   ],
   "source": [
    "plt.plot(counts)\n",
    "plt.xlabel('ages')\n",
    "plt.ylabel('distribution')\n",
    "plt.show()"
   ]
  },
  {
   "cell_type": "code",
   "execution_count": 15,
   "id": "a1fbfccd",
   "metadata": {
    "execution": {
     "iopub.execute_input": "2021-10-31T02:34:47.508860Z",
     "iopub.status.busy": "2021-10-31T02:34:47.507958Z",
     "iopub.status.idle": "2021-10-31T02:34:47.510364Z",
     "shell.execute_reply": "2021-10-31T02:34:47.509917Z",
     "shell.execute_reply.started": "2021-10-31T02:28:27.762711Z"
    },
    "id": "vojKD91Z56qj",
    "papermill": {
     "duration": 0.152602,
     "end_time": "2021-10-31T02:34:47.510490",
     "exception": false,
     "start_time": "2021-10-31T02:34:47.357888",
     "status": "completed"
    },
    "tags": []
   },
   "outputs": [],
   "source": [
    "labels=[]\n",
    "\n",
    "i=0\n",
    "while i<len(ages):\n",
    "  label=[]\n",
    "  label.append([ages[i]])\n",
    "  label.append([genders[i]])\n",
    "  labels.append(label)\n",
    "  i+=1"
   ]
  },
  {
   "cell_type": "code",
   "execution_count": 16,
   "id": "73c0d514",
   "metadata": {
    "execution": {
     "iopub.execute_input": "2021-10-31T02:34:47.590901Z",
     "iopub.status.busy": "2021-10-31T02:34:47.589953Z",
     "iopub.status.idle": "2021-10-31T02:34:48.073668Z",
     "shell.execute_reply": "2021-10-31T02:34:48.074115Z",
     "shell.execute_reply.started": "2021-10-31T02:28:28.483557Z"
    },
    "id": "JgKxJJIT7kap",
    "papermill": {
     "duration": 0.524758,
     "end_time": "2021-10-31T02:34:48.074324",
     "exception": false,
     "start_time": "2021-10-31T02:34:47.549566",
     "status": "completed"
    },
    "tags": []
   },
   "outputs": [
    {
     "data": {
      "text/plain": [
       "(23708, 48, 48, 3)"
      ]
     },
     "execution_count": 16,
     "metadata": {},
     "output_type": "execute_result"
    }
   ],
   "source": [
    "images_f_2=images_f/255\n",
    "labels_f=np.array(labels)\n",
    "images_f_2.shape"
   ]
  },
  {
   "cell_type": "code",
   "execution_count": 17,
   "id": "c8fd60fe",
   "metadata": {
    "execution": {
     "iopub.execute_input": "2021-10-31T02:34:48.159208Z",
     "iopub.status.busy": "2021-10-31T02:34:48.158596Z",
     "iopub.status.idle": "2021-10-31T02:34:52.549007Z",
     "shell.execute_reply": "2021-10-31T02:34:52.548513Z",
     "shell.execute_reply.started": "2021-10-31T02:28:29.278449Z"
    },
    "id": "eNuuuNi-8BkW",
    "papermill": {
     "duration": 4.433658,
     "end_time": "2021-10-31T02:34:52.549144",
     "exception": false,
     "start_time": "2021-10-31T02:34:48.115486",
     "status": "completed"
    },
    "tags": []
   },
   "outputs": [],
   "source": [
    "import tensorflow as tf\n",
    "from sklearn.model_selection import train_test_split"
   ]
  },
  {
   "cell_type": "code",
   "execution_count": 18,
   "id": "7f30850e",
   "metadata": {
    "execution": {
     "iopub.execute_input": "2021-10-31T02:34:52.634523Z",
     "iopub.status.busy": "2021-10-31T02:34:52.633364Z",
     "iopub.status.idle": "2021-10-31T02:34:53.018103Z",
     "shell.execute_reply": "2021-10-31T02:34:53.017624Z",
     "shell.execute_reply.started": "2021-10-31T02:28:29.798421Z"
    },
    "id": "_hmmID2C8Ss5",
    "papermill": {
     "duration": 0.430361,
     "end_time": "2021-10-31T02:34:53.018258",
     "exception": false,
     "start_time": "2021-10-31T02:34:52.587897",
     "status": "completed"
    },
    "tags": []
   },
   "outputs": [],
   "source": [
    "X_train, X_test, Y_train, Y_test= train_test_split(images_f_2, labels_f,test_size=0.25)"
   ]
  },
  {
   "cell_type": "code",
   "execution_count": 19,
   "id": "03e81563",
   "metadata": {
    "execution": {
     "iopub.execute_input": "2021-10-31T02:34:53.100118Z",
     "iopub.status.busy": "2021-10-31T02:34:53.099439Z",
     "iopub.status.idle": "2021-10-31T02:34:53.102036Z",
     "shell.execute_reply": "2021-10-31T02:34:53.102476Z",
     "shell.execute_reply.started": "2021-10-31T02:28:30.648452Z"
    },
    "id": "DqTM5WSy8cK4",
    "outputId": "12bf465d-1e41-4c03-d635-22310658cb37",
    "papermill": {
     "duration": 0.046635,
     "end_time": "2021-10-31T02:34:53.102603",
     "exception": false,
     "start_time": "2021-10-31T02:34:53.055968",
     "status": "completed"
    },
    "tags": []
   },
   "outputs": [
    {
     "data": {
      "text/plain": [
       "array([[[25],\n",
       "        [ 1]],\n",
       "\n",
       "       [[40],\n",
       "        [ 0]],\n",
       "\n",
       "       [[15],\n",
       "        [ 0]],\n",
       "\n",
       "       [[50],\n",
       "        [ 0]],\n",
       "\n",
       "       [[ 5],\n",
       "        [ 1]]])"
      ]
     },
     "execution_count": 19,
     "metadata": {},
     "output_type": "execute_result"
    }
   ],
   "source": [
    "Y_train[0:5]"
   ]
  },
  {
   "cell_type": "code",
   "execution_count": 20,
   "id": "3e2ca0da",
   "metadata": {
    "execution": {
     "iopub.execute_input": "2021-10-31T02:34:53.185570Z",
     "iopub.status.busy": "2021-10-31T02:34:53.184861Z",
     "iopub.status.idle": "2021-10-31T02:34:53.187535Z",
     "shell.execute_reply": "2021-10-31T02:34:53.187066Z",
     "shell.execute_reply.started": "2021-10-31T02:28:31.277583Z"
    },
    "id": "IeIqY-7F8oWB",
    "papermill": {
     "duration": 0.04605,
     "end_time": "2021-10-31T02:34:53.187644",
     "exception": false,
     "start_time": "2021-10-31T02:34:53.141594",
     "status": "completed"
    },
    "tags": []
   },
   "outputs": [],
   "source": [
    "Y_train_2=[Y_train[:,1],Y_train[:,0]]\n",
    "Y_test_2=[Y_test[:,1],Y_test[:,0]]"
   ]
  },
  {
   "cell_type": "code",
   "execution_count": 21,
   "id": "25792ad6",
   "metadata": {
    "execution": {
     "iopub.execute_input": "2021-10-31T02:34:53.268736Z",
     "iopub.status.busy": "2021-10-31T02:34:53.268047Z",
     "iopub.status.idle": "2021-10-31T02:34:53.270620Z",
     "shell.execute_reply": "2021-10-31T02:34:53.271113Z",
     "shell.execute_reply.started": "2021-10-31T02:28:31.958023Z"
    },
    "id": "42UhBOkE9CVV",
    "outputId": "f3c7d1f7-5709-4242-d90e-21668d1d5d2f",
    "papermill": {
     "duration": 0.045512,
     "end_time": "2021-10-31T02:34:53.271257",
     "exception": false,
     "start_time": "2021-10-31T02:34:53.225745",
     "status": "completed"
    },
    "tags": []
   },
   "outputs": [
    {
     "data": {
      "text/plain": [
       "array([[1],\n",
       "       [0],\n",
       "       [0],\n",
       "       [0],\n",
       "       [1]])"
      ]
     },
     "execution_count": 21,
     "metadata": {},
     "output_type": "execute_result"
    }
   ],
   "source": [
    "Y_train_2[0][0:5]"
   ]
  },
  {
   "cell_type": "code",
   "execution_count": 22,
   "id": "cb5df889",
   "metadata": {
    "execution": {
     "iopub.execute_input": "2021-10-31T02:34:53.351439Z",
     "iopub.status.busy": "2021-10-31T02:34:53.350790Z",
     "iopub.status.idle": "2021-10-31T02:34:53.353428Z",
     "shell.execute_reply": "2021-10-31T02:34:53.353854Z",
     "shell.execute_reply.started": "2021-10-31T02:28:32.598270Z"
    },
    "id": "iO5BZ53v9XRI",
    "outputId": "2ad106f5-baa0-4646-d856-30417d882ad5",
    "papermill": {
     "duration": 0.045004,
     "end_time": "2021-10-31T02:34:53.353971",
     "exception": false,
     "start_time": "2021-10-31T02:34:53.308967",
     "status": "completed"
    },
    "tags": []
   },
   "outputs": [
    {
     "data": {
      "text/plain": [
       "array([[25],\n",
       "       [40],\n",
       "       [15],\n",
       "       [50],\n",
       "       [ 5]])"
      ]
     },
     "execution_count": 22,
     "metadata": {},
     "output_type": "execute_result"
    }
   ],
   "source": [
    "Y_train_2[1][0:5]"
   ]
  },
  {
   "attachments": {},
   "cell_type": "markdown",
   "id": "624d4145",
   "metadata": {
    "id": "m-jnZOef9caT",
    "papermill": {
     "duration": 0.039855,
     "end_time": "2021-10-31T02:34:53.431950",
     "exception": false,
     "start_time": "2021-10-31T02:34:53.392095",
     "status": "completed"
    },
    "tags": []
   },
   "source": [
    "### Model"
   ]
  },
  {
   "cell_type": "code",
   "execution_count": 24,
   "id": "8d7e63f2",
   "metadata": {
    "execution": {
     "iopub.execute_input": "2021-10-31T02:34:53.516969Z",
     "iopub.status.busy": "2021-10-31T02:34:53.515794Z",
     "iopub.status.idle": "2021-10-31T02:34:54.328765Z",
     "shell.execute_reply": "2021-10-31T02:34:54.327795Z",
     "shell.execute_reply.started": "2021-10-31T02:28:35.458515Z"
    },
    "id": "s8-iyoLN9Z8p",
    "papermill": {
     "duration": 0.858034,
     "end_time": "2021-10-31T02:34:54.328951",
     "exception": false,
     "start_time": "2021-10-31T02:34:53.470917",
     "status": "completed"
    },
    "tags": []
   },
   "outputs": [],
   "source": [
    "from tensorflow.keras.layers import Dropout\n",
    "from tensorflow.keras.layers import Flatten,BatchNormalization\n",
    "from tensorflow.keras.layers import Dense, MaxPooling2D,Conv2D\n",
    "from tensorflow.keras.layers import Input,Activation,Add\n",
    "from tensorflow.keras.models import Model\n",
    "from tensorflow.keras.regularizers import l2\n",
    "from tensorflow.keras.optimizers import Adam\n",
    "import tensorflow as tf\n",
    "\n",
    "def Convolution(input_tensor,filters):\n",
    "    \n",
    "    x = Conv2D(filters=filters,kernel_size=(3, 3),padding = 'same',strides=(1, 1),kernel_regularizer=l2(0.001))(input_tensor)\n",
    "    x = Dropout(0.1)(x)\n",
    "    x= Activation('relu')(x)\n",
    "\n",
    "    return x\n",
    "def model(input_shape):\n",
    "  inputs = Input((input_shape))\n",
    "  \n",
    "  conv_1= Convolution(inputs,32)\n",
    "  maxp_1 = MaxPooling2D(pool_size = (2,2)) (conv_1)\n",
    "  conv_2 = Convolution(maxp_1,64)\n",
    "  maxp_2 = MaxPooling2D(pool_size = (2, 2)) (conv_2)\n",
    "  conv_3 = Convolution(maxp_2,128)\n",
    "  maxp_3 = MaxPooling2D(pool_size = (2, 2)) (conv_3)\n",
    "  conv_4 = Convolution(maxp_3,256)\n",
    "  maxp_4 = MaxPooling2D(pool_size = (2, 2)) (conv_4)\n",
    "  flatten= Flatten() (maxp_4)\n",
    "  dense_1= Dense(64,activation='relu')(flatten)\n",
    "  dense_2= Dense(64,activation='relu')(flatten)\n",
    "  drop_1=Dropout(0.2)(dense_1)\n",
    "  drop_2=Dropout(0.2)(dense_2)\n",
    "  output_1= Dense(1,activation=\"sigmoid\",name='sex_out')(drop_1)\n",
    "  output_2= Dense(1,activation=\"relu\",name='age_out')(drop_2)\n",
    "  model = Model(inputs=[inputs], outputs=[output_1,output_2])\n",
    "  model.compile(loss=[\"binary_crossentropy\",\"mae\"], optimizer=\"Adam\",\n",
    "\tmetrics=[\"accuracy\"])\n",
    "  \n",
    "  return model\n"
   ]
  },
  {
   "cell_type": "code",
   "execution_count": 25,
   "id": "e5e36a71",
   "metadata": {
    "execution": {
     "iopub.execute_input": "2021-10-31T02:34:54.412433Z",
     "iopub.status.busy": "2021-10-31T02:34:54.411636Z",
     "iopub.status.idle": "2021-10-31T02:34:56.824016Z",
     "shell.execute_reply": "2021-10-31T02:34:56.824561Z",
     "shell.execute_reply.started": "2021-10-31T02:28:36.678353Z"
    },
    "id": "9Ia-ldz8-oT3",
    "papermill": {
     "duration": 2.455622,
     "end_time": "2021-10-31T02:34:56.824713",
     "exception": false,
     "start_time": "2021-10-31T02:34:54.369091",
     "status": "completed"
    },
    "tags": []
   },
   "outputs": [],
   "source": [
    "Model=model((48,48,3))"
   ]
  },
  {
   "cell_type": "code",
   "execution_count": 26,
   "id": "b59f3b53",
   "metadata": {
    "execution": {
     "iopub.execute_input": "2021-10-31T02:34:56.907657Z",
     "iopub.status.busy": "2021-10-31T02:34:56.906842Z",
     "iopub.status.idle": "2021-10-31T02:34:56.921185Z",
     "shell.execute_reply": "2021-10-31T02:34:56.920639Z",
     "shell.execute_reply.started": "2021-10-31T02:28:39.138086Z"
    },
    "id": "hslItvTK-74B",
    "outputId": "bc8e831a-e899-47a0-d6b6-bb599902f39e",
    "papermill": {
     "duration": 0.057535,
     "end_time": "2021-10-31T02:34:56.921344",
     "exception": false,
     "start_time": "2021-10-31T02:34:56.863809",
     "status": "completed"
    },
    "tags": []
   },
   "outputs": [
    {
     "name": "stdout",
     "output_type": "stream",
     "text": [
      "Model: \"model\"\n",
      "__________________________________________________________________________________________________\n",
      " Layer (type)                   Output Shape         Param #     Connected to                     \n",
      "==================================================================================================\n",
      " input_1 (InputLayer)           [(None, 48, 48, 3)]  0           []                               \n",
      "                                                                                                  \n",
      " conv2d (Conv2D)                (None, 48, 48, 32)   896         ['input_1[0][0]']                \n",
      "                                                                                                  \n",
      " dropout (Dropout)              (None, 48, 48, 32)   0           ['conv2d[0][0]']                 \n",
      "                                                                                                  \n",
      " activation (Activation)        (None, 48, 48, 32)   0           ['dropout[0][0]']                \n",
      "                                                                                                  \n",
      " max_pooling2d (MaxPooling2D)   (None, 24, 24, 32)   0           ['activation[0][0]']             \n",
      "                                                                                                  \n",
      " conv2d_1 (Conv2D)              (None, 24, 24, 64)   18496       ['max_pooling2d[0][0]']          \n",
      "                                                                                                  \n",
      " dropout_1 (Dropout)            (None, 24, 24, 64)   0           ['conv2d_1[0][0]']               \n",
      "                                                                                                  \n",
      " activation_1 (Activation)      (None, 24, 24, 64)   0           ['dropout_1[0][0]']              \n",
      "                                                                                                  \n",
      " max_pooling2d_1 (MaxPooling2D)  (None, 12, 12, 64)  0           ['activation_1[0][0]']           \n",
      "                                                                                                  \n",
      " conv2d_2 (Conv2D)              (None, 12, 12, 128)  73856       ['max_pooling2d_1[0][0]']        \n",
      "                                                                                                  \n",
      " dropout_2 (Dropout)            (None, 12, 12, 128)  0           ['conv2d_2[0][0]']               \n",
      "                                                                                                  \n",
      " activation_2 (Activation)      (None, 12, 12, 128)  0           ['dropout_2[0][0]']              \n",
      "                                                                                                  \n",
      " max_pooling2d_2 (MaxPooling2D)  (None, 6, 6, 128)   0           ['activation_2[0][0]']           \n",
      "                                                                                                  \n",
      " conv2d_3 (Conv2D)              (None, 6, 6, 256)    295168      ['max_pooling2d_2[0][0]']        \n",
      "                                                                                                  \n",
      " dropout_3 (Dropout)            (None, 6, 6, 256)    0           ['conv2d_3[0][0]']               \n",
      "                                                                                                  \n",
      " activation_3 (Activation)      (None, 6, 6, 256)    0           ['dropout_3[0][0]']              \n",
      "                                                                                                  \n",
      " max_pooling2d_3 (MaxPooling2D)  (None, 3, 3, 256)   0           ['activation_3[0][0]']           \n",
      "                                                                                                  \n",
      " flatten (Flatten)              (None, 2304)         0           ['max_pooling2d_3[0][0]']        \n",
      "                                                                                                  \n",
      " dense (Dense)                  (None, 64)           147520      ['flatten[0][0]']                \n",
      "                                                                                                  \n",
      " dense_1 (Dense)                (None, 64)           147520      ['flatten[0][0]']                \n",
      "                                                                                                  \n",
      " dropout_4 (Dropout)            (None, 64)           0           ['dense[0][0]']                  \n",
      "                                                                                                  \n",
      " dropout_5 (Dropout)            (None, 64)           0           ['dense_1[0][0]']                \n",
      "                                                                                                  \n",
      " sex_out (Dense)                (None, 1)            65          ['dropout_4[0][0]']              \n",
      "                                                                                                  \n",
      " age_out (Dense)                (None, 1)            65          ['dropout_5[0][0]']              \n",
      "                                                                                                  \n",
      "==================================================================================================\n",
      "Total params: 683,586\n",
      "Trainable params: 683,586\n",
      "Non-trainable params: 0\n",
      "__________________________________________________________________________________________________\n"
     ]
    }
   ],
   "source": [
    "Model.summary()"
   ]
  },
  {
   "attachments": {},
   "cell_type": "markdown",
   "id": "ebb4a14c",
   "metadata": {
    "id": "p6qugq2n_ArD",
    "papermill": {
     "duration": 0.039862,
     "end_time": "2021-10-31T02:34:57.001172",
     "exception": false,
     "start_time": "2021-10-31T02:34:56.961310",
     "status": "completed"
    },
    "tags": []
   },
   "source": [
    "#### Training"
   ]
  },
  {
   "cell_type": "code",
   "execution_count": 27,
   "id": "acad90ca",
   "metadata": {
    "execution": {
     "iopub.execute_input": "2021-10-31T02:34:57.085440Z",
     "iopub.status.busy": "2021-10-31T02:34:57.084665Z",
     "iopub.status.idle": "2021-10-31T02:34:57.087427Z",
     "shell.execute_reply": "2021-10-31T02:34:57.086969Z",
     "shell.execute_reply.started": "2021-10-31T02:28:45.998444Z"
    },
    "id": "h9CACTIq_DVp",
    "papermill": {
     "duration": 0.047237,
     "end_time": "2021-10-31T02:34:57.087547",
     "exception": false,
     "start_time": "2021-10-31T02:34:57.040310",
     "status": "completed"
    },
    "tags": []
   },
   "outputs": [],
   "source": [
    "from tensorflow.keras.callbacks import ModelCheckpoint\n",
    "import tensorflow as tf"
   ]
  },
  {
   "cell_type": "code",
   "execution_count": 28,
   "id": "a36e661b",
   "metadata": {
    "execution": {
     "iopub.execute_input": "2021-10-31T02:34:57.172242Z",
     "iopub.status.busy": "2021-10-31T02:34:57.171628Z",
     "iopub.status.idle": "2021-10-31T02:34:57.173814Z",
     "shell.execute_reply": "2021-10-31T02:34:57.174248Z",
     "shell.execute_reply.started": "2021-10-31T02:28:46.488448Z"
    },
    "id": "YmPivfSj_K0l",
    "papermill": {
     "duration": 0.047274,
     "end_time": "2021-10-31T02:34:57.174379",
     "exception": false,
     "start_time": "2021-10-31T02:34:57.127105",
     "status": "completed"
    },
    "tags": []
   },
   "outputs": [],
   "source": [
    "fle_s='Age_sex_detection.h5'\n",
    "checkpointer = ModelCheckpoint(fle_s, monitor='val_loss',verbose=1,save_best_only=True,save_weights_only=False, mode='auto',save_freq='epoch')\n",
    "Early_stop=tf.keras.callbacks.EarlyStopping(patience=75, monitor='val_loss',restore_best_weights=True),\n",
    "callback_list=[checkpointer,Early_stop]"
   ]
  },
  {
   "cell_type": "code",
   "execution_count": 29,
   "id": "d6211e34",
   "metadata": {
    "execution": {
     "iopub.execute_input": "2021-10-31T02:34:57.320405Z",
     "iopub.status.busy": "2021-10-31T02:34:57.319588Z",
     "iopub.status.idle": "2021-10-31T02:40:21.388764Z",
     "shell.execute_reply": "2021-10-31T02:40:21.389178Z",
     "shell.execute_reply.started": "2021-10-31T02:28:52.279150Z"
    },
    "id": "-BHmKYgL_R4p",
    "outputId": "c70ceab4-ffa4-4620-8be6-0e105dd5caee",
    "papermill": {
     "duration": 324.146705,
     "end_time": "2021-10-31T02:40:21.389381",
     "exception": false,
     "start_time": "2021-10-31T02:34:57.242676",
     "status": "completed"
    },
    "tags": []
   },
   "outputs": [
    {
     "name": "stderr",
     "output_type": "stream",
     "text": [
      "2021-10-31 02:34:58.480570: I tensorflow/compiler/mlir/mlir_graph_optimization_pass.cc:185] None of the MLIR Optimization Passes are enabled (registered 2)\n"
     ]
    },
    {
     "name": "stdout",
     "output_type": "stream",
     "text": [
      "Epoch 1/100\n"
     ]
    },
    {
     "name": "stderr",
     "output_type": "stream",
     "text": [
      "2021-10-31 02:35:00.280119: I tensorflow/stream_executor/cuda/cuda_dnn.cc:369] Loaded cuDNN version 8005\n"
     ]
    },
    {
     "name": "stdout",
     "output_type": "stream",
     "text": [
      "278/278 [==============================] - 11s 15ms/step - loss: 16.9244 - sex_out_loss: 0.6679 - age_out_loss: 16.0676 - sex_out_accuracy: 0.5880 - age_out_accuracy: 0.0477 - val_loss: 19.1245 - val_sex_out_loss: 0.6157 - val_age_out_loss: 18.3286 - val_sex_out_accuracy: 0.6727 - val_age_out_accuracy: 0.0462\n",
      "\n",
      "Epoch 00001: val_loss improved from inf to 19.12452, saving model to Age_sex_detection.h5\n",
      "Epoch 2/100\n",
      "278/278 [==============================] - 3s 10ms/step - loss: 12.8495 - sex_out_loss: 0.5538 - age_out_loss: 12.0746 - sex_out_accuracy: 0.7221 - age_out_accuracy: 0.0459 - val_loss: 14.5233 - val_sex_out_loss: 0.5001 - val_age_out_loss: 13.7689 - val_sex_out_accuracy: 0.7672 - val_age_out_accuracy: 0.0336\n",
      "\n",
      "Epoch 00002: val_loss improved from 19.12452 to 14.52329, saving model to Age_sex_detection.h5\n",
      "Epoch 3/100\n",
      "278/278 [==============================] - 3s 10ms/step - loss: 10.8996 - sex_out_loss: 0.4844 - age_out_loss: 10.1427 - sex_out_accuracy: 0.7638 - age_out_accuracy: 0.0454 - val_loss: 14.2035 - val_sex_out_loss: 0.4583 - val_age_out_loss: 13.4577 - val_sex_out_accuracy: 0.7977 - val_age_out_accuracy: 0.0445\n",
      "\n",
      "Epoch 00003: val_loss improved from 14.52329 to 14.20352, saving model to Age_sex_detection.h5\n",
      "Epoch 4/100\n",
      "278/278 [==============================] - 3s 11ms/step - loss: 10.1352 - sex_out_loss: 0.4493 - age_out_loss: 9.3850 - sex_out_accuracy: 0.7813 - age_out_accuracy: 0.0457 - val_loss: 12.5360 - val_sex_out_loss: 0.4227 - val_age_out_loss: 11.8018 - val_sex_out_accuracy: 0.8085 - val_age_out_accuracy: 0.0457\n",
      "\n",
      "Epoch 00004: val_loss improved from 14.20352 to 12.53600, saving model to Age_sex_detection.h5\n",
      "Epoch 5/100\n",
      "278/278 [==============================] - 3s 11ms/step - loss: 9.6636 - sex_out_loss: 0.4196 - age_out_loss: 8.9212 - sex_out_accuracy: 0.8032 - age_out_accuracy: 0.0465 - val_loss: 10.8302 - val_sex_out_loss: 0.4003 - val_age_out_loss: 10.0955 - val_sex_out_accuracy: 0.8228 - val_age_out_accuracy: 0.0462\n",
      "\n",
      "Epoch 00005: val_loss improved from 12.53600 to 10.83022, saving model to Age_sex_detection.h5\n",
      "Epoch 6/100\n",
      "278/278 [==============================] - 3s 10ms/step - loss: 9.2149 - sex_out_loss: 0.3922 - age_out_loss: 8.4780 - sex_out_accuracy: 0.8183 - age_out_accuracy: 0.0452 - val_loss: 11.4552 - val_sex_out_loss: 0.4002 - val_age_out_loss: 10.7004 - val_sex_out_accuracy: 0.8176 - val_age_out_accuracy: 0.0462\n",
      "\n",
      "Epoch 00006: val_loss did not improve from 10.83022\n",
      "Epoch 7/100\n",
      "278/278 [==============================] - 3s 10ms/step - loss: 9.0333 - sex_out_loss: 0.3818 - age_out_loss: 8.2867 - sex_out_accuracy: 0.8277 - age_out_accuracy: 0.0456 - val_loss: 12.2987 - val_sex_out_loss: 0.3608 - val_age_out_loss: 11.5646 - val_sex_out_accuracy: 0.8320 - val_age_out_accuracy: 0.0444\n",
      "\n",
      "Epoch 00007: val_loss did not improve from 10.83022\n",
      "Epoch 8/100\n",
      "278/278 [==============================] - 3s 11ms/step - loss: 8.6934 - sex_out_loss: 0.3591 - age_out_loss: 7.9510 - sex_out_accuracy: 0.8362 - age_out_accuracy: 0.0465 - val_loss: 11.3528 - val_sex_out_loss: 0.3508 - val_age_out_loss: 10.6107 - val_sex_out_accuracy: 0.8417 - val_age_out_accuracy: 0.0462\n",
      "\n",
      "Epoch 00008: val_loss did not improve from 10.83022\n",
      "Epoch 9/100\n",
      "278/278 [==============================] - 3s 11ms/step - loss: 8.4532 - sex_out_loss: 0.3524 - age_out_loss: 7.7008 - sex_out_accuracy: 0.8409 - age_out_accuracy: 0.0463 - val_loss: 11.0356 - val_sex_out_loss: 0.3316 - val_age_out_loss: 10.2951 - val_sex_out_accuracy: 0.8532 - val_age_out_accuracy: 0.0462\n",
      "\n",
      "Epoch 00009: val_loss did not improve from 10.83022\n",
      "Epoch 10/100\n",
      "278/278 [==============================] - 3s 10ms/step - loss: 8.2174 - sex_out_loss: 0.3343 - age_out_loss: 7.4648 - sex_out_accuracy: 0.8474 - age_out_accuracy: 0.0466 - val_loss: 9.9484 - val_sex_out_loss: 0.3293 - val_age_out_loss: 9.1925 - val_sex_out_accuracy: 0.8584 - val_age_out_accuracy: 0.0462\n",
      "\n",
      "Epoch 00010: val_loss improved from 10.83022 to 9.94844, saving model to Age_sex_detection.h5\n",
      "Epoch 11/100\n",
      "278/278 [==============================] - 3s 11ms/step - loss: 8.3108 - sex_out_loss: 0.3275 - age_out_loss: 7.5458 - sex_out_accuracy: 0.8536 - age_out_accuracy: 0.0462 - val_loss: 10.8964 - val_sex_out_loss: 0.3195 - val_age_out_loss: 10.1321 - val_sex_out_accuracy: 0.8611 - val_age_out_accuracy: 0.0462\n",
      "\n",
      "Epoch 00011: val_loss did not improve from 9.94844\n",
      "Epoch 12/100\n",
      "278/278 [==============================] - 3s 11ms/step - loss: 8.0463 - sex_out_loss: 0.3101 - age_out_loss: 7.2821 - sex_out_accuracy: 0.8591 - age_out_accuracy: 0.0477 - val_loss: 10.1430 - val_sex_out_loss: 0.3014 - val_age_out_loss: 9.3793 - val_sex_out_accuracy: 0.8601 - val_age_out_accuracy: 0.0462\n",
      "\n",
      "Epoch 00012: val_loss did not improve from 9.94844\n",
      "Epoch 13/100\n",
      "278/278 [==============================] - 3s 10ms/step - loss: 7.8970 - sex_out_loss: 0.3011 - age_out_loss: 7.1250 - sex_out_accuracy: 0.8649 - age_out_accuracy: 0.0477 - val_loss: 10.8777 - val_sex_out_loss: 0.2983 - val_age_out_loss: 10.1012 - val_sex_out_accuracy: 0.8647 - val_age_out_accuracy: 0.0462\n",
      "\n",
      "Epoch 00013: val_loss did not improve from 9.94844\n",
      "Epoch 14/100\n",
      "278/278 [==============================] - 3s 10ms/step - loss: 7.6563 - sex_out_loss: 0.2995 - age_out_loss: 6.8695 - sex_out_accuracy: 0.8654 - age_out_accuracy: 0.0477 - val_loss: 9.5571 - val_sex_out_loss: 0.2856 - val_age_out_loss: 8.7755 - val_sex_out_accuracy: 0.8748 - val_age_out_accuracy: 0.0462\n",
      "\n",
      "Epoch 00014: val_loss improved from 9.94844 to 9.55706, saving model to Age_sex_detection.h5\n",
      "Epoch 15/100\n",
      "278/278 [==============================] - 3s 10ms/step - loss: 7.6697 - sex_out_loss: 0.2937 - age_out_loss: 6.8713 - sex_out_accuracy: 0.8691 - age_out_accuracy: 0.0477 - val_loss: 12.5023 - val_sex_out_loss: 0.2744 - val_age_out_loss: 11.7164 - val_sex_out_accuracy: 0.8773 - val_age_out_accuracy: 0.0462\n",
      "\n",
      "Epoch 00015: val_loss did not improve from 9.55706\n",
      "Epoch 16/100\n",
      "278/278 [==============================] - 3s 10ms/step - loss: 7.4638 - sex_out_loss: 0.2843 - age_out_loss: 6.6603 - sex_out_accuracy: 0.8721 - age_out_accuracy: 0.0477 - val_loss: 8.5819 - val_sex_out_loss: 0.2726 - val_age_out_loss: 7.7837 - val_sex_out_accuracy: 0.8741 - val_age_out_accuracy: 0.0462\n",
      "\n",
      "Epoch 00016: val_loss improved from 9.55706 to 8.58189, saving model to Age_sex_detection.h5\n",
      "Epoch 17/100\n",
      "278/278 [==============================] - 3s 10ms/step - loss: 7.3749 - sex_out_loss: 0.2802 - age_out_loss: 6.5612 - sex_out_accuracy: 0.8759 - age_out_accuracy: 0.0477 - val_loss: 10.1669 - val_sex_out_loss: 0.2800 - val_age_out_loss: 9.3462 - val_sex_out_accuracy: 0.8760 - val_age_out_accuracy: 0.0462\n",
      "\n",
      "Epoch 00017: val_loss did not improve from 8.58189\n",
      "Epoch 18/100\n",
      "278/278 [==============================] - 3s 10ms/step - loss: 7.3038 - sex_out_loss: 0.2741 - age_out_loss: 6.4804 - sex_out_accuracy: 0.8762 - age_out_accuracy: 0.0477 - val_loss: 8.2765 - val_sex_out_loss: 0.2630 - val_age_out_loss: 7.4557 - val_sex_out_accuracy: 0.8839 - val_age_out_accuracy: 0.0462\n",
      "\n",
      "Epoch 00018: val_loss improved from 8.58189 to 8.27645, saving model to Age_sex_detection.h5\n",
      "Epoch 19/100\n",
      "278/278 [==============================] - 3s 10ms/step - loss: 7.2377 - sex_out_loss: 0.2730 - age_out_loss: 6.3989 - sex_out_accuracy: 0.8784 - age_out_accuracy: 0.0477 - val_loss: 9.4976 - val_sex_out_loss: 0.2648 - val_age_out_loss: 8.6597 - val_sex_out_accuracy: 0.8792 - val_age_out_accuracy: 0.0462\n",
      "\n",
      "Epoch 00019: val_loss did not improve from 8.27645\n",
      "Epoch 20/100\n",
      "278/278 [==============================] - 3s 11ms/step - loss: 7.1309 - sex_out_loss: 0.2711 - age_out_loss: 6.2785 - sex_out_accuracy: 0.8780 - age_out_accuracy: 0.0477 - val_loss: 9.1590 - val_sex_out_loss: 0.2543 - val_age_out_loss: 8.3170 - val_sex_out_accuracy: 0.8848 - val_age_out_accuracy: 0.0462\n",
      "\n",
      "Epoch 00020: val_loss did not improve from 8.27645\n",
      "Epoch 21/100\n",
      "278/278 [==============================] - 3s 10ms/step - loss: 7.0572 - sex_out_loss: 0.2668 - age_out_loss: 6.1934 - sex_out_accuracy: 0.8807 - age_out_accuracy: 0.0477 - val_loss: 9.3016 - val_sex_out_loss: 0.2598 - val_age_out_loss: 8.4365 - val_sex_out_accuracy: 0.8817 - val_age_out_accuracy: 0.0462\n",
      "\n",
      "Epoch 00021: val_loss did not improve from 8.27645\n",
      "Epoch 22/100\n",
      "278/278 [==============================] - 3s 11ms/step - loss: 7.0343 - sex_out_loss: 0.2593 - age_out_loss: 6.1603 - sex_out_accuracy: 0.8850 - age_out_accuracy: 0.0477 - val_loss: 9.6298 - val_sex_out_loss: 0.2608 - val_age_out_loss: 8.7457 - val_sex_out_accuracy: 0.8799 - val_age_out_accuracy: 0.0462\n",
      "\n",
      "Epoch 00022: val_loss did not improve from 8.27645\n",
      "Epoch 23/100\n",
      "278/278 [==============================] - 3s 11ms/step - loss: 6.9186 - sex_out_loss: 0.2560 - age_out_loss: 6.0318 - sex_out_accuracy: 0.8885 - age_out_accuracy: 0.0477 - val_loss: 8.0517 - val_sex_out_loss: 0.2795 - val_age_out_loss: 7.1343 - val_sex_out_accuracy: 0.8750 - val_age_out_accuracy: 0.0462\n",
      "\n",
      "Epoch 00023: val_loss improved from 8.27645 to 8.05166, saving model to Age_sex_detection.h5\n",
      "Epoch 24/100\n",
      "278/278 [==============================] - 3s 10ms/step - loss: 6.9710 - sex_out_loss: 0.2543 - age_out_loss: 6.0726 - sex_out_accuracy: 0.8856 - age_out_accuracy: 0.0477 - val_loss: 9.1292 - val_sex_out_loss: 0.2521 - val_age_out_loss: 8.2273 - val_sex_out_accuracy: 0.8890 - val_age_out_accuracy: 0.0462\n",
      "\n",
      "Epoch 00024: val_loss did not improve from 8.05166\n",
      "Epoch 25/100\n",
      "278/278 [==============================] - 3s 10ms/step - loss: 6.7767 - sex_out_loss: 0.2492 - age_out_loss: 5.8714 - sex_out_accuracy: 0.8881 - age_out_accuracy: 0.0477 - val_loss: 8.5958 - val_sex_out_loss: 0.2573 - val_age_out_loss: 7.6769 - val_sex_out_accuracy: 0.8844 - val_age_out_accuracy: 0.0462\n",
      "\n",
      "Epoch 00025: val_loss did not improve from 8.05166\n",
      "Epoch 26/100\n",
      "278/278 [==============================] - 3s 10ms/step - loss: 6.7280 - sex_out_loss: 0.2433 - age_out_loss: 5.8155 - sex_out_accuracy: 0.8933 - age_out_accuracy: 0.0477 - val_loss: 9.4252 - val_sex_out_loss: 0.2490 - val_age_out_loss: 8.5014 - val_sex_out_accuracy: 0.8885 - val_age_out_accuracy: 0.0462\n",
      "\n",
      "Epoch 00026: val_loss did not improve from 8.05166\n",
      "Epoch 27/100\n",
      "278/278 [==============================] - 3s 10ms/step - loss: 6.6637 - sex_out_loss: 0.2406 - age_out_loss: 5.7409 - sex_out_accuracy: 0.8928 - age_out_accuracy: 0.0477 - val_loss: 8.8904 - val_sex_out_loss: 0.2614 - val_age_out_loss: 7.9382 - val_sex_out_accuracy: 0.8795 - val_age_out_accuracy: 0.0462\n",
      "\n",
      "Epoch 00027: val_loss did not improve from 8.05166\n",
      "Epoch 28/100\n",
      "278/278 [==============================] - 3s 10ms/step - loss: 6.6847 - sex_out_loss: 0.2439 - age_out_loss: 5.7431 - sex_out_accuracy: 0.8917 - age_out_accuracy: 0.0477 - val_loss: 9.0303 - val_sex_out_loss: 0.2447 - val_age_out_loss: 8.0817 - val_sex_out_accuracy: 0.8934 - val_age_out_accuracy: 0.0462\n",
      "\n",
      "Epoch 00028: val_loss did not improve from 8.05166\n",
      "Epoch 29/100\n",
      "278/278 [==============================] - 3s 10ms/step - loss: 6.6201 - sex_out_loss: 0.2350 - age_out_loss: 5.6757 - sex_out_accuracy: 0.8964 - age_out_accuracy: 0.0477 - val_loss: 8.8949 - val_sex_out_loss: 0.2519 - val_age_out_loss: 7.9286 - val_sex_out_accuracy: 0.8851 - val_age_out_accuracy: 0.0462\n",
      "\n",
      "Epoch 00029: val_loss did not improve from 8.05166\n",
      "Epoch 30/100\n",
      "278/278 [==============================] - 3s 10ms/step - loss: 6.5890 - sex_out_loss: 0.2360 - age_out_loss: 5.6324 - sex_out_accuracy: 0.8957 - age_out_accuracy: 0.0477 - val_loss: 9.5213 - val_sex_out_loss: 0.2424 - val_age_out_loss: 8.5525 - val_sex_out_accuracy: 0.8944 - val_age_out_accuracy: 0.0462\n",
      "\n",
      "Epoch 00030: val_loss did not improve from 8.05166\n",
      "Epoch 31/100\n",
      "278/278 [==============================] - 3s 11ms/step - loss: 6.5216 - sex_out_loss: 0.2324 - age_out_loss: 5.5571 - sex_out_accuracy: 0.8984 - age_out_accuracy: 0.0477 - val_loss: 9.5716 - val_sex_out_loss: 0.2483 - val_age_out_loss: 8.5853 - val_sex_out_accuracy: 0.8900 - val_age_out_accuracy: 0.0462\n",
      "\n",
      "Epoch 00031: val_loss did not improve from 8.05166\n",
      "Epoch 32/100\n",
      "278/278 [==============================] - 3s 10ms/step - loss: 6.4845 - sex_out_loss: 0.2315 - age_out_loss: 5.5082 - sex_out_accuracy: 0.9002 - age_out_accuracy: 0.0477 - val_loss: 8.9679 - val_sex_out_loss: 0.2676 - val_age_out_loss: 7.9497 - val_sex_out_accuracy: 0.8757 - val_age_out_accuracy: 0.0462\n",
      "\n",
      "Epoch 00032: val_loss did not improve from 8.05166\n",
      "Epoch 33/100\n",
      "278/278 [==============================] - 3s 10ms/step - loss: 6.5372 - sex_out_loss: 0.2316 - age_out_loss: 5.5495 - sex_out_accuracy: 0.8987 - age_out_accuracy: 0.0477 - val_loss: 8.7912 - val_sex_out_loss: 0.2545 - val_age_out_loss: 7.7752 - val_sex_out_accuracy: 0.8910 - val_age_out_accuracy: 0.0462\n",
      "\n",
      "Epoch 00033: val_loss did not improve from 8.05166\n",
      "Epoch 34/100\n",
      "278/278 [==============================] - 3s 11ms/step - loss: 6.4595 - sex_out_loss: 0.2319 - age_out_loss: 5.4617 - sex_out_accuracy: 0.8975 - age_out_accuracy: 0.0477 - val_loss: 8.6622 - val_sex_out_loss: 0.2428 - val_age_out_loss: 7.6488 - val_sex_out_accuracy: 0.8917 - val_age_out_accuracy: 0.0462\n",
      "\n",
      "Epoch 00034: val_loss did not improve from 8.05166\n",
      "Epoch 35/100\n",
      "278/278 [==============================] - 3s 11ms/step - loss: 6.3808 - sex_out_loss: 0.2231 - age_out_loss: 5.3819 - sex_out_accuracy: 0.9018 - age_out_accuracy: 0.0477 - val_loss: 9.7320 - val_sex_out_loss: 0.2437 - val_age_out_loss: 8.7073 - val_sex_out_accuracy: 0.8935 - val_age_out_accuracy: 0.0462\n",
      "\n",
      "Epoch 00035: val_loss did not improve from 8.05166\n",
      "Epoch 36/100\n",
      "278/278 [==============================] - 3s 10ms/step - loss: 6.3929 - sex_out_loss: 0.2206 - age_out_loss: 5.3853 - sex_out_accuracy: 0.9018 - age_out_accuracy: 0.0477 - val_loss: 8.8915 - val_sex_out_loss: 0.2484 - val_age_out_loss: 7.8507 - val_sex_out_accuracy: 0.8910 - val_age_out_accuracy: 0.0462\n",
      "\n",
      "Epoch 00036: val_loss did not improve from 8.05166\n",
      "Epoch 37/100\n",
      "278/278 [==============================] - 3s 10ms/step - loss: 6.3596 - sex_out_loss: 0.2205 - age_out_loss: 5.3426 - sex_out_accuracy: 0.9026 - age_out_accuracy: 0.0477 - val_loss: 8.6357 - val_sex_out_loss: 0.2473 - val_age_out_loss: 7.5870 - val_sex_out_accuracy: 0.8898 - val_age_out_accuracy: 0.0462\n",
      "\n",
      "Epoch 00037: val_loss did not improve from 8.05166\n",
      "Epoch 38/100\n",
      "278/278 [==============================] - 3s 10ms/step - loss: 6.3130 - sex_out_loss: 0.2143 - age_out_loss: 5.2916 - sex_out_accuracy: 0.9051 - age_out_accuracy: 0.0477 - val_loss: 9.1413 - val_sex_out_loss: 0.2499 - val_age_out_loss: 8.0790 - val_sex_out_accuracy: 0.8875 - val_age_out_accuracy: 0.0462\n",
      "\n",
      "Epoch 00038: val_loss did not improve from 8.05166\n",
      "Epoch 39/100\n",
      "278/278 [==============================] - 3s 11ms/step - loss: 6.3290 - sex_out_loss: 0.2195 - age_out_loss: 5.2922 - sex_out_accuracy: 0.9057 - age_out_accuracy: 0.0477 - val_loss: 8.6558 - val_sex_out_loss: 0.2543 - val_age_out_loss: 7.5798 - val_sex_out_accuracy: 0.8919 - val_age_out_accuracy: 0.0462\n",
      "\n",
      "Epoch 00039: val_loss did not improve from 8.05166\n",
      "Epoch 40/100\n",
      "278/278 [==============================] - 3s 10ms/step - loss: 6.3627 - sex_out_loss: 0.2156 - age_out_loss: 5.3210 - sex_out_accuracy: 0.9078 - age_out_accuracy: 0.0477 - val_loss: 8.1149 - val_sex_out_loss: 0.2591 - val_age_out_loss: 7.0251 - val_sex_out_accuracy: 0.8851 - val_age_out_accuracy: 0.0462\n",
      "\n",
      "Epoch 00040: val_loss did not improve from 8.05166\n",
      "Epoch 41/100\n",
      "278/278 [==============================] - 3s 10ms/step - loss: 6.2458 - sex_out_loss: 0.2192 - age_out_loss: 5.1915 - sex_out_accuracy: 0.9038 - age_out_accuracy: 0.0477 - val_loss: 7.9920 - val_sex_out_loss: 0.2480 - val_age_out_loss: 6.9043 - val_sex_out_accuracy: 0.8888 - val_age_out_accuracy: 0.0462\n",
      "\n",
      "Epoch 00041: val_loss improved from 8.05166 to 7.99204, saving model to Age_sex_detection.h5\n",
      "Epoch 42/100\n",
      "278/278 [==============================] - 3s 10ms/step - loss: 6.2110 - sex_out_loss: 0.2181 - age_out_loss: 5.1484 - sex_out_accuracy: 0.9043 - age_out_accuracy: 0.0477 - val_loss: 8.3087 - val_sex_out_loss: 0.2567 - val_age_out_loss: 7.2034 - val_sex_out_accuracy: 0.8858 - val_age_out_accuracy: 0.0462\n",
      "\n",
      "Epoch 00042: val_loss did not improve from 7.99204\n",
      "Epoch 43/100\n",
      "278/278 [==============================] - 3s 11ms/step - loss: 6.1397 - sex_out_loss: 0.2128 - age_out_loss: 5.0739 - sex_out_accuracy: 0.9047 - age_out_accuracy: 0.0477 - val_loss: 8.8841 - val_sex_out_loss: 0.2552 - val_age_out_loss: 7.7712 - val_sex_out_accuracy: 0.8868 - val_age_out_accuracy: 0.0462\n",
      "\n",
      "Epoch 00043: val_loss did not improve from 7.99204\n",
      "Epoch 44/100\n",
      "278/278 [==============================] - 3s 10ms/step - loss: 6.1720 - sex_out_loss: 0.2115 - age_out_loss: 5.1005 - sex_out_accuracy: 0.9067 - age_out_accuracy: 0.0477 - val_loss: 8.0432 - val_sex_out_loss: 0.2546 - val_age_out_loss: 6.9261 - val_sex_out_accuracy: 0.8856 - val_age_out_accuracy: 0.0462\n",
      "\n",
      "Epoch 00044: val_loss did not improve from 7.99204\n",
      "Epoch 45/100\n",
      "278/278 [==============================] - 3s 11ms/step - loss: 6.1483 - sex_out_loss: 0.2106 - age_out_loss: 5.0720 - sex_out_accuracy: 0.9054 - age_out_accuracy: 0.0477 - val_loss: 9.4311 - val_sex_out_loss: 0.2416 - val_age_out_loss: 8.3208 - val_sex_out_accuracy: 0.8969 - val_age_out_accuracy: 0.0462\n",
      "\n",
      "Epoch 00045: val_loss did not improve from 7.99204\n",
      "Epoch 46/100\n",
      "278/278 [==============================] - 3s 10ms/step - loss: 6.0834 - sex_out_loss: 0.2102 - age_out_loss: 5.0019 - sex_out_accuracy: 0.9059 - age_out_accuracy: 0.0477 - val_loss: 8.7897 - val_sex_out_loss: 0.2414 - val_age_out_loss: 7.6743 - val_sex_out_accuracy: 0.8972 - val_age_out_accuracy: 0.0462\n",
      "\n",
      "Epoch 00046: val_loss did not improve from 7.99204\n",
      "Epoch 47/100\n",
      "278/278 [==============================] - 3s 11ms/step - loss: 6.1185 - sex_out_loss: 0.2039 - age_out_loss: 5.0370 - sex_out_accuracy: 0.9062 - age_out_accuracy: 0.0476 - val_loss: 8.1811 - val_sex_out_loss: 0.2526 - val_age_out_loss: 7.0470 - val_sex_out_accuracy: 0.8892 - val_age_out_accuracy: 0.0462\n",
      "\n",
      "Epoch 00047: val_loss did not improve from 7.99204\n",
      "Epoch 48/100\n",
      "278/278 [==============================] - 3s 10ms/step - loss: 6.1250 - sex_out_loss: 0.2040 - age_out_loss: 5.0361 - sex_out_accuracy: 0.9107 - age_out_accuracy: 0.0477 - val_loss: 8.3120 - val_sex_out_loss: 0.2420 - val_age_out_loss: 7.1816 - val_sex_out_accuracy: 0.8954 - val_age_out_accuracy: 0.0462\n",
      "\n",
      "Epoch 00048: val_loss did not improve from 7.99204\n",
      "Epoch 49/100\n",
      "278/278 [==============================] - 3s 10ms/step - loss: 6.0959 - sex_out_loss: 0.2067 - age_out_loss: 4.9969 - sex_out_accuracy: 0.9092 - age_out_accuracy: 0.0477 - val_loss: 7.9921 - val_sex_out_loss: 0.2487 - val_age_out_loss: 6.8484 - val_sex_out_accuracy: 0.8881 - val_age_out_accuracy: 0.0462\n",
      "\n",
      "Epoch 00049: val_loss did not improve from 7.99204\n",
      "Epoch 50/100\n",
      "278/278 [==============================] - 3s 11ms/step - loss: 6.0703 - sex_out_loss: 0.2063 - age_out_loss: 4.9661 - sex_out_accuracy: 0.9062 - age_out_accuracy: 0.0476 - val_loss: 8.7644 - val_sex_out_loss: 0.2559 - val_age_out_loss: 7.6067 - val_sex_out_accuracy: 0.8981 - val_age_out_accuracy: 0.0462\n",
      "\n",
      "Epoch 00050: val_loss did not improve from 7.99204\n",
      "Epoch 51/100\n",
      "278/278 [==============================] - 3s 10ms/step - loss: 6.0359 - sex_out_loss: 0.2036 - age_out_loss: 4.9270 - sex_out_accuracy: 0.9086 - age_out_accuracy: 0.0477 - val_loss: 8.8420 - val_sex_out_loss: 0.2683 - val_age_out_loss: 7.6655 - val_sex_out_accuracy: 0.8800 - val_age_out_accuracy: 0.0462\n",
      "\n",
      "Epoch 00051: val_loss did not improve from 7.99204\n",
      "Epoch 52/100\n",
      "278/278 [==============================] - 3s 10ms/step - loss: 6.0253 - sex_out_loss: 0.2025 - age_out_loss: 4.9123 - sex_out_accuracy: 0.9118 - age_out_accuracy: 0.0475 - val_loss: 8.0361 - val_sex_out_loss: 0.2452 - val_age_out_loss: 6.8773 - val_sex_out_accuracy: 0.8925 - val_age_out_accuracy: 0.0462\n",
      "\n",
      "Epoch 00052: val_loss did not improve from 7.99204\n",
      "Epoch 53/100\n",
      "278/278 [==============================] - 3s 10ms/step - loss: 5.9590 - sex_out_loss: 0.2029 - age_out_loss: 4.8397 - sex_out_accuracy: 0.9109 - age_out_accuracy: 0.0473 - val_loss: 8.5064 - val_sex_out_loss: 0.2499 - val_age_out_loss: 7.3357 - val_sex_out_accuracy: 0.8888 - val_age_out_accuracy: 0.0462\n",
      "\n",
      "Epoch 00053: val_loss did not improve from 7.99204\n",
      "Epoch 54/100\n",
      "278/278 [==============================] - 3s 11ms/step - loss: 5.9373 - sex_out_loss: 0.1993 - age_out_loss: 4.8144 - sex_out_accuracy: 0.9126 - age_out_accuracy: 0.0471 - val_loss: 8.9289 - val_sex_out_loss: 0.2523 - val_age_out_loss: 7.7498 - val_sex_out_accuracy: 0.8983 - val_age_out_accuracy: 0.0462\n",
      "\n",
      "Epoch 00054: val_loss did not improve from 7.99204\n",
      "Epoch 55/100\n",
      "278/278 [==============================] - 3s 10ms/step - loss: 5.9983 - sex_out_loss: 0.1999 - age_out_loss: 4.8686 - sex_out_accuracy: 0.9113 - age_out_accuracy: 0.0474 - val_loss: 8.1391 - val_sex_out_loss: 0.2445 - val_age_out_loss: 6.9617 - val_sex_out_accuracy: 0.8929 - val_age_out_accuracy: 0.0462\n",
      "\n",
      "Epoch 00055: val_loss did not improve from 7.99204\n",
      "Epoch 56/100\n",
      "278/278 [==============================] - 3s 11ms/step - loss: 5.9334 - sex_out_loss: 0.1974 - age_out_loss: 4.8014 - sex_out_accuracy: 0.9136 - age_out_accuracy: 0.0476 - val_loss: 8.4021 - val_sex_out_loss: 0.2538 - val_age_out_loss: 7.2108 - val_sex_out_accuracy: 0.8967 - val_age_out_accuracy: 0.0462\n",
      "\n",
      "Epoch 00056: val_loss did not improve from 7.99204\n",
      "Epoch 57/100\n",
      "278/278 [==============================] - 3s 10ms/step - loss: 6.0359 - sex_out_loss: 0.2007 - age_out_loss: 4.8942 - sex_out_accuracy: 0.9143 - age_out_accuracy: 0.0473 - val_loss: 9.2778 - val_sex_out_loss: 0.2538 - val_age_out_loss: 8.0802 - val_sex_out_accuracy: 0.8854 - val_age_out_accuracy: 0.0462\n",
      "\n",
      "Epoch 00057: val_loss did not improve from 7.99204\n",
      "Epoch 58/100\n",
      "278/278 [==============================] - 3s 11ms/step - loss: 5.9349 - sex_out_loss: 0.1971 - age_out_loss: 4.7914 - sex_out_accuracy: 0.9131 - age_out_accuracy: 0.0475 - val_loss: 8.0002 - val_sex_out_loss: 0.2609 - val_age_out_loss: 6.7894 - val_sex_out_accuracy: 0.8946 - val_age_out_accuracy: 0.0462\n",
      "\n",
      "Epoch 00058: val_loss did not improve from 7.99204\n",
      "Epoch 59/100\n",
      "278/278 [==============================] - 3s 10ms/step - loss: 5.9701 - sex_out_loss: 0.1983 - age_out_loss: 4.8191 - sex_out_accuracy: 0.9134 - age_out_accuracy: 0.0469 - val_loss: 8.1264 - val_sex_out_loss: 0.2583 - val_age_out_loss: 6.9122 - val_sex_out_accuracy: 0.8875 - val_age_out_accuracy: 0.0462\n",
      "\n",
      "Epoch 00059: val_loss did not improve from 7.99204\n",
      "Epoch 60/100\n",
      "278/278 [==============================] - 3s 10ms/step - loss: 5.9180 - sex_out_loss: 0.1933 - age_out_loss: 4.7672 - sex_out_accuracy: 0.9175 - age_out_accuracy: 0.0471 - val_loss: 8.6550 - val_sex_out_loss: 0.2554 - val_age_out_loss: 7.4397 - val_sex_out_accuracy: 0.8895 - val_age_out_accuracy: 0.0462\n",
      "\n",
      "Epoch 00060: val_loss did not improve from 7.99204\n",
      "Epoch 61/100\n",
      "278/278 [==============================] - 3s 11ms/step - loss: 5.9504 - sex_out_loss: 0.1964 - age_out_loss: 4.7914 - sex_out_accuracy: 0.9147 - age_out_accuracy: 0.0467 - val_loss: 7.8661 - val_sex_out_loss: 0.2605 - val_age_out_loss: 6.6402 - val_sex_out_accuracy: 0.8915 - val_age_out_accuracy: 0.0462\n",
      "\n",
      "Epoch 00061: val_loss improved from 7.99204 to 7.86609, saving model to Age_sex_detection.h5\n",
      "Epoch 62/100\n",
      "278/278 [==============================] - 3s 11ms/step - loss: 5.9526 - sex_out_loss: 0.1905 - age_out_loss: 4.7949 - sex_out_accuracy: 0.9168 - age_out_accuracy: 0.0464 - val_loss: 8.1992 - val_sex_out_loss: 0.2652 - val_age_out_loss: 6.9632 - val_sex_out_accuracy: 0.8878 - val_age_out_accuracy: 0.0462\n",
      "\n",
      "Epoch 00062: val_loss did not improve from 7.86609\n",
      "Epoch 63/100\n",
      "278/278 [==============================] - 3s 10ms/step - loss: 5.8701 - sex_out_loss: 0.1887 - age_out_loss: 4.7076 - sex_out_accuracy: 0.9177 - age_out_accuracy: 0.0472 - val_loss: 7.8249 - val_sex_out_loss: 0.2569 - val_age_out_loss: 6.5921 - val_sex_out_accuracy: 0.8890 - val_age_out_accuracy: 0.0462\n",
      "\n",
      "Epoch 00063: val_loss improved from 7.86609 to 7.82487, saving model to Age_sex_detection.h5\n",
      "Epoch 64/100\n",
      "278/278 [==============================] - 3s 10ms/step - loss: 5.8338 - sex_out_loss: 0.1861 - age_out_loss: 4.6692 - sex_out_accuracy: 0.9204 - age_out_accuracy: 0.0470 - val_loss: 9.0165 - val_sex_out_loss: 0.2838 - val_age_out_loss: 7.7511 - val_sex_out_accuracy: 0.8816 - val_age_out_accuracy: 0.0462\n",
      "\n",
      "Epoch 00064: val_loss did not improve from 7.82487\n",
      "Epoch 65/100\n",
      "278/278 [==============================] - 3s 10ms/step - loss: 5.8964 - sex_out_loss: 0.1854 - age_out_loss: 4.7281 - sex_out_accuracy: 0.9185 - age_out_accuracy: 0.0466 - val_loss: 8.5461 - val_sex_out_loss: 0.2519 - val_age_out_loss: 7.3101 - val_sex_out_accuracy: 0.8917 - val_age_out_accuracy: 0.0462\n",
      "\n",
      "Epoch 00065: val_loss did not improve from 7.82487\n",
      "Epoch 66/100\n",
      "278/278 [==============================] - 3s 11ms/step - loss: 5.7737 - sex_out_loss: 0.1864 - age_out_loss: 4.6013 - sex_out_accuracy: 0.9199 - age_out_accuracy: 0.0466 - val_loss: 8.5102 - val_sex_out_loss: 0.2619 - val_age_out_loss: 7.2598 - val_sex_out_accuracy: 0.8942 - val_age_out_accuracy: 0.0462\n",
      "\n",
      "Epoch 00066: val_loss did not improve from 7.82487\n",
      "Epoch 67/100\n",
      "278/278 [==============================] - 3s 11ms/step - loss: 5.8358 - sex_out_loss: 0.1837 - age_out_loss: 4.6619 - sex_out_accuracy: 0.9213 - age_out_accuracy: 0.0466 - val_loss: 8.5850 - val_sex_out_loss: 0.2493 - val_age_out_loss: 7.3428 - val_sex_out_accuracy: 0.8940 - val_age_out_accuracy: 0.0462\n",
      "\n",
      "Epoch 00067: val_loss did not improve from 7.82487\n",
      "Epoch 68/100\n",
      "278/278 [==============================] - 3s 10ms/step - loss: 5.8054 - sex_out_loss: 0.1834 - age_out_loss: 4.6271 - sex_out_accuracy: 0.9221 - age_out_accuracy: 0.0464 - val_loss: 7.7564 - val_sex_out_loss: 0.2636 - val_age_out_loss: 6.4959 - val_sex_out_accuracy: 0.8947 - val_age_out_accuracy: 0.0462\n",
      "\n",
      "Epoch 00068: val_loss improved from 7.82487 to 7.75644, saving model to Age_sex_detection.h5\n",
      "Epoch 69/100\n",
      "278/278 [==============================] - 3s 11ms/step - loss: 5.8027 - sex_out_loss: 0.1863 - age_out_loss: 4.6173 - sex_out_accuracy: 0.9188 - age_out_accuracy: 0.0459 - val_loss: 8.0944 - val_sex_out_loss: 0.2682 - val_age_out_loss: 6.8248 - val_sex_out_accuracy: 0.8929 - val_age_out_accuracy: 0.0462\n",
      "\n",
      "Epoch 00069: val_loss did not improve from 7.75644\n",
      "Epoch 70/100\n",
      "278/278 [==============================] - 3s 10ms/step - loss: 5.7882 - sex_out_loss: 0.1844 - age_out_loss: 4.5995 - sex_out_accuracy: 0.9224 - age_out_accuracy: 0.0467 - val_loss: 8.2068 - val_sex_out_loss: 0.2562 - val_age_out_loss: 6.9449 - val_sex_out_accuracy: 0.8865 - val_age_out_accuracy: 0.0462\n",
      "\n",
      "Epoch 00070: val_loss did not improve from 7.75644\n",
      "Epoch 71/100\n",
      "278/278 [==============================] - 3s 10ms/step - loss: 5.8319 - sex_out_loss: 0.1817 - age_out_loss: 4.6434 - sex_out_accuracy: 0.9232 - age_out_accuracy: 0.0463 - val_loss: 7.8035 - val_sex_out_loss: 0.2629 - val_age_out_loss: 6.5313 - val_sex_out_accuracy: 0.8961 - val_age_out_accuracy: 0.0462\n",
      "\n",
      "Epoch 00071: val_loss did not improve from 7.75644\n",
      "Epoch 72/100\n",
      "278/278 [==============================] - 3s 11ms/step - loss: 5.7488 - sex_out_loss: 0.1751 - age_out_loss: 4.5624 - sex_out_accuracy: 0.9241 - age_out_accuracy: 0.0461 - val_loss: 8.4182 - val_sex_out_loss: 0.2678 - val_age_out_loss: 7.1370 - val_sex_out_accuracy: 0.9016 - val_age_out_accuracy: 0.0462\n",
      "\n",
      "Epoch 00072: val_loss did not improve from 7.75644\n",
      "Epoch 73/100\n",
      "278/278 [==============================] - 3s 11ms/step - loss: 5.8162 - sex_out_loss: 0.1816 - age_out_loss: 4.6193 - sex_out_accuracy: 0.9240 - age_out_accuracy: 0.0460 - val_loss: 7.8802 - val_sex_out_loss: 0.2695 - val_age_out_loss: 6.5935 - val_sex_out_accuracy: 0.8956 - val_age_out_accuracy: 0.0462\n",
      "\n",
      "Epoch 00073: val_loss did not improve from 7.75644\n",
      "Epoch 74/100\n",
      "278/278 [==============================] - 3s 10ms/step - loss: 5.7866 - sex_out_loss: 0.1750 - age_out_loss: 4.5930 - sex_out_accuracy: 0.9255 - age_out_accuracy: 0.0463 - val_loss: 8.0871 - val_sex_out_loss: 0.2750 - val_age_out_loss: 6.7917 - val_sex_out_accuracy: 0.8907 - val_age_out_accuracy: 0.0462\n",
      "\n",
      "Epoch 00074: val_loss did not improve from 7.75644\n",
      "Epoch 75/100\n",
      "278/278 [==============================] - 3s 10ms/step - loss: 5.7675 - sex_out_loss: 0.1844 - age_out_loss: 4.5613 - sex_out_accuracy: 0.9197 - age_out_accuracy: 0.0462 - val_loss: 8.2181 - val_sex_out_loss: 0.2533 - val_age_out_loss: 6.9418 - val_sex_out_accuracy: 0.8969 - val_age_out_accuracy: 0.0462\n",
      "\n",
      "Epoch 00075: val_loss did not improve from 7.75644\n",
      "Epoch 76/100\n",
      "278/278 [==============================] - 3s 10ms/step - loss: 5.7078 - sex_out_loss: 0.1795 - age_out_loss: 4.5045 - sex_out_accuracy: 0.9222 - age_out_accuracy: 0.0458 - val_loss: 7.8940 - val_sex_out_loss: 0.2622 - val_age_out_loss: 6.6069 - val_sex_out_accuracy: 0.8927 - val_age_out_accuracy: 0.0462\n",
      "\n",
      "Epoch 00076: val_loss did not improve from 7.75644\n",
      "Epoch 77/100\n",
      "278/278 [==============================] - 3s 10ms/step - loss: 5.7093 - sex_out_loss: 0.1740 - age_out_loss: 4.5086 - sex_out_accuracy: 0.9248 - age_out_accuracy: 0.0459 - val_loss: 8.0900 - val_sex_out_loss: 0.2581 - val_age_out_loss: 6.8043 - val_sex_out_accuracy: 0.8934 - val_age_out_accuracy: 0.0462\n",
      "\n",
      "Epoch 00077: val_loss did not improve from 7.75644\n",
      "Epoch 78/100\n",
      "278/278 [==============================] - 3s 11ms/step - loss: 5.7995 - sex_out_loss: 0.1774 - age_out_loss: 4.5933 - sex_out_accuracy: 0.9228 - age_out_accuracy: 0.0456 - val_loss: 8.0802 - val_sex_out_loss: 0.2586 - val_age_out_loss: 6.7911 - val_sex_out_accuracy: 0.8972 - val_age_out_accuracy: 0.0461\n",
      "\n",
      "Epoch 00078: val_loss did not improve from 7.75644\n",
      "Epoch 79/100\n",
      "278/278 [==============================] - 3s 10ms/step - loss: 5.7293 - sex_out_loss: 0.1832 - age_out_loss: 4.5145 - sex_out_accuracy: 0.9210 - age_out_accuracy: 0.0451 - val_loss: 8.2605 - val_sex_out_loss: 0.2618 - val_age_out_loss: 6.9659 - val_sex_out_accuracy: 0.8900 - val_age_out_accuracy: 0.0462\n",
      "\n",
      "Epoch 00079: val_loss did not improve from 7.75644\n",
      "Epoch 80/100\n",
      "278/278 [==============================] - 3s 10ms/step - loss: 5.7700 - sex_out_loss: 0.1722 - age_out_loss: 4.5622 - sex_out_accuracy: 0.9263 - age_out_accuracy: 0.0450 - val_loss: 8.2674 - val_sex_out_loss: 0.2595 - val_age_out_loss: 6.9704 - val_sex_out_accuracy: 0.8961 - val_age_out_accuracy: 0.0462\n",
      "\n",
      "Epoch 00080: val_loss did not improve from 7.75644\n",
      "Epoch 81/100\n",
      "278/278 [==============================] - 3s 11ms/step - loss: 5.7190 - sex_out_loss: 0.1723 - age_out_loss: 4.5082 - sex_out_accuracy: 0.9277 - age_out_accuracy: 0.0458 - val_loss: 8.4496 - val_sex_out_loss: 0.2624 - val_age_out_loss: 7.1476 - val_sex_out_accuracy: 0.8913 - val_age_out_accuracy: 0.0462\n",
      "\n",
      "Epoch 00081: val_loss did not improve from 7.75644\n",
      "Epoch 82/100\n",
      "278/278 [==============================] - 3s 10ms/step - loss: 5.6538 - sex_out_loss: 0.1721 - age_out_loss: 4.4411 - sex_out_accuracy: 0.9244 - age_out_accuracy: 0.0455 - val_loss: 7.8116 - val_sex_out_loss: 0.2578 - val_age_out_loss: 6.5114 - val_sex_out_accuracy: 0.8959 - val_age_out_accuracy: 0.0462\n",
      "\n",
      "Epoch 00082: val_loss did not improve from 7.75644\n",
      "Epoch 83/100\n",
      "278/278 [==============================] - 3s 11ms/step - loss: 5.6936 - sex_out_loss: 0.1730 - age_out_loss: 4.4774 - sex_out_accuracy: 0.9261 - age_out_accuracy: 0.0452 - val_loss: 7.8864 - val_sex_out_loss: 0.2780 - val_age_out_loss: 6.5632 - val_sex_out_accuracy: 0.8907 - val_age_out_accuracy: 0.0462\n",
      "\n",
      "Epoch 00083: val_loss did not improve from 7.75644\n",
      "Epoch 84/100\n",
      "278/278 [==============================] - 3s 10ms/step - loss: 5.7205 - sex_out_loss: 0.1717 - age_out_loss: 4.5037 - sex_out_accuracy: 0.9251 - age_out_accuracy: 0.0457 - val_loss: 8.6832 - val_sex_out_loss: 0.2761 - val_age_out_loss: 7.3616 - val_sex_out_accuracy: 0.8925 - val_age_out_accuracy: 0.0462\n",
      "\n",
      "Epoch 00084: val_loss did not improve from 7.75644\n",
      "Epoch 85/100\n",
      "278/278 [==============================] - 3s 11ms/step - loss: 5.6741 - sex_out_loss: 0.1719 - age_out_loss: 4.4560 - sex_out_accuracy: 0.9262 - age_out_accuracy: 0.0457 - val_loss: 8.6720 - val_sex_out_loss: 0.2698 - val_age_out_loss: 7.3550 - val_sex_out_accuracy: 0.8922 - val_age_out_accuracy: 0.0462\n",
      "\n",
      "Epoch 00085: val_loss did not improve from 7.75644\n",
      "Epoch 86/100\n",
      "278/278 [==============================] - 3s 10ms/step - loss: 5.6639 - sex_out_loss: 0.1673 - age_out_loss: 4.4494 - sex_out_accuracy: 0.9275 - age_out_accuracy: 0.0458 - val_loss: 7.9724 - val_sex_out_loss: 0.2869 - val_age_out_loss: 6.6379 - val_sex_out_accuracy: 0.8908 - val_age_out_accuracy: 0.0462\n",
      "\n",
      "Epoch 00086: val_loss did not improve from 7.75644\n",
      "Epoch 87/100\n",
      "278/278 [==============================] - 3s 10ms/step - loss: 5.7261 - sex_out_loss: 0.1685 - age_out_loss: 4.5083 - sex_out_accuracy: 0.9264 - age_out_accuracy: 0.0446 - val_loss: 8.2275 - val_sex_out_loss: 0.2692 - val_age_out_loss: 6.9078 - val_sex_out_accuracy: 0.8924 - val_age_out_accuracy: 0.0462\n",
      "\n",
      "Epoch 00087: val_loss did not improve from 7.75644\n",
      "Epoch 88/100\n",
      "278/278 [==============================] - 3s 10ms/step - loss: 5.7100 - sex_out_loss: 0.1717 - age_out_loss: 4.4854 - sex_out_accuracy: 0.9276 - age_out_accuracy: 0.0443 - val_loss: 7.9421 - val_sex_out_loss: 0.2623 - val_age_out_loss: 6.6252 - val_sex_out_accuracy: 0.8912 - val_age_out_accuracy: 0.0462\n",
      "\n",
      "Epoch 00088: val_loss did not improve from 7.75644\n",
      "Epoch 89/100\n",
      "278/278 [==============================] - 3s 12ms/step - loss: 5.6728 - sex_out_loss: 0.1728 - age_out_loss: 4.4438 - sex_out_accuracy: 0.9259 - age_out_accuracy: 0.0457 - val_loss: 8.6003 - val_sex_out_loss: 0.2528 - val_age_out_loss: 7.2910 - val_sex_out_accuracy: 0.8944 - val_age_out_accuracy: 0.0462\n",
      "\n",
      "Epoch 00089: val_loss did not improve from 7.75644\n",
      "Epoch 90/100\n",
      "278/278 [==============================] - 3s 10ms/step - loss: 5.6840 - sex_out_loss: 0.1709 - age_out_loss: 4.4561 - sex_out_accuracy: 0.9266 - age_out_accuracy: 0.0444 - val_loss: 8.4177 - val_sex_out_loss: 0.2595 - val_age_out_loss: 7.1006 - val_sex_out_accuracy: 0.9016 - val_age_out_accuracy: 0.0462\n",
      "\n",
      "Epoch 00090: val_loss did not improve from 7.75644\n",
      "Epoch 91/100\n",
      "278/278 [==============================] - 3s 10ms/step - loss: 5.6470 - sex_out_loss: 0.1713 - age_out_loss: 4.4170 - sex_out_accuracy: 0.9267 - age_out_accuracy: 0.0447 - val_loss: 8.2098 - val_sex_out_loss: 0.2594 - val_age_out_loss: 6.8898 - val_sex_out_accuracy: 0.8927 - val_age_out_accuracy: 0.0462\n",
      "\n",
      "Epoch 00091: val_loss did not improve from 7.75644\n",
      "Epoch 92/100\n",
      "278/278 [==============================] - 3s 10ms/step - loss: 5.7104 - sex_out_loss: 0.1622 - age_out_loss: 4.4869 - sex_out_accuracy: 0.9309 - age_out_accuracy: 0.0454 - val_loss: 8.2253 - val_sex_out_loss: 0.2542 - val_age_out_loss: 6.9080 - val_sex_out_accuracy: 0.8959 - val_age_out_accuracy: 0.0462\n",
      "\n",
      "Epoch 00092: val_loss did not improve from 7.75644\n",
      "Epoch 93/100\n",
      "278/278 [==============================] - 3s 10ms/step - loss: 5.6196 - sex_out_loss: 0.1652 - age_out_loss: 4.3899 - sex_out_accuracy: 0.9321 - age_out_accuracy: 0.0450 - val_loss: 7.8789 - val_sex_out_loss: 0.2628 - val_age_out_loss: 6.5500 - val_sex_out_accuracy: 0.8940 - val_age_out_accuracy: 0.0462\n",
      "\n",
      "Epoch 00093: val_loss did not improve from 7.75644\n",
      "Epoch 94/100\n",
      "278/278 [==============================] - 3s 11ms/step - loss: 5.6368 - sex_out_loss: 0.1688 - age_out_loss: 4.3994 - sex_out_accuracy: 0.9295 - age_out_accuracy: 0.0450 - val_loss: 8.2376 - val_sex_out_loss: 0.2615 - val_age_out_loss: 6.9064 - val_sex_out_accuracy: 0.8957 - val_age_out_accuracy: 0.0462\n",
      "\n",
      "Epoch 00094: val_loss did not improve from 7.75644\n",
      "Epoch 95/100\n",
      "278/278 [==============================] - 3s 10ms/step - loss: 5.6512 - sex_out_loss: 0.1620 - age_out_loss: 4.4185 - sex_out_accuracy: 0.9302 - age_out_accuracy: 0.0445 - val_loss: 9.1516 - val_sex_out_loss: 0.2536 - val_age_out_loss: 7.8265 - val_sex_out_accuracy: 0.8934 - val_age_out_accuracy: 0.0462\n",
      "\n",
      "Epoch 00095: val_loss did not improve from 7.75644\n",
      "Epoch 96/100\n",
      "278/278 [==============================] - 3s 10ms/step - loss: 5.5823 - sex_out_loss: 0.1609 - age_out_loss: 4.3499 - sex_out_accuracy: 0.9317 - age_out_accuracy: 0.0440 - val_loss: 8.3382 - val_sex_out_loss: 0.2647 - val_age_out_loss: 7.0028 - val_sex_out_accuracy: 0.8957 - val_age_out_accuracy: 0.0462\n",
      "\n",
      "Epoch 00096: val_loss did not improve from 7.75644\n",
      "Epoch 97/100\n",
      "278/278 [==============================] - 3s 10ms/step - loss: 5.6078 - sex_out_loss: 0.1591 - age_out_loss: 4.3776 - sex_out_accuracy: 0.9336 - age_out_accuracy: 0.0440 - val_loss: 7.9187 - val_sex_out_loss: 0.2556 - val_age_out_loss: 6.5910 - val_sex_out_accuracy: 0.8956 - val_age_out_accuracy: 0.0461\n",
      "\n",
      "Epoch 00097: val_loss did not improve from 7.75644\n",
      "Epoch 98/100\n",
      "278/278 [==============================] - 3s 10ms/step - loss: 5.6003 - sex_out_loss: 0.1593 - age_out_loss: 4.3677 - sex_out_accuracy: 0.9346 - age_out_accuracy: 0.0444 - val_loss: 8.2294 - val_sex_out_loss: 0.2661 - val_age_out_loss: 6.8883 - val_sex_out_accuracy: 0.8915 - val_age_out_accuracy: 0.0462\n",
      "\n",
      "Epoch 00098: val_loss did not improve from 7.75644\n",
      "Epoch 99/100\n",
      "278/278 [==============================] - 3s 10ms/step - loss: 5.6125 - sex_out_loss: 0.1621 - age_out_loss: 4.3743 - sex_out_accuracy: 0.9323 - age_out_accuracy: 0.0445 - val_loss: 8.1456 - val_sex_out_loss: 0.2641 - val_age_out_loss: 6.8032 - val_sex_out_accuracy: 0.8937 - val_age_out_accuracy: 0.0461\n",
      "\n",
      "Epoch 00099: val_loss did not improve from 7.75644\n",
      "Epoch 100/100\n",
      "278/278 [==============================] - 3s 12ms/step - loss: 5.5665 - sex_out_loss: 0.1576 - age_out_loss: 4.3301 - sex_out_accuracy: 0.9335 - age_out_accuracy: 0.0445 - val_loss: 8.3685 - val_sex_out_loss: 0.2881 - val_age_out_loss: 7.0007 - val_sex_out_accuracy: 0.8905 - val_age_out_accuracy: 0.0461\n",
      "\n",
      "Epoch 00100: val_loss did not improve from 7.75644\n"
     ]
    }
   ],
   "source": [
    "History=Model.fit(X_train,Y_train_2,batch_size=64,validation_data=(X_test,Y_test_2),epochs=100,callbacks=[callback_list])"
   ]
  },
  {
   "attachments": {},
   "cell_type": "markdown",
   "id": "86f49505",
   "metadata": {
    "id": "4GTxXMmZMoIG",
    "papermill": {
     "duration": 1.307993,
     "end_time": "2021-10-31T02:40:24.041969",
     "exception": false,
     "start_time": "2021-10-31T02:40:22.733976",
     "status": "completed"
    },
    "tags": []
   },
   "source": [
    "### Evaluation"
   ]
  },
  {
   "cell_type": "code",
   "execution_count": 29,
   "id": "041caafc",
   "metadata": {
    "execution": {
     "iopub.execute_input": "2021-10-31T02:40:26.708143Z",
     "iopub.status.busy": "2021-10-31T02:40:26.706989Z",
     "iopub.status.idle": "2021-10-31T02:40:28.445878Z",
     "shell.execute_reply": "2021-10-31T02:40:28.446361Z",
     "shell.execute_reply.started": "2021-10-31T02:29:49.150783Z"
    },
    "id": "039DUHa3HqrK",
    "outputId": "06865cb7-e9a3-4f36-f8e1-4b291edcb3cc",
    "papermill": {
     "duration": 3.065965,
     "end_time": "2021-10-31T02:40:28.446514",
     "exception": false,
     "start_time": "2021-10-31T02:40:25.380549",
     "status": "completed"
    },
    "tags": []
   },
   "outputs": [
    {
     "name": "stdout",
     "output_type": "stream",
     "text": [
      "186/186 [==============================] - 16s 76ms/step - loss: 5.4499 - sex_out_loss: 0.1632 - age_out_loss: 4.2898 - sex_out_accuracy: 0.9327 - age_out_accuracy: 0.0467\n"
     ]
    },
    {
     "data": {
      "text/plain": [
       "[5.44992208480835,\n",
       " 0.16318996250629425,\n",
       " 4.28981351852417,\n",
       " 0.9326809644699097,\n",
       " 0.04673527926206589]"
      ]
     },
     "execution_count": 29,
     "metadata": {},
     "output_type": "execute_result"
    }
   ],
   "source": [
    "from tensorflow.keras.models import Model, load_model\n",
    "\n",
    "Model = load_model('Age_sex_detection.h5')\n",
    "Model.evaluate(X_test,Y_test_2)"
   ]
  },
  {
   "cell_type": "code",
   "execution_count": 30,
   "id": "f48f77ba",
   "metadata": {
    "execution": {
     "iopub.execute_input": "2021-10-31T02:40:31.129285Z",
     "iopub.status.busy": "2021-10-31T02:40:31.128073Z",
     "iopub.status.idle": "2021-10-31T02:40:32.220175Z",
     "shell.execute_reply": "2021-10-31T02:40:32.219083Z",
     "shell.execute_reply.started": "2021-10-31T02:29:56.275733Z"
    },
    "id": "YuvpiE1wMHh1",
    "papermill": {
     "duration": 2.457216,
     "end_time": "2021-10-31T02:40:32.220337",
     "exception": false,
     "start_time": "2021-10-31T02:40:29.763121",
     "status": "completed"
    },
    "tags": []
   },
   "outputs": [
    {
     "name": "stdout",
     "output_type": "stream",
     "text": [
      "186/186 [==============================] - 14s 75ms/step\n"
     ]
    }
   ],
   "source": [
    "pred=Model.predict(X_test)"
   ]
  },
  {
   "cell_type": "code",
   "execution_count": 31,
   "id": "f02e3d61",
   "metadata": {
    "execution": {
     "iopub.execute_input": "2021-10-31T02:40:34.868951Z",
     "iopub.status.busy": "2021-10-31T02:40:34.867009Z",
     "iopub.status.idle": "2021-10-31T02:40:34.871290Z",
     "shell.execute_reply": "2021-10-31T02:40:34.870724Z",
     "shell.execute_reply.started": "2021-10-31T02:29:57.126520Z"
    },
    "id": "MxGHD2z3MSVg",
    "outputId": "6fc49b3a-9a65-4cde-aa07-74a7b26f1ba1",
    "papermill": {
     "duration": 1.333366,
     "end_time": "2021-10-31T02:40:34.871431",
     "exception": false,
     "start_time": "2021-10-31T02:40:33.538065",
     "status": "completed"
    },
    "tags": []
   },
   "outputs": [
    {
     "data": {
      "text/plain": [
       "array([[33.000305],\n",
       "       [22.866644],\n",
       "       [45.904503],\n",
       "       ...,\n",
       "       [38.312866],\n",
       "       [48.600952],\n",
       "       [19.70659 ]], dtype=float32)"
      ]
     },
     "execution_count": 31,
     "metadata": {},
     "output_type": "execute_result"
    }
   ],
   "source": [
    "pred[1]"
   ]
  },
  {
   "cell_type": "code",
   "execution_count": 40,
   "id": "56ebe1d0",
   "metadata": {
    "execution": {
     "iopub.execute_input": "2021-10-31T02:40:37.613666Z",
     "iopub.status.busy": "2021-10-31T02:40:37.610926Z",
     "iopub.status.idle": "2021-10-31T02:40:37.830445Z",
     "shell.execute_reply": "2021-10-31T02:40:37.829955Z",
     "shell.execute_reply.started": "2021-10-31T02:29:57.420792Z"
    },
    "id": "h1JH3UesNbWl",
    "outputId": "0857b6e5-7c66-415f-a2aa-9a5ad99ab620",
    "papermill": {
     "duration": 1.618339,
     "end_time": "2021-10-31T02:40:37.830585",
     "exception": false,
     "start_time": "2021-10-31T02:40:36.212246",
     "status": "completed"
    },
    "tags": []
   },
   "outputs": [
    {
     "ename": "NameError",
     "evalue": "name 'History' is not defined",
     "output_type": "error",
     "traceback": [
      "\u001b[1;31m---------------------------------------------------------------------------\u001b[0m",
      "\u001b[1;31mNameError\u001b[0m                                 Traceback (most recent call last)",
      "\u001b[1;32md:\\UH_Computer Science\\4to\\ML\\age-sex-detection-tensorflow.ipynb Cell 39\u001b[0m in \u001b[0;36m1\n\u001b[1;32m----> <a href='vscode-notebook-cell:/d%3A/UH_Computer%20Science/4to/ML/age-sex-detection-tensorflow.ipynb#X52sZmlsZQ%3D%3D?line=0'>1</a>\u001b[0m plt\u001b[39m.\u001b[39mplot(History\u001b[39m.\u001b[39mhistory[\u001b[39m'\u001b[39m\u001b[39mloss\u001b[39m\u001b[39m'\u001b[39m])\n\u001b[0;32m      <a href='vscode-notebook-cell:/d%3A/UH_Computer%20Science/4to/ML/age-sex-detection-tensorflow.ipynb#X52sZmlsZQ%3D%3D?line=1'>2</a>\u001b[0m plt\u001b[39m.\u001b[39mplot(History\u001b[39m.\u001b[39mhistory[\u001b[39m'\u001b[39m\u001b[39mval_loss\u001b[39m\u001b[39m'\u001b[39m])\n\u001b[0;32m      <a href='vscode-notebook-cell:/d%3A/UH_Computer%20Science/4to/ML/age-sex-detection-tensorflow.ipynb#X52sZmlsZQ%3D%3D?line=2'>3</a>\u001b[0m plt\u001b[39m.\u001b[39mtitle(\u001b[39m'\u001b[39m\u001b[39mModel loss\u001b[39m\u001b[39m'\u001b[39m)\n",
      "\u001b[1;31mNameError\u001b[0m: name 'History' is not defined"
     ]
    }
   ],
   "source": [
    "plt.plot(History.history['loss'])\n",
    "plt.plot(History.history['val_loss'])\n",
    "plt.title('Model loss')\n",
    "plt.ylabel('Loss')\n",
    "plt.xlabel('Epoch')\n",
    "plt.legend(['Train', 'Validation'], loc='upper left')\n",
    "plt.subplots_adjust(top=1.00, bottom=0.0, left=0.0, right=0.95, hspace=0.25,\n",
    "                        wspace=0.35)"
   ]
  },
  {
   "attachments": {},
   "cell_type": "markdown",
   "id": "134678b9",
   "metadata": {
    "id": "vLLBBZ85N2hX",
    "papermill": {
     "duration": 1.333388,
     "end_time": "2021-10-31T02:40:40.776762",
     "exception": false,
     "start_time": "2021-10-31T02:40:39.443374",
     "status": "completed"
    },
    "tags": []
   },
   "source": [
    "### For Gender"
   ]
  },
  {
   "cell_type": "code",
   "execution_count": 34,
   "id": "048c42ef",
   "metadata": {
    "execution": {
     "iopub.execute_input": "2021-10-31T02:40:43.493249Z",
     "iopub.status.busy": "2021-10-31T02:40:43.491515Z",
     "iopub.status.idle": "2021-10-31T02:40:43.705330Z",
     "shell.execute_reply": "2021-10-31T02:40:43.704872Z",
     "shell.execute_reply.started": "2021-10-31T02:30:00.037970Z"
    },
    "id": "jtHjuedANlXJ",
    "outputId": "b51f9738-24ef-472e-907e-8d7def35d9a9",
    "papermill": {
     "duration": 1.582039,
     "end_time": "2021-10-31T02:40:43.705458",
     "exception": false,
     "start_time": "2021-10-31T02:40:42.123419",
     "status": "completed"
    },
    "tags": []
   },
   "outputs": [
    {
     "data": {
      "image/png": "[encoded data removed]",
      "text/plain": [
       "<Figure size 432x288 with 1 Axes>"
      ]
     },
     "metadata": {
      "needs_background": "light"
     },
     "output_type": "display_data"
    }
   ],
   "source": [
    "plt.plot(History.history['sex_out_accuracy'])\n",
    "plt.plot(History.history['val_sex_out_accuracy'])\n",
    "plt.title('Model accuracy')\n",
    "plt.ylabel('Accuracy')\n",
    "plt.xlabel('Epoch')\n",
    "plt.legend(['Train', 'Validation'], loc='upper left')\n",
    "plt.subplots_adjust(top=1.00, bottom=0.0, left=0.0, right=0.95, hspace=0.25,\n",
    "                        wspace=0.35)"
   ]
  },
  {
   "attachments": {},
   "cell_type": "markdown",
   "id": "acdf4930",
   "metadata": {
    "id": "fw_q7kswNSHB",
    "papermill": {
     "duration": 1.386415,
     "end_time": "2021-10-31T02:40:46.429168",
     "exception": false,
     "start_time": "2021-10-31T02:40:45.042753",
     "status": "completed"
    },
    "tags": []
   },
   "source": [
    "### For age"
   ]
  },
  {
   "cell_type": "code",
   "execution_count": 32,
   "id": "62cc37d3",
   "metadata": {
    "execution": {
     "iopub.execute_input": "2021-10-31T02:40:49.197435Z",
     "iopub.status.busy": "2021-10-31T02:40:49.196447Z",
     "iopub.status.idle": "2021-10-31T02:40:49.542503Z",
     "shell.execute_reply": "2021-10-31T02:40:49.543529Z",
     "shell.execute_reply.started": "2021-10-31T02:30:02.527123Z"
    },
    "id": "-pEsL-KEMsJ2",
    "outputId": "797727c8-fd85-4c5b-99e1-834127f92eb5",
    "papermill": {
     "duration": 1.737727,
     "end_time": "2021-10-31T02:40:49.543734",
     "exception": false,
     "start_time": "2021-10-31T02:40:47.806007",
     "status": "completed"
    },
    "tags": []
   },
   "outputs": [
    {
     "data": {
      "image/png": "[encoded data removed]",
      "text/plain": [
       "<Figure size 640x480 with 1 Axes>"
      ]
     },
     "metadata": {},
     "output_type": "display_data"
    }
   ],
   "source": [
    "fig, ax = plt.subplots()\n",
    "ax.scatter(Y_test_2[1], pred[1])\n",
    "ax.plot([Y_test_2[1].min(),Y_test_2[1].max()], [Y_test_2[1].min(), Y_test_2[1].max()], 'k--', lw=4)\n",
    "ax.set_xlabel('Actual Age')\n",
    "ax.set_ylabel('Predicted Age')\n",
    "plt.show()"
   ]
  },
  {
   "attachments": {},
   "cell_type": "markdown",
   "id": "ede535ed",
   "metadata": {
    "id": "UkP6tH4INWVu",
    "papermill": {
     "duration": 1.318724,
     "end_time": "2021-10-31T02:40:52.298336",
     "exception": false,
     "start_time": "2021-10-31T02:40:50.979612",
     "status": "completed"
    },
    "tags": []
   },
   "source": [
    "#### For Gender"
   ]
  },
  {
   "cell_type": "code",
   "execution_count": 33,
   "id": "7efc6be3",
   "metadata": {
    "execution": {
     "iopub.execute_input": "2021-10-31T02:40:55.021454Z",
     "iopub.status.busy": "2021-10-31T02:40:55.019643Z",
     "iopub.status.idle": "2021-10-31T02:40:55.022048Z",
     "shell.execute_reply": "2021-10-31T02:40:55.022495Z",
     "shell.execute_reply.started": "2021-10-31T02:30:03.938779Z"
    },
    "id": "cNqvx_y5NNsD",
    "papermill": {
     "duration": 1.3591,
     "end_time": "2021-10-31T02:40:55.022646",
     "exception": false,
     "start_time": "2021-10-31T02:40:53.663546",
     "status": "completed"
    },
    "tags": []
   },
   "outputs": [],
   "source": [
    "i=0\n",
    "Pred_l=[]\n",
    "while(i<len(pred[0])):\n",
    "\n",
    "  Pred_l.append(int(np.round(pred[0][i])))\n",
    "  i+=1\n"
   ]
  },
  {
   "cell_type": "code",
   "execution_count": 34,
   "id": "1354e8e0",
   "metadata": {
    "execution": {
     "iopub.execute_input": "2021-10-31T02:40:57.692825Z",
     "iopub.status.busy": "2021-10-31T02:40:57.691913Z",
     "iopub.status.idle": "2021-10-31T02:40:57.694164Z",
     "shell.execute_reply": "2021-10-31T02:40:57.694651Z",
     "shell.execute_reply.started": "2021-10-31T02:30:04.413453Z"
    },
    "id": "_V3vuxZsPCTW",
    "papermill": {
     "duration": 1.33577,
     "end_time": "2021-10-31T02:40:57.694839",
     "exception": false,
     "start_time": "2021-10-31T02:40:56.359069",
     "status": "completed"
    },
    "tags": []
   },
   "outputs": [],
   "source": [
    "from sklearn.metrics import confusion_matrix \n",
    "\n",
    "from sklearn.metrics import classification_report "
   ]
  },
  {
   "cell_type": "code",
   "execution_count": 35,
   "id": "e7be3b6a",
   "metadata": {
    "execution": {
     "iopub.execute_input": "2021-10-31T02:41:01.139824Z",
     "iopub.status.busy": "2021-10-31T02:41:01.139259Z",
     "iopub.status.idle": "2021-10-31T02:41:01.155015Z",
     "shell.execute_reply": "2021-10-31T02:41:01.154528Z",
     "shell.execute_reply.started": "2021-10-31T02:30:04.919815Z"
    },
    "id": "xDIumUnTO8L8",
    "papermill": {
     "duration": 1.930693,
     "end_time": "2021-10-31T02:41:01.155133",
     "exception": false,
     "start_time": "2021-10-31T02:40:59.224440",
     "status": "completed"
    },
    "tags": []
   },
   "outputs": [],
   "source": [
    "\n",
    "report=classification_report(Y_test_2[0], Pred_l)"
   ]
  },
  {
   "cell_type": "code",
   "execution_count": 36,
   "id": "bb122237",
   "metadata": {
    "execution": {
     "iopub.execute_input": "2021-10-31T02:41:03.831041Z",
     "iopub.status.busy": "2021-10-31T02:41:03.829426Z",
     "iopub.status.idle": "2021-10-31T02:41:03.833311Z",
     "shell.execute_reply": "2021-10-31T02:41:03.832839Z",
     "shell.execute_reply.started": "2021-10-31T02:30:05.393479Z"
    },
    "id": "jZEel7nVPfSM",
    "outputId": "417c40c3-0634-443a-8e0b-d4589f8d74d2",
    "papermill": {
     "duration": 1.344148,
     "end_time": "2021-10-31T02:41:03.833424",
     "exception": false,
     "start_time": "2021-10-31T02:41:02.489276",
     "status": "completed"
    },
    "tags": []
   },
   "outputs": [
    {
     "name": "stdout",
     "output_type": "stream",
     "text": [
      "              precision    recall  f1-score   support\n",
      "\n",
      "           0       0.93      0.94      0.94      3117\n",
      "           1       0.93      0.92      0.93      2810\n",
      "\n",
      "    accuracy                           0.93      5927\n",
      "   macro avg       0.93      0.93      0.93      5927\n",
      "weighted avg       0.93      0.93      0.93      5927\n",
      "\n"
     ]
    }
   ],
   "source": [
    "print(report)"
   ]
  },
  {
   "cell_type": "code",
   "execution_count": 43,
   "id": "13646d0e",
   "metadata": {},
   "outputs": [],
   "source": [
    "from metrics import* "
   ]
  },
  {
   "cell_type": "code",
   "execution_count": 47,
   "id": "c7ee1dc5",
   "metadata": {
    "execution": {
     "iopub.execute_input": "2021-10-31T02:41:06.587380Z",
     "iopub.status.busy": "2021-10-31T02:41:06.586618Z",
     "iopub.status.idle": "2021-10-31T02:41:06.600253Z",
     "shell.execute_reply": "2021-10-31T02:41:06.600643Z",
     "shell.execute_reply.started": "2021-10-31T02:30:05.822668Z"
    },
    "id": "UD15IsW0QDIL",
    "papermill": {
     "duration": 1.429939,
     "end_time": "2021-10-31T02:41:06.600779",
     "exception": false,
     "start_time": "2021-10-31T02:41:05.170840",
     "status": "completed"
    },
    "tags": []
   },
   "outputs": [
    {
     "data": {
      "text/plain": [
       "0.9322457377006133"
      ]
     },
     "execution_count": 47,
     "metadata": {},
     "output_type": "execute_result"
    }
   ],
   "source": [
    "\n",
    "results = macro_accuracy(Y_test_2[0], Pred_l)\n",
    "results\n"
   ]
  },
  {
   "cell_type": "code",
   "execution_count": 50,
   "id": "a2ce9209",
   "metadata": {},
   "outputs": [
    {
     "data": {
      "text/plain": [
       "0.932463909159451"
      ]
     },
     "execution_count": 50,
     "metadata": {},
     "output_type": "execute_result"
    }
   ],
   "source": [
    "macro_f1(Y_test_2[0], Pred_l,[0,1])"
   ]
  },
  {
   "cell_type": "code",
   "execution_count": 51,
   "id": "f75e473e",
   "metadata": {},
   "outputs": [
    {
     "data": {
      "image/png": "[encoded data removed]",
      "text/plain": [
       "<Figure size 640x480 with 2 Axes>"
      ]
     },
     "metadata": {},
     "output_type": "display_data"
    },
    {
     "data": {
      "text/plain": [
       "array([[0.94064806, 0.05935194],\n",
       "       [0.07615658, 0.92384342]])"
      ]
     },
     "execution_count": 51,
     "metadata": {},
     "output_type": "execute_result"
    }
   ],
   "source": [
    "confusion_matrix(Y_test_2[0], Pred_l,[0,1])"
   ]
  },
  {
   "cell_type": "code",
   "execution_count": 52,
   "id": "c77fefdd",
   "metadata": {},
   "outputs": [
    {
     "data": {
      "text/plain": [
       "{0: {'tp': 0.9406480590311197,\n",
       "  'fp': 0.0761565836298932,\n",
       "  'fn': 0.0593519409688803,\n",
       "  'tn': 0.9238434163701068},\n",
       " 1: {'tp': 0.9238434163701068,\n",
       "  'fp': 0.0593519409688803,\n",
       "  'fn': 0.0761565836298932,\n",
       "  'tn': 0.9406480590311197}}"
      ]
     },
     "execution_count": 52,
     "metadata": {},
     "output_type": "execute_result"
    }
   ],
   "source": [
    "compute_TP_FP_FN_TN(Y_test_2[0], Pred_l,[0,1])"
   ]
  },
  {
   "cell_type": "code",
   "execution_count": 55,
   "id": "02053515",
   "metadata": {},
   "outputs": [
    {
     "data": {
      "text/plain": [
       "{0: 0.9406480590311197, 1: 0.9238434163701068}"
      ]
     },
     "execution_count": 55,
     "metadata": {},
     "output_type": "execute_result"
    }
   ],
   "source": [
    "tpr(Y_test_2[0], Pred_l,[0,1])"
   ]
  },
  {
   "cell_type": "code",
   "execution_count": 56,
   "id": "53b82155",
   "metadata": {},
   "outputs": [
    {
     "data": {
      "text/plain": [
       "{0: 0.0761565836298932, 1: 0.0593519409688803}"
      ]
     },
     "execution_count": 56,
     "metadata": {},
     "output_type": "execute_result"
    }
   ],
   "source": [
    "fpr(Y_test_2[0], Pred_l,[0,1])"
   ]
  },
  {
   "cell_type": "code",
   "execution_count": 42,
   "id": "c12c2839",
   "metadata": {
    "execution": {
     "iopub.execute_input": "2021-10-31T02:41:12.543298Z",
     "iopub.status.busy": "2021-10-31T02:41:12.542437Z",
     "iopub.status.idle": "2021-10-31T02:41:12.544552Z",
     "shell.execute_reply": "2021-10-31T02:41:12.544929Z",
     "shell.execute_reply.started": "2021-10-31T02:30:06.884449Z"
    },
    "id": "x-w4R3GTQcLr",
    "papermill": {
     "duration": 1.60507,
     "end_time": "2021-10-31T02:41:12.545067",
     "exception": false,
     "start_time": "2021-10-31T02:41:10.939997",
     "status": "completed"
    },
    "tags": []
   },
   "outputs": [],
   "source": [
    "def test_image(ind,images_f,images_f_2,Model):\n",
    "#   cv2_imshow(images_f[ind])\n",
    "  plt.imshow(images_f[ind])\n",
    "  image_test=images_f_2[ind]\n",
    "  pred_1=Model.predict(np.array([image_test]))\n",
    "  #print(pred_1)\n",
    "  sex_f=['Male','Female']\n",
    "  age=int(np.round(pred_1[1][0]))\n",
    "  sex=int(np.round(pred_1[0][0]))\n",
    "  print(\"Predicted Age: \"+ str(age))\n",
    "  print(\"Predicted Sex: \"+ sex_f[sex])\n"
   ]
  },
  {
   "cell_type": "code",
   "execution_count": 43,
   "id": "26e37257",
   "metadata": {
    "execution": {
     "iopub.execute_input": "2021-10-31T02:41:15.268896Z",
     "iopub.status.busy": "2021-10-31T02:41:15.266959Z",
     "iopub.status.idle": "2021-10-31T02:41:15.534569Z",
     "shell.execute_reply": "2021-10-31T02:41:15.534091Z",
     "shell.execute_reply.started": "2021-10-31T02:30:07.685018Z"
    },
    "id": "I53sQfZPRJlj",
    "outputId": "55c7f6ab-3515-4d73-d13f-dc4f0b991a83",
    "papermill": {
     "duration": 1.653316,
     "end_time": "2021-10-31T02:41:15.534698",
     "exception": false,
     "start_time": "2021-10-31T02:41:13.881382",
     "status": "completed"
    },
    "tags": []
   },
   "outputs": [
    {
     "name": "stdout",
     "output_type": "stream",
     "text": [
      "Predicted Age: 20\n",
      "Predicted Sex: Female\n"
     ]
    },
    {
     "data": {
      "image/png": "[encoded data removed]",
      "text/plain": [
       "<Figure size 432x288 with 1 Axes>"
      ]
     },
     "metadata": {
      "needs_background": "light"
     },
     "output_type": "display_data"
    }
   ],
   "source": [
    "test_image(57,images_f,images_f_2,Model)"
   ]
  },
  {
   "cell_type": "code",
   "execution_count": 44,
   "id": "c81cce44",
   "metadata": {
    "execution": {
     "iopub.execute_input": "2021-10-31T02:41:18.212409Z",
     "iopub.status.busy": "2021-10-31T02:41:18.211518Z",
     "iopub.status.idle": "2021-10-31T02:41:18.402565Z",
     "shell.execute_reply": "2021-10-31T02:41:18.403059Z",
     "shell.execute_reply.started": "2021-10-31T02:30:14.279728Z"
    },
    "id": "fO8yiT2iR1Q6",
    "outputId": "2beaaaa1-be5e-4a93-a95a-264f2fa6586d",
    "papermill": {
     "duration": 1.532723,
     "end_time": "2021-10-31T02:41:18.403229",
     "exception": false,
     "start_time": "2021-10-31T02:41:16.870506",
     "status": "completed"
    },
    "tags": []
   },
   "outputs": [
    {
     "name": "stdout",
     "output_type": "stream",
     "text": [
      "Predicted Age: 48\n",
      "Predicted Sex: Male\n"
     ]
    },
    {
     "data": {
      "image/png": "[encoded data removed]",
      "text/plain": [
       "<Figure size 432x288 with 1 Axes>"
      ]
     },
     "metadata": {
      "needs_background": "light"
     },
     "output_type": "display_data"
    }
   ],
   "source": [
    "test_image(137,images_f,images_f_2,Model)"
   ]
  },
  {
   "cell_type": "code",
   "execution_count": 45,
   "id": "7e417348",
   "metadata": {
    "execution": {
     "iopub.execute_input": "2021-10-31T02:41:21.078421Z",
     "iopub.status.busy": "2021-10-31T02:41:21.077542Z",
     "iopub.status.idle": "2021-10-31T02:41:21.301229Z",
     "shell.execute_reply": "2021-10-31T02:41:21.301646Z",
     "shell.execute_reply.started": "2021-10-31T02:30:18.503186Z"
    },
    "id": "rfDMx_vbSDAC",
    "outputId": "318948d5-5c66-476f-d4fa-8683b9e6bcef",
    "papermill": {
     "duration": 1.561577,
     "end_time": "2021-10-31T02:41:21.301800",
     "exception": false,
     "start_time": "2021-10-31T02:41:19.740223",
     "status": "completed"
    },
    "tags": []
   },
   "outputs": [
    {
     "name": "stdout",
     "output_type": "stream",
     "text": [
      "Predicted Age: 38\n",
      "Predicted Sex: Male\n"
     ]
    },
    {
     "data": {
      "image/png": "[encoded data removed]",
      "text/plain": [
       "<Figure size 432x288 with 1 Axes>"
      ]
     },
     "metadata": {
      "needs_background": "light"
     },
     "output_type": "display_data"
    }
   ],
   "source": [
    "test_image(502,images_f,images_f_2,Model)"
   ]
  },
  {
   "cell_type": "code",
   "execution_count": 46,
   "id": "affd01a7",
   "metadata": {
    "execution": {
     "iopub.execute_input": "2021-10-31T02:41:24.272221Z",
     "iopub.status.busy": "2021-10-31T02:41:24.263363Z",
     "iopub.status.idle": "2021-10-31T02:41:24.479862Z",
     "shell.execute_reply": "2021-10-31T02:41:24.480317Z",
     "shell.execute_reply.started": "2021-10-31T02:30:21.647314Z"
    },
    "id": "P4XV-ZlJSKeK",
    "outputId": "7d9c8b1c-7175-4576-8055-d218664737f7",
    "papermill": {
     "duration": 1.559051,
     "end_time": "2021-10-31T02:41:24.480484",
     "exception": false,
     "start_time": "2021-10-31T02:41:22.921433",
     "status": "completed"
    },
    "tags": []
   },
   "outputs": [
    {
     "name": "stdout",
     "output_type": "stream",
     "text": [
      "Predicted Age: 35\n",
      "Predicted Sex: Male\n"
     ]
    },
    {
     "data": {
      "image/png": "[encoded data removed]",
      "text/plain": [
       "<Figure size 432x288 with 1 Axes>"
      ]
     },
     "metadata": {
      "needs_background": "light"
     },
     "output_type": "display_data"
    }
   ],
   "source": [
    "test_image(24,images_f,images_f_2,Model)"
   ]
  }
 ],
 "metadata": {
  "kernelspec": {
   "display_name": "Python 3",
   "language": "python",
   "name": "python3"
  },
  "language_info": {
   "codemirror_mode": {
    "name": "ipython",
    "version": 3
   },
   "file_extension": ".py",
   "mimetype": "text/x-python",
   "name": "python",
   "nbconvert_exporter": "python",
   "pygments_lexer": "ipython3",
   "version": "3.10.5"
  },
  "papermill": {
   "default_parameters": {},
   "duration": 500.498298,
   "end_time": "2021-10-31T02:41:29.209677",
   "environment_variables": {},
   "exception": null,
   "input_path": "__notebook__.ipynb",
   "output_path": "__notebook__.ipynb",
   "parameters": {},
   "start_time": "2021-10-31T02:33:08.711379",
   "version": "2.3.3"
  }
 },
 "nbformat": 4,
 "nbformat_minor": 5
}
