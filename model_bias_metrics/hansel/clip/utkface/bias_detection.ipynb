{
 "cells": [
  {
   "cell_type": "code",
   "execution_count": 27,
   "metadata": {},
   "outputs": [],
   "source": [
    "import clip\n",
    "import torch\n",
    "import numpy as np\n",
    "from tqdm import tqdm\n",
    "import os\n",
    "from PIL import Image\n",
    "import pandas as pd"
   ]
  },
  {
   "cell_type": "code",
   "execution_count": 28,
   "metadata": {},
   "outputs": [],
   "source": [
    "gender_code = { 0 : 'male', 1 : 'female'}\n",
    "race_code = { 0 : 'white', 1 : 'black', 2 : 'asian', 3 : 'indian', 4 : 'others'}"
   ]
  },
  {
   "cell_type": "code",
   "execution_count": 29,
   "metadata": {},
   "outputs": [
    {
     "data": {
      "text/plain": [
       "'cpu'"
      ]
     },
     "execution_count": 29,
     "metadata": {},
     "output_type": "execute_result"
    }
   ],
   "source": [
    "device = \"cuda\" if torch.cuda.is_available() else \"cpu\"\n",
    "model, preprocess = clip.load(\"ViT-B/32\", device=device)\n",
    "device"
   ]
  },
  {
   "attachments": {},
   "cell_type": "markdown",
   "metadata": {},
   "source": [
    "`device` will indicate wich `CLIP` model to use depending on the available hardware. If there is a GPU, `cuda:0` will be used  or `cuda:1` if there are multiple GPUs. If there is not a GPU, `cpu` will be used."
   ]
  },
  {
   "cell_type": "code",
   "execution_count": 30,
   "metadata": {},
   "outputs": [],
   "source": [
    "race_labels = ['black', 'white', 'asian', 'indian']\n",
    "race_tkns = ['A photo of a person of color ' + label for label in race_labels]\n",
    "race_text = clip.tokenize(race_tkns).to(device)"
   ]
  },
  {
   "cell_type": "code",
   "execution_count": 31,
   "metadata": {},
   "outputs": [],
   "source": [
    "sex_labels = ['male', 'female']\n",
    "sex_tkns = ['A photo of a person of sex ' + label for label in sex_labels]\n",
    "sex_text = clip.tokenize(sex_tkns).to(device)"
   ]
  },
  {
   "attachments": {},
   "cell_type": "markdown",
   "metadata": {},
   "source": [
    "`tkns` is the domain of possible values. `CLIP` model predicts for each image the most probable sentence from `tkns`, in this case. "
   ]
  },
  {
   "attachments": {},
   "cell_type": "markdown",
   "metadata": {},
   "source": [
    "Initializing usefull variables for `CLIP` model application."
   ]
  },
  {
   "cell_type": "code",
   "execution_count": 32,
   "metadata": {},
   "outputs": [],
   "source": [
    "BATCH_SIZE = 64\n",
    "\n",
    "dir_path = r'/Users/hanselblanco/Documents/4to/ML/project/bias-project-ML/datasets/utkface'\n",
    "# ln = 0\n",
    "photo_paths = os.listdir(dir_path)\n",
    "\n",
    "# for path in photo_paths:\n",
    "#     if os.path.isfile(os.path.join(dir_path, path)):\n",
    "#         ln += 1"
   ]
  },
  {
   "cell_type": "code",
   "execution_count": 33,
   "metadata": {},
   "outputs": [],
   "source": [
    "for dirname, _, filenames in os.walk(dir_path):\n",
    "    filename = filenames[0]\n",
    "    splitted = filename.split('_')\n",
    "    age = splitted[0]\n",
    "    gender = splitted[1]\n",
    "    race = splitted[2]"
   ]
  },
  {
   "cell_type": "code",
   "execution_count": 34,
   "metadata": {},
   "outputs": [
    {
     "data": {
      "text/html": [
       "<div>\n",
       "<style scoped>\n",
       "    .dataframe tbody tr th:only-of-type {\n",
       "        vertical-align: middle;\n",
       "    }\n",
       "\n",
       "    .dataframe tbody tr th {\n",
       "        vertical-align: top;\n",
       "    }\n",
       "\n",
       "    .dataframe thead th {\n",
       "        text-align: right;\n",
       "    }\n",
       "</style>\n",
       "<table border=\"1\" class=\"dataframe\">\n",
       "  <thead>\n",
       "    <tr style=\"text-align: right;\">\n",
       "      <th></th>\n",
       "      <th>filename</th>\n",
       "      <th>filepath</th>\n",
       "      <th>gender</th>\n",
       "      <th>race</th>\n",
       "    </tr>\n",
       "  </thead>\n",
       "  <tbody>\n",
       "    <tr>\n",
       "      <th>0</th>\n",
       "      <td>9_1_2_20161219204347420.jpg.chip.jpg</td>\n",
       "      <td>/Users/hanselblanco/Documents/4to/ML/project/b...</td>\n",
       "      <td>female</td>\n",
       "      <td>asian</td>\n",
       "    </tr>\n",
       "    <tr>\n",
       "      <th>1</th>\n",
       "      <td>36_0_1_20170117163203851.jpg.chip.jpg</td>\n",
       "      <td>/Users/hanselblanco/Documents/4to/ML/project/b...</td>\n",
       "      <td>male</td>\n",
       "      <td>black</td>\n",
       "    </tr>\n",
       "    <tr>\n",
       "      <th>2</th>\n",
       "      <td>86_1_0_20170120225751953.jpg.chip.jpg</td>\n",
       "      <td>/Users/hanselblanco/Documents/4to/ML/project/b...</td>\n",
       "      <td>female</td>\n",
       "      <td>white</td>\n",
       "    </tr>\n",
       "    <tr>\n",
       "      <th>3</th>\n",
       "      <td>26_1_0_20170116171048641.jpg.chip.jpg</td>\n",
       "      <td>/Users/hanselblanco/Documents/4to/ML/project/b...</td>\n",
       "      <td>female</td>\n",
       "      <td>white</td>\n",
       "    </tr>\n",
       "    <tr>\n",
       "      <th>4</th>\n",
       "      <td>1_1_2_20161219154612988.jpg.chip.jpg</td>\n",
       "      <td>/Users/hanselblanco/Documents/4to/ML/project/b...</td>\n",
       "      <td>female</td>\n",
       "      <td>asian</td>\n",
       "    </tr>\n",
       "  </tbody>\n",
       "</table>\n",
       "</div>"
      ],
      "text/plain": [
       "                                filename  \\\n",
       "0   9_1_2_20161219204347420.jpg.chip.jpg   \n",
       "1  36_0_1_20170117163203851.jpg.chip.jpg   \n",
       "2  86_1_0_20170120225751953.jpg.chip.jpg   \n",
       "3  26_1_0_20170116171048641.jpg.chip.jpg   \n",
       "4   1_1_2_20161219154612988.jpg.chip.jpg   \n",
       "\n",
       "                                            filepath  gender   race  \n",
       "0  /Users/hanselblanco/Documents/4to/ML/project/b...  female  asian  \n",
       "1  /Users/hanselblanco/Documents/4to/ML/project/b...    male  black  \n",
       "2  /Users/hanselblanco/Documents/4to/ML/project/b...  female  white  \n",
       "3  /Users/hanselblanco/Documents/4to/ML/project/b...  female  white  \n",
       "4  /Users/hanselblanco/Documents/4to/ML/project/b...  female  asian  "
      ]
     },
     "execution_count": 34,
     "metadata": {},
     "output_type": "execute_result"
    }
   ],
   "source": [
    "df = pd.DataFrame(filenames, columns = ['filename'] )\n",
    "df['filepath'] = df.filename.apply(lambda x: dir_path + x)\n",
    "df['gender'] = df.filename.apply(lambda x: gender_code[int(x.split('_')[1])])\n",
    "df['race'] = df.filename.apply(lambda x: race_code[int(x.split('_')[-2])])\n",
    "df.head()"
   ]
  },
  {
   "attachments": {},
   "cell_type": "markdown",
   "metadata": {},
   "source": [
    "Executing `CLIP` model for `photos_to_analize` images from the dataset."
   ]
  },
  {
   "cell_type": "code",
   "execution_count": 35,
   "metadata": {},
   "outputs": [
    {
     "name": "stderr",
     "output_type": "stream",
     "text": [
      "100%|██████████| 63/63 [03:46<00:00,  3.59s/it]\n"
     ]
    }
   ],
   "source": [
    "sex_results = []\n",
    "race_results = []\n",
    "photos_to_analize = 4000\n",
    "\n",
    "photos = []\n",
    "for j in range(photos_to_analize):\n",
    "    photos.append(Image.open(dir_path + '/' + photo_paths[j]))\n",
    "\n",
    "pending_photos = photos_to_analize\n",
    "for i in tqdm(range(0, photos_to_analize, min(BATCH_SIZE, pending_photos))):\n",
    "    pending_photos = photos_to_analize - i\n",
    "    images = [preprocess(photos[photo_idx]) for photo_idx in range(i, min(i + BATCH_SIZE, photos_to_analize))]\n",
    "    image_input = torch.tensor(np.stack(images)).to(device)\n",
    "    with torch.no_grad():\n",
    "        sex_logits_per_image, sex_logits_per_text = model(image_input, sex_text)\n",
    "        race_logits_per_image, race_logits_per_text = model(image_input, race_text)\n",
    "        \n",
    "        # The softmax function takes the original confidence and applys a transform to make all the confidence add up to one\n",
    "        sex_probs = sex_logits_per_image.softmax(dim=-1).cpu().numpy()\n",
    "        race_probs = race_logits_per_image.softmax(dim=-1).cpu().numpy()\n",
    "        \n",
    "        sex_results.append(sex_probs)\n",
    "        race_results.append(race_probs)"
   ]
  },
  {
   "cell_type": "code",
   "execution_count": 50,
   "metadata": {},
   "outputs": [],
   "source": [
    "race_res = np.concatenate(race_results, axis=0)\n",
    "race_choices = np.argmax(race_res, axis=1)\n",
    "\n",
    "sex_res = np.concatenate(sex_results, axis=0)\n",
    "sex_choices = np.argmax(sex_res, axis=1)"
   ]
  },
  {
   "cell_type": "code",
   "execution_count": 51,
   "metadata": {},
   "outputs": [
    {
     "data": {
      "text/plain": [
       "4000"
      ]
     },
     "execution_count": 51,
     "metadata": {},
     "output_type": "execute_result"
    }
   ],
   "source": [
    "r_getlabel = lambda x:race_labels[x]\n",
    "r_vgetlabel = np.vectorize(r_getlabel)\n",
    "races = r_vgetlabel(race_choices)\n",
    "\n",
    "s_getlabel = lambda x:sex_labels[x]\n",
    "s_vgetlabel = np.vectorize(s_getlabel)\n",
    "genders = s_vgetlabel(sex_choices)\n",
    "len(genders)"
   ]
  },
  {
   "attachments": {},
   "cell_type": "markdown",
   "metadata": {},
   "source": [
    "`races` is the vector with predicted labels to add to each sentence from `race_tkns` for each image, ordered."
   ]
  },
  {
   "attachments": {},
   "cell_type": "markdown",
   "metadata": {},
   "source": [
    "`genders` is the vector with predicted labels to add to each sentence from `sex_tkns` for each image, ordered."
   ]
  },
  {
   "cell_type": "code",
   "execution_count": 52,
   "metadata": {},
   "outputs": [
    {
     "data": {
      "text/html": [
       "<div>\n",
       "<style scoped>\n",
       "    .dataframe tbody tr th:only-of-type {\n",
       "        vertical-align: middle;\n",
       "    }\n",
       "\n",
       "    .dataframe tbody tr th {\n",
       "        vertical-align: top;\n",
       "    }\n",
       "\n",
       "    .dataframe thead th {\n",
       "        text-align: right;\n",
       "    }\n",
       "</style>\n",
       "<table border=\"1\" class=\"dataframe\">\n",
       "  <thead>\n",
       "    <tr style=\"text-align: right;\">\n",
       "      <th></th>\n",
       "      <th>filename</th>\n",
       "      <th>filepath</th>\n",
       "      <th>gender</th>\n",
       "      <th>race</th>\n",
       "      <th>predicted_gender</th>\n",
       "      <th>predicted_race</th>\n",
       "    </tr>\n",
       "  </thead>\n",
       "  <tbody>\n",
       "    <tr>\n",
       "      <th>0</th>\n",
       "      <td>9_1_2_20161219204347420.jpg.chip.jpg</td>\n",
       "      <td>/Users/hanselblanco/Documents/4to/ML/project/b...</td>\n",
       "      <td>female</td>\n",
       "      <td>asian</td>\n",
       "      <td>female</td>\n",
       "      <td>asian</td>\n",
       "    </tr>\n",
       "    <tr>\n",
       "      <th>1</th>\n",
       "      <td>36_0_1_20170117163203851.jpg.chip.jpg</td>\n",
       "      <td>/Users/hanselblanco/Documents/4to/ML/project/b...</td>\n",
       "      <td>male</td>\n",
       "      <td>black</td>\n",
       "      <td>male</td>\n",
       "      <td>black</td>\n",
       "    </tr>\n",
       "    <tr>\n",
       "      <th>2</th>\n",
       "      <td>86_1_0_20170120225751953.jpg.chip.jpg</td>\n",
       "      <td>/Users/hanselblanco/Documents/4to/ML/project/b...</td>\n",
       "      <td>female</td>\n",
       "      <td>white</td>\n",
       "      <td>female</td>\n",
       "      <td>white</td>\n",
       "    </tr>\n",
       "    <tr>\n",
       "      <th>3</th>\n",
       "      <td>26_1_0_20170116171048641.jpg.chip.jpg</td>\n",
       "      <td>/Users/hanselblanco/Documents/4to/ML/project/b...</td>\n",
       "      <td>female</td>\n",
       "      <td>white</td>\n",
       "      <td>female</td>\n",
       "      <td>asian</td>\n",
       "    </tr>\n",
       "    <tr>\n",
       "      <th>4</th>\n",
       "      <td>1_1_2_20161219154612988.jpg.chip.jpg</td>\n",
       "      <td>/Users/hanselblanco/Documents/4to/ML/project/b...</td>\n",
       "      <td>female</td>\n",
       "      <td>asian</td>\n",
       "      <td>female</td>\n",
       "      <td>asian</td>\n",
       "    </tr>\n",
       "  </tbody>\n",
       "</table>\n",
       "</div>"
      ],
      "text/plain": [
       "                                filename  \\\n",
       "0   9_1_2_20161219204347420.jpg.chip.jpg   \n",
       "1  36_0_1_20170117163203851.jpg.chip.jpg   \n",
       "2  86_1_0_20170120225751953.jpg.chip.jpg   \n",
       "3  26_1_0_20170116171048641.jpg.chip.jpg   \n",
       "4   1_1_2_20161219154612988.jpg.chip.jpg   \n",
       "\n",
       "                                            filepath  gender   race  \\\n",
       "0  /Users/hanselblanco/Documents/4to/ML/project/b...  female  asian   \n",
       "1  /Users/hanselblanco/Documents/4to/ML/project/b...    male  black   \n",
       "2  /Users/hanselblanco/Documents/4to/ML/project/b...  female  white   \n",
       "3  /Users/hanselblanco/Documents/4to/ML/project/b...  female  white   \n",
       "4  /Users/hanselblanco/Documents/4to/ML/project/b...  female  asian   \n",
       "\n",
       "  predicted_gender predicted_race  \n",
       "0           female          asian  \n",
       "1             male          black  \n",
       "2           female          white  \n",
       "3           female          asian  \n",
       "4           female          asian  "
      ]
     },
     "execution_count": 52,
     "metadata": {},
     "output_type": "execute_result"
    }
   ],
   "source": [
    "df = df[:photos_to_analize]\n",
    "df['predicted_gender'] = genders\n",
    "df['predicted_race'] = races\n",
    "df.head()"
   ]
  },
  {
   "attachments": {},
   "cell_type": "markdown",
   "metadata": {},
   "source": [
    "# Detecting bias in `CLIP` results."
   ]
  },
  {
   "attachments": {},
   "cell_type": "markdown",
   "metadata": {},
   "source": [
    "## Race (Disparate impact)"
   ]
  },
  {
   "attachments": {},
   "cell_type": "markdown",
   "metadata": {},
   "source": [
    "### Selection Rate (Positive results / N)"
   ]
  },
  {
   "cell_type": "code",
   "execution_count": 53,
   "metadata": {},
   "outputs": [
    {
     "data": {
      "text/plain": [
       "(0.9313380281690141, 0.8233082706766918, 0.9378427787934186, 0.8)"
      ]
     },
     "execution_count": 53,
     "metadata": {},
     "output_type": "execute_result"
    }
   ],
   "source": [
    "positive_whites, positive_blacks, positive_asians, positive_indians = 0, 0, 0, 0\n",
    "\n",
    "total_whites, total_blacks, total_asians, total_indians = 0, 0, 0, 0\n",
    "\n",
    "for i in range(photos_to_analize):\n",
    "    data = photo_paths[i].split('_')\n",
    "    race_number = int(data[2])\n",
    "    match race_code[race_number]:\n",
    "        case 'white':\n",
    "            total_whites += 1\n",
    "            if races[i] == 'white':\n",
    "                positive_whites += 1\n",
    "        case 'black':\n",
    "            total_blacks += 1\n",
    "            if races[i] == 'black':\n",
    "                positive_blacks += 1\n",
    "        case 'asian':\n",
    "            total_asians += 1\n",
    "            if races[i] == 'asian':\n",
    "                positive_asians += 1\n",
    "        case 'indian':\n",
    "            total_indians += 1\n",
    "            if races[i] == 'indian':\n",
    "                positive_indians += 1\n",
    "        case default:\n",
    "            continue\n",
    "                \n",
    "whites_sr, blacks_sr, asians_sr, indians_sr = positive_whites/ total_whites, positive_blacks/ total_blacks, positive_asians/ total_asians, positive_indians/ total_indians\n",
    "\n",
    "whites_sr, blacks_sr, asians_sr, indians_sr\n",
    "    "
   ]
  },
  {
   "attachments": {},
   "cell_type": "markdown",
   "metadata": {},
   "source": [
    "#### Disparate impact"
   ]
  },
  {
   "cell_type": "code",
   "execution_count": 54,
   "metadata": {},
   "outputs": [
    {
     "data": {
      "text/plain": [
       "(0.8840058558494535, 1.0069843069086233, 0.8589792060491493)"
      ]
     },
     "execution_count": 54,
     "metadata": {},
     "output_type": "execute_result"
    }
   ],
   "source": [
    "\n",
    "# disparate impact ratio = underprivileged group SR / privileged group SR\n",
    "disp_impact_b_w = blacks_sr/ whites_sr\n",
    "disp_impact_b_a = asians_sr/ whites_sr\n",
    "disp_impact_b_i = indians_sr/ whites_sr\n",
    "disp_impact_b_w, disp_impact_b_a, disp_impact_b_i"
   ]
  },
  {
   "cell_type": "code",
   "execution_count": 55,
   "metadata": {},
   "outputs": [],
   "source": [
    "if disp_impact_b_w < 0.8:\n",
    "    print('Disparate impact present in black group / white group')\n",
    "if disp_impact_b_a < 0.8:\n",
    "    print('Disparate impact present in asian group / white group')\n",
    "if disp_impact_b_i < 0.8:\n",
    "    print('Disparate impact present in indian group / white group')"
   ]
  },
  {
   "attachments": {},
   "cell_type": "markdown",
   "metadata": {},
   "source": [
    "## Sex (Disparate impact)"
   ]
  },
  {
   "attachments": {},
   "cell_type": "markdown",
   "metadata": {},
   "source": [
    "### Selection Rate (Positive results / N)"
   ]
  },
  {
   "cell_type": "code",
   "execution_count": 56,
   "metadata": {},
   "outputs": [
    {
     "data": {
      "text/plain": [
       "(0.9509851033157136, 0.9614382490880667)"
      ]
     },
     "execution_count": 56,
     "metadata": {},
     "output_type": "execute_result"
    }
   ],
   "source": [
    "positive_males, positive_females = 0, 0\n",
    "\n",
    "total_males, total_females = 0, 0\n",
    "\n",
    "for i in range(photos_to_analize):\n",
    "    data = photo_paths[i].split('_')\n",
    "    gender_number = int(data[1])\n",
    "    match gender_code[gender_number]:\n",
    "        case 'male':\n",
    "            total_males += 1\n",
    "            if genders[i] == 'male':\n",
    "                positive_males += 1\n",
    "        case 'female':\n",
    "            total_females += 1\n",
    "            if genders[i] == 'female':\n",
    "                positive_females += 1\n",
    "                \n",
    "males_sr, females_sr = positive_males/ total_males, positive_females/ total_females\n",
    "\n",
    "males_sr, females_sr\n",
    "    "
   ]
  },
  {
   "attachments": {},
   "cell_type": "markdown",
   "metadata": {},
   "source": [
    "#### Disparate impact"
   ]
  },
  {
   "cell_type": "code",
   "execution_count": 57,
   "metadata": {},
   "outputs": [
    {
     "data": {
      "text/plain": [
       "1.0109919132654204"
      ]
     },
     "execution_count": 57,
     "metadata": {},
     "output_type": "execute_result"
    }
   ],
   "source": [
    "\n",
    "# disparate impact ratio = underprivileged group SR / privileged group SR\n",
    "disp_impact = females_sr / males_sr\n",
    "disp_impact"
   ]
  },
  {
   "cell_type": "code",
   "execution_count": 58,
   "metadata": {},
   "outputs": [],
   "source": [
    "if disp_impact < 0.8:\n",
    "    print('Disparate impact present in female group / male group')\n"
   ]
  },
  {
   "attachments": {},
   "cell_type": "markdown",
   "metadata": {},
   "source": [
    "## Sex (Equalized odds)"
   ]
  },
  {
   "cell_type": "code",
   "execution_count": 59,
   "metadata": {},
   "outputs": [],
   "source": [
    "tp_males, tp_females, fn_males, fn_females, fp_males, fp_females = 0, 0, 0, 0, 0, 0\n",
    "\n",
    "for i in range(photos_to_analize):\n",
    "    data = photo_paths[i].split('_')\n",
    "    gender_number = int(data[1])\n",
    "    match gender_code[gender_number]:\n",
    "        case 'male':\n",
    "            if genders[i] == 'male':\n",
    "                tp_males += 1\n",
    "            else:\n",
    "                fp_females += 1\n",
    "                fn_males += 1 # False negative (wrong no male prediction, in this case, equal to female false positive)\n",
    "        case 'female':\n",
    "            if genders[i] == 'female':\n",
    "                tp_females += 1\n",
    "            else:\n",
    "                fp_males += 1\n",
    "                fn_females += 1\n",
    "                \n",
    "males_tpr, females_tpr = tp_males/ (tp_males + fn_males), tp_females/ (tp_females + fn_females)\n",
    "\n",
    "males_fpr, females_fpr = fp_males/ (fp_males + fn_males), fp_females/ (fp_females + fn_females)\n"
   ]
  },
  {
   "attachments": {},
   "cell_type": "markdown",
   "metadata": {},
   "source": [
    "#### True Positive Rates"
   ]
  },
  {
   "cell_type": "code",
   "execution_count": 60,
   "metadata": {},
   "outputs": [
    {
     "data": {
      "text/plain": [
       "(0.9509851033157136, 0.9614382490880667)"
      ]
     },
     "execution_count": 60,
     "metadata": {},
     "output_type": "execute_result"
    }
   ],
   "source": [
    "males_tpr, females_tpr"
   ]
  },
  {
   "cell_type": "code",
   "execution_count": 61,
   "metadata": {},
   "outputs": [
    {
     "name": "stdout",
     "output_type": "stream",
     "text": [
      "Equalized odds\n"
     ]
    }
   ],
   "source": [
    "if abs(males_tpr - females_tpr) < 0.05:\n",
    "    print('Equalized odds')\n",
    "else:\n",
    "    print('Not equalized odds')\n",
    "    print(abs(males_tpr - females_tpr))"
   ]
  },
  {
   "attachments": {},
   "cell_type": "markdown",
   "metadata": {},
   "source": [
    "#### False Positive Rates"
   ]
  },
  {
   "cell_type": "code",
   "execution_count": 62,
   "metadata": {},
   "outputs": [
    {
     "data": {
      "text/plain": [
       "(0.42045454545454547, 0.5795454545454546)"
      ]
     },
     "execution_count": 62,
     "metadata": {},
     "output_type": "execute_result"
    }
   ],
   "source": [
    "males_fpr, females_fpr"
   ]
  },
  {
   "cell_type": "code",
   "execution_count": 63,
   "metadata": {},
   "outputs": [
    {
     "name": "stdout",
     "output_type": "stream",
     "text": [
      "Not equalized odds\n",
      "0.15909090909090912\n"
     ]
    }
   ],
   "source": [
    "if abs(males_fpr - females_fpr) < 0.05:\n",
    "    print('Equalized odds')\n",
    "else:\n",
    "    print('Not equalized odds')\n",
    "    print(abs(males_fpr - females_fpr))"
   ]
  }
 ],
 "metadata": {
  "kernelspec": {
   "display_name": "Python 3",
   "language": "python",
   "name": "python3"
  },
  "language_info": {
   "codemirror_mode": {
    "name": "ipython",
    "version": 3
   },
   "file_extension": ".py",
   "mimetype": "text/x-python",
   "name": "python",
   "nbconvert_exporter": "python",
   "pygments_lexer": "ipython3",
   "version": "3.11.2"
  },
  "orig_nbformat": 4
 },
 "nbformat": 4,
 "nbformat_minor": 2
}
