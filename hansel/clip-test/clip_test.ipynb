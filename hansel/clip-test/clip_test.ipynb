{
 "cells": [
  {
   "cell_type": "code",
   "execution_count": 11,
   "metadata": {},
   "outputs": [],
   "source": [
    "import os\n",
    "import torch\n",
    "import clip\n",
    "import numpy as np\n",
    "import pandas as pd\n",
    "import pyarrow.feather as feather\n",
    "from PIL import Image\n",
    "from urllib import request\n",
    "from tqdm import tqdm\n",
    "from torch.utils.data import Dataset, DataLoader\n",
    "from torchvision import datasets, transforms"
   ]
  },
  {
   "cell_type": "code",
   "execution_count": 12,
   "metadata": {},
   "outputs": [
    {
     "data": {
      "text/plain": [
       "'cpu'"
      ]
     },
     "execution_count": 12,
     "metadata": {},
     "output_type": "execute_result"
    }
   ],
   "source": [
    "device = \"cuda\" if torch.cuda.is_available() else \"cpu\"\n",
    "model, preprocess = clip.load(\"ViT-B/32\", device=device)\n",
    "device"
   ]
  },
  {
   "cell_type": "code",
   "execution_count": 13,
   "metadata": {},
   "outputs": [
    {
     "data": {
      "text/html": [
       "<div>\n",
       "<style scoped>\n",
       "    .dataframe tbody tr th:only-of-type {\n",
       "        vertical-align: middle;\n",
       "    }\n",
       "\n",
       "    .dataframe tbody tr th {\n",
       "        vertical-align: top;\n",
       "    }\n",
       "\n",
       "    .dataframe thead th {\n",
       "        text-align: right;\n",
       "    }\n",
       "</style>\n",
       "<table border=\"1\" class=\"dataframe\">\n",
       "  <thead>\n",
       "    <tr style=\"text-align: right;\">\n",
       "      <th></th>\n",
       "      <th>photo_id</th>\n",
       "      <th>photo_url</th>\n",
       "      <th>photo_image_url</th>\n",
       "      <th>photo_submitted_at</th>\n",
       "      <th>photo_featured</th>\n",
       "      <th>photo_width</th>\n",
       "      <th>photo_height</th>\n",
       "      <th>photo_aspect_ratio</th>\n",
       "      <th>photo_description</th>\n",
       "      <th>photographer_username</th>\n",
       "      <th>...</th>\n",
       "      <th>photo_location_country</th>\n",
       "      <th>photo_location_city</th>\n",
       "      <th>stats_views</th>\n",
       "      <th>stats_downloads</th>\n",
       "      <th>ai_description</th>\n",
       "      <th>ai_primary_landmark_name</th>\n",
       "      <th>ai_primary_landmark_latitude</th>\n",
       "      <th>ai_primary_landmark_longitude</th>\n",
       "      <th>ai_primary_landmark_confidence</th>\n",
       "      <th>blur_hash</th>\n",
       "    </tr>\n",
       "  </thead>\n",
       "  <tbody>\n",
       "    <tr>\n",
       "      <th>0</th>\n",
       "      <td>XMyPniM9LF0</td>\n",
       "      <td>https://unsplash.com/photos/XMyPniM9LF0</td>\n",
       "      <td>https://images.unsplash.com/uploads/1411949294...</td>\n",
       "      <td>2014-09-29 00:08:38.594364</td>\n",
       "      <td>t</td>\n",
       "      <td>4272</td>\n",
       "      <td>2848</td>\n",
       "      <td>1.50</td>\n",
       "      <td>Woman exploring a forest</td>\n",
       "      <td>michellespencer77</td>\n",
       "      <td>...</td>\n",
       "      <td>None</td>\n",
       "      <td>None</td>\n",
       "      <td>2375421</td>\n",
       "      <td>6967</td>\n",
       "      <td>woman walking in the middle of forest</td>\n",
       "      <td>None</td>\n",
       "      <td>NaN</td>\n",
       "      <td>NaN</td>\n",
       "      <td>NaN</td>\n",
       "      <td>L56bVcRRIWMh.gVunlS4SMbsRRxr</td>\n",
       "    </tr>\n",
       "    <tr>\n",
       "      <th>1</th>\n",
       "      <td>rDLBArZUl1c</td>\n",
       "      <td>https://unsplash.com/photos/rDLBArZUl1c</td>\n",
       "      <td>https://images.unsplash.com/photo-141633941111...</td>\n",
       "      <td>2014-11-18 19:36:57.08945</td>\n",
       "      <td>t</td>\n",
       "      <td>3000</td>\n",
       "      <td>4000</td>\n",
       "      <td>0.75</td>\n",
       "      <td>Succulents in a terrarium</td>\n",
       "      <td>ugmonk</td>\n",
       "      <td>...</td>\n",
       "      <td>None</td>\n",
       "      <td>None</td>\n",
       "      <td>13784815</td>\n",
       "      <td>82141</td>\n",
       "      <td>succulent plants in clear glass terrarium</td>\n",
       "      <td>None</td>\n",
       "      <td>NaN</td>\n",
       "      <td>NaN</td>\n",
       "      <td>NaN</td>\n",
       "      <td>LvI$4txu%2s:_4t6WUj]xat7RPoe</td>\n",
       "    </tr>\n",
       "    <tr>\n",
       "      <th>2</th>\n",
       "      <td>cNDGZ2sQ3Bo</td>\n",
       "      <td>https://unsplash.com/photos/cNDGZ2sQ3Bo</td>\n",
       "      <td>https://images.unsplash.com/photo-142014251503...</td>\n",
       "      <td>2015-01-01 20:02:02.097036</td>\n",
       "      <td>t</td>\n",
       "      <td>2564</td>\n",
       "      <td>1710</td>\n",
       "      <td>1.50</td>\n",
       "      <td>Rural winter mountainside</td>\n",
       "      <td>johnprice</td>\n",
       "      <td>...</td>\n",
       "      <td>None</td>\n",
       "      <td>None</td>\n",
       "      <td>1302461</td>\n",
       "      <td>3428</td>\n",
       "      <td>rocky mountain under gray sky at daytime</td>\n",
       "      <td>None</td>\n",
       "      <td>NaN</td>\n",
       "      <td>NaN</td>\n",
       "      <td>NaN</td>\n",
       "      <td>LhMj%NxvM{t7_4t7aeoM%2M{ozj[</td>\n",
       "    </tr>\n",
       "    <tr>\n",
       "      <th>3</th>\n",
       "      <td>iuZ_D1eoq9k</td>\n",
       "      <td>https://unsplash.com/photos/iuZ_D1eoq9k</td>\n",
       "      <td>https://images.unsplash.com/photo-141487280988...</td>\n",
       "      <td>2014-11-01 20:15:13.410073</td>\n",
       "      <td>t</td>\n",
       "      <td>2912</td>\n",
       "      <td>4368</td>\n",
       "      <td>0.67</td>\n",
       "      <td>Poppy seeds and flowers</td>\n",
       "      <td>krisatomic</td>\n",
       "      <td>...</td>\n",
       "      <td>None</td>\n",
       "      <td>None</td>\n",
       "      <td>2890238</td>\n",
       "      <td>33704</td>\n",
       "      <td>red common poppy flower selective focus phography</td>\n",
       "      <td>None</td>\n",
       "      <td>NaN</td>\n",
       "      <td>NaN</td>\n",
       "      <td>NaN</td>\n",
       "      <td>LSC7DirZAsX7}Br@GEWWmnoLWCnj</td>\n",
       "    </tr>\n",
       "    <tr>\n",
       "      <th>4</th>\n",
       "      <td>BeD3vjQ8SI0</td>\n",
       "      <td>https://unsplash.com/photos/BeD3vjQ8SI0</td>\n",
       "      <td>https://images.unsplash.com/photo-141700759404...</td>\n",
       "      <td>2014-11-26 13:13:50.134383</td>\n",
       "      <td>t</td>\n",
       "      <td>4896</td>\n",
       "      <td>3264</td>\n",
       "      <td>1.50</td>\n",
       "      <td>Silhouette near dark trees</td>\n",
       "      <td>jonaseriksson</td>\n",
       "      <td>...</td>\n",
       "      <td>None</td>\n",
       "      <td>None</td>\n",
       "      <td>8704860</td>\n",
       "      <td>49662</td>\n",
       "      <td>trees during night time</td>\n",
       "      <td>None</td>\n",
       "      <td>NaN</td>\n",
       "      <td>NaN</td>\n",
       "      <td>NaN</td>\n",
       "      <td>L25|_:V@0hxtI=W;odae0ht6=^NG</td>\n",
       "    </tr>\n",
       "  </tbody>\n",
       "</table>\n",
       "<p>5 rows × 31 columns</p>\n",
       "</div>"
      ],
      "text/plain": [
       "      photo_id                                photo_url  \\\n",
       "0  XMyPniM9LF0  https://unsplash.com/photos/XMyPniM9LF0   \n",
       "1  rDLBArZUl1c  https://unsplash.com/photos/rDLBArZUl1c   \n",
       "2  cNDGZ2sQ3Bo  https://unsplash.com/photos/cNDGZ2sQ3Bo   \n",
       "3  iuZ_D1eoq9k  https://unsplash.com/photos/iuZ_D1eoq9k   \n",
       "4  BeD3vjQ8SI0  https://unsplash.com/photos/BeD3vjQ8SI0   \n",
       "\n",
       "                                     photo_image_url  \\\n",
       "0  https://images.unsplash.com/uploads/1411949294...   \n",
       "1  https://images.unsplash.com/photo-141633941111...   \n",
       "2  https://images.unsplash.com/photo-142014251503...   \n",
       "3  https://images.unsplash.com/photo-141487280988...   \n",
       "4  https://images.unsplash.com/photo-141700759404...   \n",
       "\n",
       "           photo_submitted_at photo_featured  photo_width  photo_height  \\\n",
       "0  2014-09-29 00:08:38.594364              t         4272          2848   \n",
       "1   2014-11-18 19:36:57.08945              t         3000          4000   \n",
       "2  2015-01-01 20:02:02.097036              t         2564          1710   \n",
       "3  2014-11-01 20:15:13.410073              t         2912          4368   \n",
       "4  2014-11-26 13:13:50.134383              t         4896          3264   \n",
       "\n",
       "   photo_aspect_ratio           photo_description photographer_username  ...  \\\n",
       "0                1.50    Woman exploring a forest     michellespencer77  ...   \n",
       "1                0.75   Succulents in a terrarium                ugmonk  ...   \n",
       "2                1.50   Rural winter mountainside             johnprice  ...   \n",
       "3                0.67     Poppy seeds and flowers            krisatomic  ...   \n",
       "4                1.50  Silhouette near dark trees         jonaseriksson  ...   \n",
       "\n",
       "  photo_location_country photo_location_city stats_views stats_downloads  \\\n",
       "0                   None                None     2375421            6967   \n",
       "1                   None                None    13784815           82141   \n",
       "2                   None                None     1302461            3428   \n",
       "3                   None                None     2890238           33704   \n",
       "4                   None                None     8704860           49662   \n",
       "\n",
       "                                      ai_description ai_primary_landmark_name  \\\n",
       "0              woman walking in the middle of forest                     None   \n",
       "1          succulent plants in clear glass terrarium                     None   \n",
       "2           rocky mountain under gray sky at daytime                     None   \n",
       "3  red common poppy flower selective focus phography                     None   \n",
       "4                            trees during night time                     None   \n",
       "\n",
       "  ai_primary_landmark_latitude ai_primary_landmark_longitude  \\\n",
       "0                          NaN                           NaN   \n",
       "1                          NaN                           NaN   \n",
       "2                          NaN                           NaN   \n",
       "3                          NaN                           NaN   \n",
       "4                          NaN                           NaN   \n",
       "\n",
       "  ai_primary_landmark_confidence                     blur_hash  \n",
       "0                            NaN  L56bVcRRIWMh.gVunlS4SMbsRRxr  \n",
       "1                            NaN  LvI$4txu%2s:_4t6WUj]xat7RPoe  \n",
       "2                            NaN  LhMj%NxvM{t7_4t7aeoM%2M{ozj[  \n",
       "3                            NaN  LSC7DirZAsX7}Br@GEWWmnoLWCnj  \n",
       "4                            NaN  L25|_:V@0hxtI=W;odae0ht6=^NG  \n",
       "\n",
       "[5 rows x 31 columns]"
      ]
     },
     "execution_count": 13,
     "metadata": {},
     "output_type": "execute_result"
    }
   ],
   "source": [
    "id_data = feather.read_feather('/Users/hanselblanco/Documents/tesis/datasets/unsplash-research-dataset-lite-latest/data/id_data.feather')\n",
    "id_data.head()"
   ]
  },
  {
   "cell_type": "code",
   "execution_count": 14,
   "metadata": {},
   "outputs": [],
   "source": [
    "labels = ['morning','noon','afternoon','night','sunrise or sunset']\n",
    "tkns = ['A photo taken at '+ label for label in labels]\n",
    "text = clip.tokenize(tkns).to(device)"
   ]
  },
  {
   "cell_type": "code",
   "execution_count": 15,
   "metadata": {},
   "outputs": [],
   "source": [
    "BATCH_SIZE = 100000\n",
    "ln = len(id_data)"
   ]
  },
  {
   "cell_type": "code",
   "execution_count": 16,
   "metadata": {},
   "outputs": [
    {
     "name": "stderr",
     "output_type": "stream",
     "text": [
      "100%|██████████| 1/1 [00:00<00:00,  3.36it/s]\n"
     ]
    }
   ],
   "source": [
    "results = []\n",
    "\n",
    "for i in tqdm(range(0, ln, BATCH_SIZE)):\n",
    "    images = [preprocess(Image.open(f\"/Users/hanselblanco/Documents/tesis/datasets/unsplash-research-dataset-lite-latest/images/{id_data['photo_id'][j]}.jpg\")) for j in range(4)]\n",
    "    image_input = torch.tensor(np.stack(images)).to(device)\n",
    "    with torch.no_grad():\n",
    "        image_features = model.encode_image(image_input)\n",
    "        logits_per_image, logits_per_text = model(image_input, text)\n",
    "        # The softmax function takes the original confidence and applys a transform to make all the confidence add up to one\n",
    "        probs = logits_per_image.softmax(dim=-1).cpu().numpy()\n",
    "        results.append(probs)"
   ]
  },
  {
   "cell_type": "code",
   "execution_count": 17,
   "metadata": {},
   "outputs": [
    {
     "data": {
      "text/plain": [
       "(4,)"
      ]
     },
     "execution_count": 17,
     "metadata": {},
     "output_type": "execute_result"
    }
   ],
   "source": [
    "res = np.concatenate(results,axis=0)\n",
    "choices = np.argmax(res,axis=1)\n",
    "choices.shape"
   ]
  },
  {
   "cell_type": "code",
   "execution_count": 18,
   "metadata": {},
   "outputs": [
    {
     "data": {
      "text/plain": [
       "array(['afternoon', 'morning', 'noon', 'morning'], dtype='<U9')"
      ]
     },
     "execution_count": 18,
     "metadata": {},
     "output_type": "execute_result"
    }
   ],
   "source": [
    "getlabel = lambda x:labels[x]\n",
    "vgetlabel = np.vectorize(getlabel)\n",
    "times = vgetlabel(choices)\n",
    "times"
   ]
  }
 ],
 "metadata": {
  "kernelspec": {
   "display_name": "Python 3",
   "language": "python",
   "name": "python3"
  },
  "language_info": {
   "codemirror_mode": {
    "name": "ipython",
    "version": 3
   },
   "file_extension": ".py",
   "mimetype": "text/x-python",
   "name": "python",
   "nbconvert_exporter": "python",
   "pygments_lexer": "ipython3",
   "version": "3.11.2"
  },
  "orig_nbformat": 4
 },
 "nbformat": 4,
 "nbformat_minor": 2
}
